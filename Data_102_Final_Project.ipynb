{
  "nbformat": 4,
  "nbformat_minor": 0,
  "metadata": {
    "colab": {
      "name": "Data 102 Final Project.ipynb",
      "provenance": [],
      "collapsed_sections": [],
      "toc_visible": true,
      "include_colab_link": true
    },
    "kernelspec": {
      "name": "python3",
      "display_name": "Python 3"
    },
    "language_info": {
      "name": "python"
    }
  },
  "cells": [
    {
      "cell_type": "markdown",
      "metadata": {
        "id": "view-in-github",
        "colab_type": "text"
      },
      "source": [
        "<a href=\"https://colab.research.google.com/github/SarahAncheta/data102/blob/main/Data_102_Final_Project.ipynb\" target=\"_parent\"><img src=\"https://colab.research.google.com/assets/colab-badge.svg\" alt=\"Open In Colab\"/></a>"
      ]
    },
    {
      "cell_type": "code",
      "metadata": {
        "id": "J4XG7MHYFJ_W",
        "colab": {
          "base_uri": "https://localhost:8080/"
        },
        "outputId": "9963c986-3bc0-4575-a488-158ecd25d9ec"
      },
      "source": [
        "import os\n",
        "from google.colab import drive\n",
        "drive.mount('/content/gdrive')"
      ],
      "execution_count": null,
      "outputs": [
        {
          "output_type": "stream",
          "text": [
            "Drive already mounted at /content/gdrive; to attempt to forcibly remount, call drive.mount(\"/content/gdrive\", force_remount=True).\n"
          ],
          "name": "stdout"
        }
      ]
    },
    {
      "cell_type": "code",
      "metadata": {
        "id": "3ioaeXNnFzeD"
      },
      "source": [
        "#@title set up mount symlink\n",
        "\n",
        "DRIVE_PATH = '/content/gdrive/My\\ Drive/data102_final_project'\n",
        "DRIVE_PYTHON_PATH = DRIVE_PATH.replace('\\\\', '')\n",
        "if not os.path.exists(DRIVE_PYTHON_PATH):\n",
        "  %mkdir $DRIVE_PATH\n",
        "\n",
        "## the space in `My Drive` causes some issues,\n",
        "## make a symlink to avoid this\n",
        "SYM_PATH = '/content/data102_final_project'\n",
        "if not os.path.exists(SYM_PATH):\n",
        "  !ln -s $DRIVE_PATH $SYM_PATH"
      ],
      "execution_count": null,
      "outputs": []
    },
    {
      "cell_type": "code",
      "metadata": {
        "id": "59YYaBEyWjTX",
        "colab": {
          "base_uri": "https://localhost:8080/"
        },
        "outputId": "a4e284d3-ac79-41b0-d18c-fb1d860aa5de"
      },
      "source": [
        "import numpy as np\n",
        "import pandas as pd\n",
        "from sklearn.model_selection import train_test_split\n",
        "from sklearn.linear_model import LogisticRegression\n",
        "from sklearn.metrics import accuracy_score\n",
        "import statsmodels.api as sm\n",
        "from sklearn.ensemble import RandomForestClassifier\n",
        "import matplotlib.pyplot as plt\n",
        "import seaborn as sns\n",
        "from scipy import stats\n",
        "from sklearn import linear_model\n",
        "import math\n",
        "import io"
      ],
      "execution_count": null,
      "outputs": [
        {
          "output_type": "stream",
          "text": [
            "/usr/local/lib/python3.7/dist-packages/statsmodels/tools/_testing.py:19: FutureWarning: pandas.util.testing is deprecated. Use the functions in the public API at pandas.testing instead.\n",
            "  import pandas.util.testing as tm\n"
          ],
          "name": "stderr"
        }
      ]
    },
    {
      "cell_type": "markdown",
      "metadata": {
        "id": "Nzx90AVD8xx5"
      },
      "source": [
        "### **Datasets**"
      ]
    },
    {
      "cell_type": "code",
      "metadata": {
        "colab": {
          "base_uri": "https://localhost:8080/"
        },
        "id": "4hsiIq4nW2dH",
        "outputId": "9509adeb-fbff-4ef0-96e2-2e288a5cf434"
      },
      "source": [
        "%cd data102_final_project"
      ],
      "execution_count": null,
      "outputs": [
        {
          "output_type": "stream",
          "text": [
            "/content/gdrive/My Drive/data102_final_project\n"
          ],
          "name": "stdout"
        }
      ]
    },
    {
      "cell_type": "code",
      "metadata": {
        "colab": {
          "base_uri": "https://localhost:8080/",
          "height": 760
        },
        "id": "dpDfAaU6k2Qd",
        "outputId": "b929ced8-774d-49e8-ea99-efc6e200d8c6"
      },
      "source": [
        "funding = pd.read_csv('candidate_summary_2018.csv')\n",
        "funding"
      ],
      "execution_count": null,
      "outputs": [
        {
          "output_type": "execute_result",
          "data": {
            "text/html": [
              "<div>\n",
              "<style scoped>\n",
              "    .dataframe tbody tr th:only-of-type {\n",
              "        vertical-align: middle;\n",
              "    }\n",
              "\n",
              "    .dataframe tbody tr th {\n",
              "        vertical-align: top;\n",
              "    }\n",
              "\n",
              "    .dataframe thead th {\n",
              "        text-align: right;\n",
              "    }\n",
              "</style>\n",
              "<table border=\"1\" class=\"dataframe\">\n",
              "  <thead>\n",
              "    <tr style=\"text-align: right;\">\n",
              "      <th></th>\n",
              "      <th>Link_Image</th>\n",
              "      <th>Cand_Name</th>\n",
              "      <th>Cand_Id</th>\n",
              "      <th>Cand_Office</th>\n",
              "      <th>Cand_Office_St</th>\n",
              "      <th>Cand_Office_Dist</th>\n",
              "      <th>Cand_Party_Affiliation</th>\n",
              "      <th>Cand_Incumbent_Challenger_Open_Seat</th>\n",
              "      <th>Total_Receipt</th>\n",
              "      <th>Total_Disbursement</th>\n",
              "      <th>Cash_On_Hand_COP</th>\n",
              "      <th>Debt_Owed_By_Committee</th>\n",
              "      <th>Coverage_End_Date</th>\n",
              "      <th>Cand_Street_1</th>\n",
              "      <th>Cand_Street_2</th>\n",
              "      <th>Cand_City</th>\n",
              "      <th>Cand_State</th>\n",
              "      <th>Cand_Zip</th>\n",
              "      <th>Individual_Itemized_Contribution</th>\n",
              "      <th>Individual_Unitemized_Contribution</th>\n",
              "      <th>Individual_Contribution</th>\n",
              "      <th>Other_Committee_Contribution</th>\n",
              "      <th>Party_Committee_Contribution</th>\n",
              "      <th>Cand_Contribution</th>\n",
              "      <th>Total_Contribution</th>\n",
              "      <th>Transfer_From_Other_Auth_Committee</th>\n",
              "      <th>Cand_Loan</th>\n",
              "      <th>Other_Loan</th>\n",
              "      <th>Total_Loan</th>\n",
              "      <th>Offsets_To_Operating_Expenditure</th>\n",
              "      <th>Offsets_To_Fundraising</th>\n",
              "      <th>Offsets_To_Leagal_Accounting</th>\n",
              "      <th>Other_Receipts</th>\n",
              "      <th>Operating_Expenditure</th>\n",
              "      <th>Exempt_Legal_Accounting_Disbursement</th>\n",
              "      <th>Fundraising_Disbursement</th>\n",
              "      <th>Transfer_To_Other_Auth_Committee</th>\n",
              "      <th>Cand_Loan_Repayment</th>\n",
              "      <th>Other_Loan_Repayment</th>\n",
              "      <th>Total_Loan_Repayment</th>\n",
              "      <th>Individual_Refund</th>\n",
              "      <th>Party_Committee_Refund</th>\n",
              "      <th>Other_Committee_Refund</th>\n",
              "      <th>Total_Contribution_Refund</th>\n",
              "      <th>Other_Disbursements</th>\n",
              "      <th>Net_Contribution</th>\n",
              "      <th>Net_Operating_Expenditure</th>\n",
              "      <th>Cash_On_Hand_BOP</th>\n",
              "      <th>Debt_Owe_To_Committee</th>\n",
              "      <th>Coverage_Start_Date</th>\n",
              "    </tr>\n",
              "  </thead>\n",
              "  <tbody>\n",
              "    <tr>\n",
              "      <th>0</th>\n",
              "      <td>https://www.fec.gov/data/candidate/H8TX05052/?...</td>\n",
              "      <td>ASHBY, KEN</td>\n",
              "      <td>H8TX05052</td>\n",
              "      <td>H</td>\n",
              "      <td>TX</td>\n",
              "      <td>4.0</td>\n",
              "      <td>LIB</td>\n",
              "      <td>CHALLENGER</td>\n",
              "      <td>0.00</td>\n",
              "      <td>0.00</td>\n",
              "      <td>0.00</td>\n",
              "      <td>0.0</td>\n",
              "      <td>NaN</td>\n",
              "      <td>11837 LOCHWOOD BOULEVARD</td>\n",
              "      <td>NaN</td>\n",
              "      <td>DALLAS</td>\n",
              "      <td>TX</td>\n",
              "      <td>75218.0</td>\n",
              "      <td>0.00</td>\n",
              "      <td>0.00</td>\n",
              "      <td>0.00</td>\n",
              "      <td>0.00</td>\n",
              "      <td>0.00</td>\n",
              "      <td>0.00</td>\n",
              "      <td>0.00</td>\n",
              "      <td>0.0</td>\n",
              "      <td>0.00</td>\n",
              "      <td>0.0</td>\n",
              "      <td>0.00</td>\n",
              "      <td>0.00</td>\n",
              "      <td>0</td>\n",
              "      <td>0</td>\n",
              "      <td>0.00</td>\n",
              "      <td>0.00</td>\n",
              "      <td>0.0</td>\n",
              "      <td>0.0</td>\n",
              "      <td>0.0</td>\n",
              "      <td>0.0</td>\n",
              "      <td>0.0</td>\n",
              "      <td>0.0</td>\n",
              "      <td>0.0</td>\n",
              "      <td>0.0</td>\n",
              "      <td>0.0</td>\n",
              "      <td>0.0</td>\n",
              "      <td>0.00</td>\n",
              "      <td>0.00</td>\n",
              "      <td>0.00</td>\n",
              "      <td>0.00</td>\n",
              "      <td>0.0</td>\n",
              "      <td>NaN</td>\n",
              "    </tr>\n",
              "    <tr>\n",
              "      <th>1</th>\n",
              "      <td>https://www.fec.gov/data/candidate/S6OH00288/?...</td>\n",
              "      <td>ECKHART, DON ELIJAH</td>\n",
              "      <td>S6OH00288</td>\n",
              "      <td>S</td>\n",
              "      <td>OH</td>\n",
              "      <td>0.0</td>\n",
              "      <td>REP</td>\n",
              "      <td>CHALLENGER</td>\n",
              "      <td>0.00</td>\n",
              "      <td>0.00</td>\n",
              "      <td>0.00</td>\n",
              "      <td>0.0</td>\n",
              "      <td>NaN</td>\n",
              "      <td>,</td>\n",
              "      <td>NaN</td>\n",
              "      <td>,</td>\n",
              "      <td>OH</td>\n",
              "      <td>43119.0</td>\n",
              "      <td>0.00</td>\n",
              "      <td>0.00</td>\n",
              "      <td>0.00</td>\n",
              "      <td>0.00</td>\n",
              "      <td>0.00</td>\n",
              "      <td>0.00</td>\n",
              "      <td>0.00</td>\n",
              "      <td>0.0</td>\n",
              "      <td>0.00</td>\n",
              "      <td>0.0</td>\n",
              "      <td>0.00</td>\n",
              "      <td>0.00</td>\n",
              "      <td>0</td>\n",
              "      <td>0</td>\n",
              "      <td>0.00</td>\n",
              "      <td>0.00</td>\n",
              "      <td>0.0</td>\n",
              "      <td>0.0</td>\n",
              "      <td>0.0</td>\n",
              "      <td>0.0</td>\n",
              "      <td>0.0</td>\n",
              "      <td>0.0</td>\n",
              "      <td>0.0</td>\n",
              "      <td>0.0</td>\n",
              "      <td>0.0</td>\n",
              "      <td>0.0</td>\n",
              "      <td>0.00</td>\n",
              "      <td>0.00</td>\n",
              "      <td>0.00</td>\n",
              "      <td>0.00</td>\n",
              "      <td>0.0</td>\n",
              "      <td>NaN</td>\n",
              "    </tr>\n",
              "    <tr>\n",
              "      <th>2</th>\n",
              "      <td>https://www.fec.gov/data/candidate/S8CA00499/?...</td>\n",
              "      <td>ZIESING, MICHAEL VINCENT</td>\n",
              "      <td>S8CA00499</td>\n",
              "      <td>S</td>\n",
              "      <td>CA</td>\n",
              "      <td>0.0</td>\n",
              "      <td>GRE</td>\n",
              "      <td>CHALLENGER</td>\n",
              "      <td>0.00</td>\n",
              "      <td>0.00</td>\n",
              "      <td>0.00</td>\n",
              "      <td>0.0</td>\n",
              "      <td>NaN</td>\n",
              "      <td>1220 ALOHA ST</td>\n",
              "      <td>NaN</td>\n",
              "      <td>RED BLUFF</td>\n",
              "      <td>CA</td>\n",
              "      <td>96080.0</td>\n",
              "      <td>0.00</td>\n",
              "      <td>0.00</td>\n",
              "      <td>0.00</td>\n",
              "      <td>0.00</td>\n",
              "      <td>0.00</td>\n",
              "      <td>0.00</td>\n",
              "      <td>0.00</td>\n",
              "      <td>0.0</td>\n",
              "      <td>0.00</td>\n",
              "      <td>0.0</td>\n",
              "      <td>0.00</td>\n",
              "      <td>0.00</td>\n",
              "      <td>0</td>\n",
              "      <td>0</td>\n",
              "      <td>0.00</td>\n",
              "      <td>0.00</td>\n",
              "      <td>0.0</td>\n",
              "      <td>0.0</td>\n",
              "      <td>0.0</td>\n",
              "      <td>0.0</td>\n",
              "      <td>0.0</td>\n",
              "      <td>0.0</td>\n",
              "      <td>0.0</td>\n",
              "      <td>0.0</td>\n",
              "      <td>0.0</td>\n",
              "      <td>0.0</td>\n",
              "      <td>0.00</td>\n",
              "      <td>0.00</td>\n",
              "      <td>0.00</td>\n",
              "      <td>0.00</td>\n",
              "      <td>0.0</td>\n",
              "      <td>NaN</td>\n",
              "    </tr>\n",
              "    <tr>\n",
              "      <th>3</th>\n",
              "      <td>https://www.fec.gov/data/candidate/H6NJ13191/?...</td>\n",
              "      <td>SIRES, ALBIO</td>\n",
              "      <td>H6NJ13191</td>\n",
              "      <td>H</td>\n",
              "      <td>NJ</td>\n",
              "      <td>8.0</td>\n",
              "      <td>DEM</td>\n",
              "      <td>INCUMBENT</td>\n",
              "      <td>460108.57</td>\n",
              "      <td>596546.56</td>\n",
              "      <td>158849.09</td>\n",
              "      <td>0.0</td>\n",
              "      <td>12/31/2018</td>\n",
              "      <td>6050 BOULEVARD EAST</td>\n",
              "      <td>APT 6B</td>\n",
              "      <td>WEST NEW YORK</td>\n",
              "      <td>NJ</td>\n",
              "      <td>7093.0</td>\n",
              "      <td>161321.54</td>\n",
              "      <td>1848.84</td>\n",
              "      <td>163170.38</td>\n",
              "      <td>296686.67</td>\n",
              "      <td>0.00</td>\n",
              "      <td>0.00</td>\n",
              "      <td>459857.05</td>\n",
              "      <td>0.0</td>\n",
              "      <td>0.00</td>\n",
              "      <td>0.0</td>\n",
              "      <td>0.00</td>\n",
              "      <td>0.00</td>\n",
              "      <td>0</td>\n",
              "      <td>0</td>\n",
              "      <td>251.52</td>\n",
              "      <td>437542.51</td>\n",
              "      <td>0.0</td>\n",
              "      <td>0.0</td>\n",
              "      <td>60000.0</td>\n",
              "      <td>0.0</td>\n",
              "      <td>0.0</td>\n",
              "      <td>0.0</td>\n",
              "      <td>0.0</td>\n",
              "      <td>0.0</td>\n",
              "      <td>500.0</td>\n",
              "      <td>500.0</td>\n",
              "      <td>98504.05</td>\n",
              "      <td>459357.05</td>\n",
              "      <td>437542.51</td>\n",
              "      <td>290287.08</td>\n",
              "      <td>0.0</td>\n",
              "      <td>01/01/2017</td>\n",
              "    </tr>\n",
              "    <tr>\n",
              "      <th>4</th>\n",
              "      <td>https://www.fec.gov/data/candidate/H6MI03172/?...</td>\n",
              "      <td>SMITH, DOUGLAS MARK MR. JR.</td>\n",
              "      <td>H6MI03172</td>\n",
              "      <td>H</td>\n",
              "      <td>MI</td>\n",
              "      <td>3.0</td>\n",
              "      <td>IND</td>\n",
              "      <td>CHALLENGER</td>\n",
              "      <td>0.00</td>\n",
              "      <td>3873.60</td>\n",
              "      <td>0.00</td>\n",
              "      <td>0.0</td>\n",
              "      <td>12/31/2018</td>\n",
              "      <td>1410 SCOTT CREEK DR.</td>\n",
              "      <td>NaN</td>\n",
              "      <td>BELMONT</td>\n",
              "      <td>MI</td>\n",
              "      <td>49306.0</td>\n",
              "      <td>0.00</td>\n",
              "      <td>0.00</td>\n",
              "      <td>0.00</td>\n",
              "      <td>0.00</td>\n",
              "      <td>0.00</td>\n",
              "      <td>0.00</td>\n",
              "      <td>0.00</td>\n",
              "      <td>0.0</td>\n",
              "      <td>0.00</td>\n",
              "      <td>0.0</td>\n",
              "      <td>0.00</td>\n",
              "      <td>0.00</td>\n",
              "      <td>0</td>\n",
              "      <td>0</td>\n",
              "      <td>0.00</td>\n",
              "      <td>3873.60</td>\n",
              "      <td>0.0</td>\n",
              "      <td>0.0</td>\n",
              "      <td>0.0</td>\n",
              "      <td>0.0</td>\n",
              "      <td>0.0</td>\n",
              "      <td>0.0</td>\n",
              "      <td>0.0</td>\n",
              "      <td>0.0</td>\n",
              "      <td>0.0</td>\n",
              "      <td>0.0</td>\n",
              "      <td>0.00</td>\n",
              "      <td>0.00</td>\n",
              "      <td>3873.60</td>\n",
              "      <td>3873.60</td>\n",
              "      <td>0.0</td>\n",
              "      <td>01/01/2017</td>\n",
              "    </tr>\n",
              "    <tr>\n",
              "      <th>...</th>\n",
              "      <td>...</td>\n",
              "      <td>...</td>\n",
              "      <td>...</td>\n",
              "      <td>...</td>\n",
              "      <td>...</td>\n",
              "      <td>...</td>\n",
              "      <td>...</td>\n",
              "      <td>...</td>\n",
              "      <td>...</td>\n",
              "      <td>...</td>\n",
              "      <td>...</td>\n",
              "      <td>...</td>\n",
              "      <td>...</td>\n",
              "      <td>...</td>\n",
              "      <td>...</td>\n",
              "      <td>...</td>\n",
              "      <td>...</td>\n",
              "      <td>...</td>\n",
              "      <td>...</td>\n",
              "      <td>...</td>\n",
              "      <td>...</td>\n",
              "      <td>...</td>\n",
              "      <td>...</td>\n",
              "      <td>...</td>\n",
              "      <td>...</td>\n",
              "      <td>...</td>\n",
              "      <td>...</td>\n",
              "      <td>...</td>\n",
              "      <td>...</td>\n",
              "      <td>...</td>\n",
              "      <td>...</td>\n",
              "      <td>...</td>\n",
              "      <td>...</td>\n",
              "      <td>...</td>\n",
              "      <td>...</td>\n",
              "      <td>...</td>\n",
              "      <td>...</td>\n",
              "      <td>...</td>\n",
              "      <td>...</td>\n",
              "      <td>...</td>\n",
              "      <td>...</td>\n",
              "      <td>...</td>\n",
              "      <td>...</td>\n",
              "      <td>...</td>\n",
              "      <td>...</td>\n",
              "      <td>...</td>\n",
              "      <td>...</td>\n",
              "      <td>...</td>\n",
              "      <td>...</td>\n",
              "      <td>...</td>\n",
              "    </tr>\n",
              "    <tr>\n",
              "      <th>3794</th>\n",
              "      <td>https://www.fec.gov/data/candidate/H6OH04082/?...</td>\n",
              "      <td>JORDAN, JAMES D.</td>\n",
              "      <td>H6OH04082</td>\n",
              "      <td>H</td>\n",
              "      <td>OH</td>\n",
              "      <td>4.0</td>\n",
              "      <td>REP</td>\n",
              "      <td>INCUMBENT</td>\n",
              "      <td>1241417.36</td>\n",
              "      <td>1809464.13</td>\n",
              "      <td>745640.94</td>\n",
              "      <td>0.0</td>\n",
              "      <td>12/31/2018</td>\n",
              "      <td>1709 SOUTH STATE ROUTE 560</td>\n",
              "      <td>NaN</td>\n",
              "      <td>URBANA</td>\n",
              "      <td>OH</td>\n",
              "      <td>43078.0</td>\n",
              "      <td>560189.00</td>\n",
              "      <td>350028.82</td>\n",
              "      <td>910217.82</td>\n",
              "      <td>306389.77</td>\n",
              "      <td>5000.00</td>\n",
              "      <td>0.00</td>\n",
              "      <td>1221607.59</td>\n",
              "      <td>0.0</td>\n",
              "      <td>0.00</td>\n",
              "      <td>0.0</td>\n",
              "      <td>0.00</td>\n",
              "      <td>72.15</td>\n",
              "      <td>0</td>\n",
              "      <td>0</td>\n",
              "      <td>19737.62</td>\n",
              "      <td>1599257.13</td>\n",
              "      <td>0.0</td>\n",
              "      <td>0.0</td>\n",
              "      <td>35000.0</td>\n",
              "      <td>0.0</td>\n",
              "      <td>0.0</td>\n",
              "      <td>0.0</td>\n",
              "      <td>11057.0</td>\n",
              "      <td>0.0</td>\n",
              "      <td>150.0</td>\n",
              "      <td>11207.0</td>\n",
              "      <td>164000.00</td>\n",
              "      <td>1210400.59</td>\n",
              "      <td>1599184.98</td>\n",
              "      <td>1313687.71</td>\n",
              "      <td>0.0</td>\n",
              "      <td>01/01/2017</td>\n",
              "    </tr>\n",
              "    <tr>\n",
              "      <th>3795</th>\n",
              "      <td>https://www.fec.gov/data/candidate/H8NY27176/?...</td>\n",
              "      <td>MCMURRAY, NATHAN DOUGLAS</td>\n",
              "      <td>H8NY27176</td>\n",
              "      <td>H</td>\n",
              "      <td>NY</td>\n",
              "      <td>27.0</td>\n",
              "      <td>DEM</td>\n",
              "      <td>OPEN</td>\n",
              "      <td>1387653.64</td>\n",
              "      <td>1364110.33</td>\n",
              "      <td>23543.31</td>\n",
              "      <td>0.0</td>\n",
              "      <td>12/31/2018</td>\n",
              "      <td>1041 FOXCROFT</td>\n",
              "      <td>NaN</td>\n",
              "      <td>GRAND ISLAND</td>\n",
              "      <td>NY</td>\n",
              "      <td>14072.0</td>\n",
              "      <td>629591.23</td>\n",
              "      <td>527391.94</td>\n",
              "      <td>1156983.17</td>\n",
              "      <td>151065.00</td>\n",
              "      <td>48163.31</td>\n",
              "      <td>1900.00</td>\n",
              "      <td>1358111.48</td>\n",
              "      <td>0.0</td>\n",
              "      <td>18000.00</td>\n",
              "      <td>0.0</td>\n",
              "      <td>18000.00</td>\n",
              "      <td>587.75</td>\n",
              "      <td>0</td>\n",
              "      <td>0</td>\n",
              "      <td>10954.41</td>\n",
              "      <td>1342096.72</td>\n",
              "      <td>0.0</td>\n",
              "      <td>0.0</td>\n",
              "      <td>0.0</td>\n",
              "      <td>18000.0</td>\n",
              "      <td>0.0</td>\n",
              "      <td>18000.0</td>\n",
              "      <td>3252.5</td>\n",
              "      <td>0.0</td>\n",
              "      <td>0.0</td>\n",
              "      <td>3252.5</td>\n",
              "      <td>761.11</td>\n",
              "      <td>1354858.98</td>\n",
              "      <td>1341508.97</td>\n",
              "      <td>0.00</td>\n",
              "      <td>0.0</td>\n",
              "      <td>01/01/2018</td>\n",
              "    </tr>\n",
              "    <tr>\n",
              "      <th>3796</th>\n",
              "      <td>https://www.fec.gov/data/candidate/H8IN06152/?...</td>\n",
              "      <td>LAKE, JEANNINE LEE</td>\n",
              "      <td>H8IN06152</td>\n",
              "      <td>H</td>\n",
              "      <td>IN</td>\n",
              "      <td>6.0</td>\n",
              "      <td>DEM</td>\n",
              "      <td>OPEN</td>\n",
              "      <td>100644.90</td>\n",
              "      <td>101754.84</td>\n",
              "      <td>50.58</td>\n",
              "      <td>0.0</td>\n",
              "      <td>12/31/2018</td>\n",
              "      <td>5300 NORTH CO. ROAD 500 WEST</td>\n",
              "      <td>NaN</td>\n",
              "      <td>MUNICE</td>\n",
              "      <td>IN</td>\n",
              "      <td>47304.0</td>\n",
              "      <td>37970.87</td>\n",
              "      <td>51484.23</td>\n",
              "      <td>89455.10</td>\n",
              "      <td>3415.29</td>\n",
              "      <td>370.04</td>\n",
              "      <td>898.27</td>\n",
              "      <td>94138.70</td>\n",
              "      <td>0.0</td>\n",
              "      <td>6216.66</td>\n",
              "      <td>0.0</td>\n",
              "      <td>6216.66</td>\n",
              "      <td>289.54</td>\n",
              "      <td>0</td>\n",
              "      <td>0</td>\n",
              "      <td>0.00</td>\n",
              "      <td>99183.84</td>\n",
              "      <td>0.0</td>\n",
              "      <td>0.0</td>\n",
              "      <td>200.0</td>\n",
              "      <td>0.0</td>\n",
              "      <td>0.0</td>\n",
              "      <td>0.0</td>\n",
              "      <td>2371.0</td>\n",
              "      <td>0.0</td>\n",
              "      <td>0.0</td>\n",
              "      <td>2371.0</td>\n",
              "      <td>0.00</td>\n",
              "      <td>91767.70</td>\n",
              "      <td>98894.30</td>\n",
              "      <td>100.00</td>\n",
              "      <td>0.0</td>\n",
              "      <td>07/04/2017</td>\n",
              "    </tr>\n",
              "    <tr>\n",
              "      <th>3797</th>\n",
              "      <td>https://www.fec.gov/data/candidate/H8MD01177/?...</td>\n",
              "      <td>GALBRAITH, ALLISON MS.</td>\n",
              "      <td>H8MD01177</td>\n",
              "      <td>H</td>\n",
              "      <td>MD</td>\n",
              "      <td>1.0</td>\n",
              "      <td>DEM</td>\n",
              "      <td>CHALLENGER</td>\n",
              "      <td>110517.66</td>\n",
              "      <td>110197.68</td>\n",
              "      <td>319.98</td>\n",
              "      <td>350.0</td>\n",
              "      <td>12/31/2018</td>\n",
              "      <td>PO BOX 25</td>\n",
              "      <td>NaN</td>\n",
              "      <td>FALLSTON</td>\n",
              "      <td>MD</td>\n",
              "      <td>21047.0</td>\n",
              "      <td>33834.61</td>\n",
              "      <td>76231.05</td>\n",
              "      <td>110065.66</td>\n",
              "      <td>0.00</td>\n",
              "      <td>0.00</td>\n",
              "      <td>102.00</td>\n",
              "      <td>110167.66</td>\n",
              "      <td>0.0</td>\n",
              "      <td>350.00</td>\n",
              "      <td>0.0</td>\n",
              "      <td>350.00</td>\n",
              "      <td>0.00</td>\n",
              "      <td>0</td>\n",
              "      <td>0</td>\n",
              "      <td>0.00</td>\n",
              "      <td>110197.68</td>\n",
              "      <td>0.0</td>\n",
              "      <td>0.0</td>\n",
              "      <td>0.0</td>\n",
              "      <td>0.0</td>\n",
              "      <td>0.0</td>\n",
              "      <td>0.0</td>\n",
              "      <td>0.0</td>\n",
              "      <td>0.0</td>\n",
              "      <td>0.0</td>\n",
              "      <td>0.0</td>\n",
              "      <td>0.00</td>\n",
              "      <td>110167.66</td>\n",
              "      <td>110197.68</td>\n",
              "      <td>0.00</td>\n",
              "      <td>0.0</td>\n",
              "      <td>04/01/2017</td>\n",
              "    </tr>\n",
              "    <tr>\n",
              "      <th>3798</th>\n",
              "      <td>https://www.fec.gov/data/candidate/H8CO06294/?...</td>\n",
              "      <td>KULIKOWSKI, JAIMIE BLACKLIGHT POLISH J</td>\n",
              "      <td>H8CO06294</td>\n",
              "      <td>H</td>\n",
              "      <td>CO</td>\n",
              "      <td>6.0</td>\n",
              "      <td>REP</td>\n",
              "      <td>CHALLENGER</td>\n",
              "      <td>119858.75</td>\n",
              "      <td>0.00</td>\n",
              "      <td>60500.00</td>\n",
              "      <td>0.0</td>\n",
              "      <td>12/31/2018</td>\n",
              "      <td>1191 S YOSEMITE WAY</td>\n",
              "      <td>UNIT 45</td>\n",
              "      <td>DENVER</td>\n",
              "      <td>CO</td>\n",
              "      <td>80247.0</td>\n",
              "      <td>0.00</td>\n",
              "      <td>0.00</td>\n",
              "      <td>0.00</td>\n",
              "      <td>0.00</td>\n",
              "      <td>0.00</td>\n",
              "      <td>119858.75</td>\n",
              "      <td>119858.75</td>\n",
              "      <td>0.0</td>\n",
              "      <td>0.00</td>\n",
              "      <td>0.0</td>\n",
              "      <td>0.00</td>\n",
              "      <td>0.00</td>\n",
              "      <td>0</td>\n",
              "      <td>0</td>\n",
              "      <td>0.00</td>\n",
              "      <td>0.00</td>\n",
              "      <td>0.0</td>\n",
              "      <td>0.0</td>\n",
              "      <td>0.0</td>\n",
              "      <td>0.0</td>\n",
              "      <td>0.0</td>\n",
              "      <td>0.0</td>\n",
              "      <td>0.0</td>\n",
              "      <td>0.0</td>\n",
              "      <td>0.0</td>\n",
              "      <td>0.0</td>\n",
              "      <td>0.00</td>\n",
              "      <td>119858.75</td>\n",
              "      <td>0.00</td>\n",
              "      <td>0.00</td>\n",
              "      <td>0.0</td>\n",
              "      <td>07/01/2018</td>\n",
              "    </tr>\n",
              "  </tbody>\n",
              "</table>\n",
              "<p>3799 rows × 50 columns</p>\n",
              "</div>"
            ],
            "text/plain": [
              "                                             Link_Image  ... Coverage_Start_Date\n",
              "0     https://www.fec.gov/data/candidate/H8TX05052/?...  ...                 NaN\n",
              "1     https://www.fec.gov/data/candidate/S6OH00288/?...  ...                 NaN\n",
              "2     https://www.fec.gov/data/candidate/S8CA00499/?...  ...                 NaN\n",
              "3     https://www.fec.gov/data/candidate/H6NJ13191/?...  ...          01/01/2017\n",
              "4     https://www.fec.gov/data/candidate/H6MI03172/?...  ...          01/01/2017\n",
              "...                                                 ...  ...                 ...\n",
              "3794  https://www.fec.gov/data/candidate/H6OH04082/?...  ...          01/01/2017\n",
              "3795  https://www.fec.gov/data/candidate/H8NY27176/?...  ...          01/01/2018\n",
              "3796  https://www.fec.gov/data/candidate/H8IN06152/?...  ...          07/04/2017\n",
              "3797  https://www.fec.gov/data/candidate/H8MD01177/?...  ...          04/01/2017\n",
              "3798  https://www.fec.gov/data/candidate/H8CO06294/?...  ...          07/01/2018\n",
              "\n",
              "[3799 rows x 50 columns]"
            ]
          },
          "metadata": {
            "tags": []
          },
          "execution_count": 6
        }
      ]
    },
    {
      "cell_type": "code",
      "metadata": {
        "id": "0FxvkyKRR8Ye",
        "colab": {
          "base_uri": "https://localhost:8080/",
          "height": 726
        },
        "outputId": "76d696ff-ba3d-4636-8d77-b94e3b7317da"
      },
      "source": [
        "rep = pd.read_csv('rep_candidates.csv', encoding='cp1252')\n",
        "rep"
      ],
      "execution_count": null,
      "outputs": [
        {
          "output_type": "execute_result",
          "data": {
            "text/html": [
              "<div>\n",
              "<style scoped>\n",
              "    .dataframe tbody tr th:only-of-type {\n",
              "        vertical-align: middle;\n",
              "    }\n",
              "\n",
              "    .dataframe tbody tr th {\n",
              "        vertical-align: top;\n",
              "    }\n",
              "\n",
              "    .dataframe thead th {\n",
              "        text-align: right;\n",
              "    }\n",
              "</style>\n",
              "<table border=\"1\" class=\"dataframe\">\n",
              "  <thead>\n",
              "    <tr style=\"text-align: right;\">\n",
              "      <th></th>\n",
              "      <th>Candidate</th>\n",
              "      <th>State</th>\n",
              "      <th>District</th>\n",
              "      <th>Office Type</th>\n",
              "      <th>Race Type</th>\n",
              "      <th>Race Primary Election Date</th>\n",
              "      <th>Primary Status</th>\n",
              "      <th>Primary Runoff Status</th>\n",
              "      <th>General Status</th>\n",
              "      <th>Primary %</th>\n",
              "      <th>Won Primary</th>\n",
              "      <th>Rep Party Support?</th>\n",
              "      <th>Trump Endorsed?</th>\n",
              "      <th>Bannon Endorsed?</th>\n",
              "      <th>Great America Endorsed?</th>\n",
              "      <th>NRA Endorsed?</th>\n",
              "      <th>Right to Life Endorsed?</th>\n",
              "      <th>Susan B. Anthony Endorsed?</th>\n",
              "      <th>Club for Growth Endorsed?</th>\n",
              "      <th>Koch Support?</th>\n",
              "      <th>House Freedom Support?</th>\n",
              "      <th>Tea Party Endorsed?</th>\n",
              "      <th>Main Street Endorsed?</th>\n",
              "      <th>Chamber Endorsed?</th>\n",
              "      <th>No Labels Support?</th>\n",
              "    </tr>\n",
              "  </thead>\n",
              "  <tbody>\n",
              "    <tr>\n",
              "      <th>0</th>\n",
              "      <td>Mike Dunleavy</td>\n",
              "      <td>AK</td>\n",
              "      <td>Governor of Alaska</td>\n",
              "      <td>Governor</td>\n",
              "      <td>Regular</td>\n",
              "      <td>8/21/18</td>\n",
              "      <td>Advanced</td>\n",
              "      <td>None</td>\n",
              "      <td>On the Ballot</td>\n",
              "      <td>61.8</td>\n",
              "      <td>Yes</td>\n",
              "      <td>NaN</td>\n",
              "      <td>NaN</td>\n",
              "      <td>NaN</td>\n",
              "      <td>NaN</td>\n",
              "      <td>NaN</td>\n",
              "      <td>NaN</td>\n",
              "      <td>NaN</td>\n",
              "      <td>NaN</td>\n",
              "      <td>NaN</td>\n",
              "      <td>NaN</td>\n",
              "      <td>NaN</td>\n",
              "      <td>NaN</td>\n",
              "      <td>NaN</td>\n",
              "      <td>NaN</td>\n",
              "    </tr>\n",
              "    <tr>\n",
              "      <th>1</th>\n",
              "      <td>Michael Sheldon</td>\n",
              "      <td>AK</td>\n",
              "      <td>Governor of Alaska</td>\n",
              "      <td>Governor</td>\n",
              "      <td>Regular</td>\n",
              "      <td>8/21/18</td>\n",
              "      <td>Lost</td>\n",
              "      <td>None</td>\n",
              "      <td>None</td>\n",
              "      <td>2.2</td>\n",
              "      <td>No</td>\n",
              "      <td>NaN</td>\n",
              "      <td>NaN</td>\n",
              "      <td>NaN</td>\n",
              "      <td>NaN</td>\n",
              "      <td>NaN</td>\n",
              "      <td>NaN</td>\n",
              "      <td>NaN</td>\n",
              "      <td>NaN</td>\n",
              "      <td>NaN</td>\n",
              "      <td>NaN</td>\n",
              "      <td>NaN</td>\n",
              "      <td>NaN</td>\n",
              "      <td>NaN</td>\n",
              "      <td>NaN</td>\n",
              "    </tr>\n",
              "    <tr>\n",
              "      <th>2</th>\n",
              "      <td>Mead Treadwell</td>\n",
              "      <td>AK</td>\n",
              "      <td>Governor of Alaska</td>\n",
              "      <td>Governor</td>\n",
              "      <td>Regular</td>\n",
              "      <td>8/21/18</td>\n",
              "      <td>Lost</td>\n",
              "      <td>None</td>\n",
              "      <td>None</td>\n",
              "      <td>31.9</td>\n",
              "      <td>No</td>\n",
              "      <td>NaN</td>\n",
              "      <td>NaN</td>\n",
              "      <td>NaN</td>\n",
              "      <td>NaN</td>\n",
              "      <td>NaN</td>\n",
              "      <td>NaN</td>\n",
              "      <td>NaN</td>\n",
              "      <td>NaN</td>\n",
              "      <td>NaN</td>\n",
              "      <td>NaN</td>\n",
              "      <td>NaN</td>\n",
              "      <td>NaN</td>\n",
              "      <td>NaN</td>\n",
              "      <td>NaN</td>\n",
              "    </tr>\n",
              "    <tr>\n",
              "      <th>3</th>\n",
              "      <td>Darin Colbry</td>\n",
              "      <td>AK</td>\n",
              "      <td>Governor of Alaska</td>\n",
              "      <td>Governor</td>\n",
              "      <td>Regular</td>\n",
              "      <td>8/21/18</td>\n",
              "      <td>Lost</td>\n",
              "      <td>None</td>\n",
              "      <td>None</td>\n",
              "      <td>0.6</td>\n",
              "      <td>No</td>\n",
              "      <td>NaN</td>\n",
              "      <td>NaN</td>\n",
              "      <td>NaN</td>\n",
              "      <td>NaN</td>\n",
              "      <td>NaN</td>\n",
              "      <td>NaN</td>\n",
              "      <td>NaN</td>\n",
              "      <td>NaN</td>\n",
              "      <td>NaN</td>\n",
              "      <td>NaN</td>\n",
              "      <td>NaN</td>\n",
              "      <td>NaN</td>\n",
              "      <td>NaN</td>\n",
              "      <td>NaN</td>\n",
              "    </tr>\n",
              "    <tr>\n",
              "      <th>4</th>\n",
              "      <td>Thomas Gordon</td>\n",
              "      <td>AK</td>\n",
              "      <td>Governor of Alaska</td>\n",
              "      <td>Governor</td>\n",
              "      <td>Regular</td>\n",
              "      <td>8/21/18</td>\n",
              "      <td>Lost</td>\n",
              "      <td>None</td>\n",
              "      <td>None</td>\n",
              "      <td>1.3</td>\n",
              "      <td>No</td>\n",
              "      <td>NaN</td>\n",
              "      <td>NaN</td>\n",
              "      <td>NaN</td>\n",
              "      <td>NaN</td>\n",
              "      <td>NaN</td>\n",
              "      <td>NaN</td>\n",
              "      <td>NaN</td>\n",
              "      <td>NaN</td>\n",
              "      <td>NaN</td>\n",
              "      <td>NaN</td>\n",
              "      <td>NaN</td>\n",
              "      <td>NaN</td>\n",
              "      <td>NaN</td>\n",
              "      <td>NaN</td>\n",
              "    </tr>\n",
              "    <tr>\n",
              "      <th>...</th>\n",
              "      <td>...</td>\n",
              "      <td>...</td>\n",
              "      <td>...</td>\n",
              "      <td>...</td>\n",
              "      <td>...</td>\n",
              "      <td>...</td>\n",
              "      <td>...</td>\n",
              "      <td>...</td>\n",
              "      <td>...</td>\n",
              "      <td>...</td>\n",
              "      <td>...</td>\n",
              "      <td>...</td>\n",
              "      <td>...</td>\n",
              "      <td>...</td>\n",
              "      <td>...</td>\n",
              "      <td>...</td>\n",
              "      <td>...</td>\n",
              "      <td>...</td>\n",
              "      <td>...</td>\n",
              "      <td>...</td>\n",
              "      <td>...</td>\n",
              "      <td>...</td>\n",
              "      <td>...</td>\n",
              "      <td>...</td>\n",
              "      <td>...</td>\n",
              "    </tr>\n",
              "    <tr>\n",
              "      <th>769</th>\n",
              "      <td>Bill Dahlin</td>\n",
              "      <td>WY</td>\n",
              "      <td>Governor of Wyoming</td>\n",
              "      <td>Governor</td>\n",
              "      <td>Regular</td>\n",
              "      <td>8/21/18</td>\n",
              "      <td>Lost</td>\n",
              "      <td>None</td>\n",
              "      <td>None</td>\n",
              "      <td>1.5</td>\n",
              "      <td>No</td>\n",
              "      <td>NaN</td>\n",
              "      <td>No</td>\n",
              "      <td>NaN</td>\n",
              "      <td>NaN</td>\n",
              "      <td>NaN</td>\n",
              "      <td>No</td>\n",
              "      <td>NaN</td>\n",
              "      <td>NaN</td>\n",
              "      <td>NaN</td>\n",
              "      <td>NaN</td>\n",
              "      <td>NaN</td>\n",
              "      <td>NaN</td>\n",
              "      <td>NaN</td>\n",
              "      <td>NaN</td>\n",
              "    </tr>\n",
              "    <tr>\n",
              "      <th>770</th>\n",
              "      <td>Harriet Hageman</td>\n",
              "      <td>WY</td>\n",
              "      <td>Governor of Wyoming</td>\n",
              "      <td>Governor</td>\n",
              "      <td>Regular</td>\n",
              "      <td>8/21/18</td>\n",
              "      <td>Lost</td>\n",
              "      <td>None</td>\n",
              "      <td>None</td>\n",
              "      <td>21.5</td>\n",
              "      <td>No</td>\n",
              "      <td>NaN</td>\n",
              "      <td>No</td>\n",
              "      <td>NaN</td>\n",
              "      <td>NaN</td>\n",
              "      <td>NaN</td>\n",
              "      <td>Yes</td>\n",
              "      <td>NaN</td>\n",
              "      <td>NaN</td>\n",
              "      <td>NaN</td>\n",
              "      <td>NaN</td>\n",
              "      <td>NaN</td>\n",
              "      <td>NaN</td>\n",
              "      <td>NaN</td>\n",
              "      <td>NaN</td>\n",
              "    </tr>\n",
              "    <tr>\n",
              "      <th>771</th>\n",
              "      <td>Sam Galeotos</td>\n",
              "      <td>WY</td>\n",
              "      <td>Governor of Wyoming</td>\n",
              "      <td>Governor</td>\n",
              "      <td>Regular</td>\n",
              "      <td>8/21/18</td>\n",
              "      <td>Lost</td>\n",
              "      <td>None</td>\n",
              "      <td>None</td>\n",
              "      <td>12.5</td>\n",
              "      <td>No</td>\n",
              "      <td>NaN</td>\n",
              "      <td>No</td>\n",
              "      <td>NaN</td>\n",
              "      <td>NaN</td>\n",
              "      <td>NaN</td>\n",
              "      <td>Yes</td>\n",
              "      <td>NaN</td>\n",
              "      <td>NaN</td>\n",
              "      <td>NaN</td>\n",
              "      <td>NaN</td>\n",
              "      <td>NaN</td>\n",
              "      <td>NaN</td>\n",
              "      <td>NaN</td>\n",
              "      <td>NaN</td>\n",
              "    </tr>\n",
              "    <tr>\n",
              "      <th>772</th>\n",
              "      <td>Foster Friess</td>\n",
              "      <td>WY</td>\n",
              "      <td>Governor of Wyoming</td>\n",
              "      <td>Governor</td>\n",
              "      <td>Regular</td>\n",
              "      <td>8/21/18</td>\n",
              "      <td>Lost</td>\n",
              "      <td>None</td>\n",
              "      <td>None</td>\n",
              "      <td>25.6</td>\n",
              "      <td>No</td>\n",
              "      <td>NaN</td>\n",
              "      <td>Yes</td>\n",
              "      <td>NaN</td>\n",
              "      <td>NaN</td>\n",
              "      <td>NaN</td>\n",
              "      <td>Yes</td>\n",
              "      <td>NaN</td>\n",
              "      <td>NaN</td>\n",
              "      <td>NaN</td>\n",
              "      <td>NaN</td>\n",
              "      <td>NaN</td>\n",
              "      <td>NaN</td>\n",
              "      <td>NaN</td>\n",
              "      <td>NaN</td>\n",
              "    </tr>\n",
              "    <tr>\n",
              "      <th>773</th>\n",
              "      <td>Taylor Haynes</td>\n",
              "      <td>WY</td>\n",
              "      <td>Governor of Wyoming</td>\n",
              "      <td>Governor</td>\n",
              "      <td>Regular</td>\n",
              "      <td>8/21/18</td>\n",
              "      <td>Lost</td>\n",
              "      <td>None</td>\n",
              "      <td>None</td>\n",
              "      <td>5.6</td>\n",
              "      <td>No</td>\n",
              "      <td>NaN</td>\n",
              "      <td>No</td>\n",
              "      <td>NaN</td>\n",
              "      <td>NaN</td>\n",
              "      <td>NaN</td>\n",
              "      <td>Yes</td>\n",
              "      <td>NaN</td>\n",
              "      <td>NaN</td>\n",
              "      <td>NaN</td>\n",
              "      <td>NaN</td>\n",
              "      <td>NaN</td>\n",
              "      <td>NaN</td>\n",
              "      <td>NaN</td>\n",
              "      <td>NaN</td>\n",
              "    </tr>\n",
              "  </tbody>\n",
              "</table>\n",
              "<p>774 rows × 25 columns</p>\n",
              "</div>"
            ],
            "text/plain": [
              "           Candidate State  ... Chamber Endorsed? No Labels Support?\n",
              "0      Mike Dunleavy    AK  ...               NaN                NaN\n",
              "1    Michael Sheldon    AK  ...               NaN                NaN\n",
              "2     Mead Treadwell    AK  ...               NaN                NaN\n",
              "3       Darin Colbry    AK  ...               NaN                NaN\n",
              "4      Thomas Gordon    AK  ...               NaN                NaN\n",
              "..               ...   ...  ...               ...                ...\n",
              "769      Bill Dahlin    WY  ...               NaN                NaN\n",
              "770  Harriet Hageman    WY  ...               NaN                NaN\n",
              "771     Sam Galeotos    WY  ...               NaN                NaN\n",
              "772    Foster Friess    WY  ...               NaN                NaN\n",
              "773    Taylor Haynes    WY  ...               NaN                NaN\n",
              "\n",
              "[774 rows x 25 columns]"
            ]
          },
          "metadata": {
            "tags": []
          },
          "execution_count": 7
        }
      ]
    },
    {
      "cell_type": "code",
      "metadata": {
        "id": "16MoILYSWhPD",
        "colab": {
          "base_uri": "https://localhost:8080/",
          "height": 976
        },
        "outputId": "b978259d-2888-4a5f-a817-1db646a5efa7"
      },
      "source": [
        "dem = pd.read_csv('dem_candidates.csv', encoding='cp1252')\n",
        "dem"
      ],
      "execution_count": null,
      "outputs": [
        {
          "output_type": "execute_result",
          "data": {
            "text/html": [
              "<div>\n",
              "<style scoped>\n",
              "    .dataframe tbody tr th:only-of-type {\n",
              "        vertical-align: middle;\n",
              "    }\n",
              "\n",
              "    .dataframe tbody tr th {\n",
              "        vertical-align: top;\n",
              "    }\n",
              "\n",
              "    .dataframe thead th {\n",
              "        text-align: right;\n",
              "    }\n",
              "</style>\n",
              "<table border=\"1\" class=\"dataframe\">\n",
              "  <thead>\n",
              "    <tr style=\"text-align: right;\">\n",
              "      <th></th>\n",
              "      <th>Candidate</th>\n",
              "      <th>State</th>\n",
              "      <th>District</th>\n",
              "      <th>Office Type</th>\n",
              "      <th>Race Type</th>\n",
              "      <th>Race Primary Election Date</th>\n",
              "      <th>Primary Status</th>\n",
              "      <th>Primary Runoff Status</th>\n",
              "      <th>General Status</th>\n",
              "      <th>Partisan Lean</th>\n",
              "      <th>Primary %</th>\n",
              "      <th>Won Primary</th>\n",
              "      <th>Race</th>\n",
              "      <th>Veteran?</th>\n",
              "      <th>LGBTQ?</th>\n",
              "      <th>Elected Official?</th>\n",
              "      <th>Self-Funder?</th>\n",
              "      <th>STEM?</th>\n",
              "      <th>Obama Alum?</th>\n",
              "      <th>Party Support?</th>\n",
              "      <th>Emily Endorsed?</th>\n",
              "      <th>Guns Sense Candidate?</th>\n",
              "      <th>Biden Endorsed?</th>\n",
              "      <th>Warren Endorsed?</th>\n",
              "      <th>Sanders Endorsed?</th>\n",
              "      <th>Our Revolution Endorsed?</th>\n",
              "      <th>Justice Dems Endorsed?</th>\n",
              "      <th>PCCC Endorsed?</th>\n",
              "      <th>Indivisible Endorsed?</th>\n",
              "      <th>WFP Endorsed?</th>\n",
              "      <th>VoteVets Endorsed?</th>\n",
              "      <th>No Labels Support?</th>\n",
              "    </tr>\n",
              "  </thead>\n",
              "  <tbody>\n",
              "    <tr>\n",
              "      <th>0</th>\n",
              "      <td>Anthony White (Alabama)</td>\n",
              "      <td>AL</td>\n",
              "      <td>Governor of Alabama</td>\n",
              "      <td>Governor</td>\n",
              "      <td>Regular</td>\n",
              "      <td>6/5/18</td>\n",
              "      <td>Lost</td>\n",
              "      <td>None</td>\n",
              "      <td>None</td>\n",
              "      <td>-28.879999</td>\n",
              "      <td>3.420000</td>\n",
              "      <td>No</td>\n",
              "      <td>Nonwhite</td>\n",
              "      <td>Yes</td>\n",
              "      <td>No</td>\n",
              "      <td>No</td>\n",
              "      <td>No</td>\n",
              "      <td>No</td>\n",
              "      <td>No</td>\n",
              "      <td>NaN</td>\n",
              "      <td>NaN</td>\n",
              "      <td>No</td>\n",
              "      <td>NaN</td>\n",
              "      <td>NaN</td>\n",
              "      <td>NaN</td>\n",
              "      <td>NaN</td>\n",
              "      <td>NaN</td>\n",
              "      <td>NaN</td>\n",
              "      <td>NaN</td>\n",
              "      <td>NaN</td>\n",
              "      <td>NaN</td>\n",
              "      <td>NaN</td>\n",
              "    </tr>\n",
              "    <tr>\n",
              "      <th>1</th>\n",
              "      <td>Christopher Countryman</td>\n",
              "      <td>AL</td>\n",
              "      <td>Governor of Alabama</td>\n",
              "      <td>Governor</td>\n",
              "      <td>Regular</td>\n",
              "      <td>6/5/18</td>\n",
              "      <td>Lost</td>\n",
              "      <td>None</td>\n",
              "      <td>None</td>\n",
              "      <td>-28.879999</td>\n",
              "      <td>1.740000</td>\n",
              "      <td>No</td>\n",
              "      <td>White</td>\n",
              "      <td>No</td>\n",
              "      <td>Yes</td>\n",
              "      <td>No</td>\n",
              "      <td>No</td>\n",
              "      <td>No</td>\n",
              "      <td>No</td>\n",
              "      <td>NaN</td>\n",
              "      <td>NaN</td>\n",
              "      <td>No</td>\n",
              "      <td>NaN</td>\n",
              "      <td>NaN</td>\n",
              "      <td>NaN</td>\n",
              "      <td>NaN</td>\n",
              "      <td>NaN</td>\n",
              "      <td>NaN</td>\n",
              "      <td>NaN</td>\n",
              "      <td>NaN</td>\n",
              "      <td>NaN</td>\n",
              "      <td>NaN</td>\n",
              "    </tr>\n",
              "    <tr>\n",
              "      <th>2</th>\n",
              "      <td>Doug \"New Blue\" Smith</td>\n",
              "      <td>AL</td>\n",
              "      <td>Governor of Alabama</td>\n",
              "      <td>Governor</td>\n",
              "      <td>Regular</td>\n",
              "      <td>6/5/18</td>\n",
              "      <td>Lost</td>\n",
              "      <td>None</td>\n",
              "      <td>None</td>\n",
              "      <td>-28.879999</td>\n",
              "      <td>3.270000</td>\n",
              "      <td>No</td>\n",
              "      <td>White</td>\n",
              "      <td>Yes</td>\n",
              "      <td>No</td>\n",
              "      <td>No</td>\n",
              "      <td>No</td>\n",
              "      <td>No</td>\n",
              "      <td>No</td>\n",
              "      <td>NaN</td>\n",
              "      <td>NaN</td>\n",
              "      <td>No</td>\n",
              "      <td>NaN</td>\n",
              "      <td>NaN</td>\n",
              "      <td>NaN</td>\n",
              "      <td>NaN</td>\n",
              "      <td>NaN</td>\n",
              "      <td>NaN</td>\n",
              "      <td>NaN</td>\n",
              "      <td>NaN</td>\n",
              "      <td>NaN</td>\n",
              "      <td>NaN</td>\n",
              "    </tr>\n",
              "    <tr>\n",
              "      <th>3</th>\n",
              "      <td>James C. Fields</td>\n",
              "      <td>AL</td>\n",
              "      <td>Governor of Alabama</td>\n",
              "      <td>Governor</td>\n",
              "      <td>Regular</td>\n",
              "      <td>6/5/18</td>\n",
              "      <td>Lost</td>\n",
              "      <td>None</td>\n",
              "      <td>None</td>\n",
              "      <td>-28.879999</td>\n",
              "      <td>8.000000</td>\n",
              "      <td>No</td>\n",
              "      <td>Nonwhite</td>\n",
              "      <td>Yes</td>\n",
              "      <td>No</td>\n",
              "      <td>Yes</td>\n",
              "      <td>No</td>\n",
              "      <td>No</td>\n",
              "      <td>No</td>\n",
              "      <td>NaN</td>\n",
              "      <td>NaN</td>\n",
              "      <td>No</td>\n",
              "      <td>NaN</td>\n",
              "      <td>NaN</td>\n",
              "      <td>NaN</td>\n",
              "      <td>NaN</td>\n",
              "      <td>NaN</td>\n",
              "      <td>NaN</td>\n",
              "      <td>NaN</td>\n",
              "      <td>NaN</td>\n",
              "      <td>NaN</td>\n",
              "      <td>NaN</td>\n",
              "    </tr>\n",
              "    <tr>\n",
              "      <th>4</th>\n",
              "      <td>Sue Bell Cobb</td>\n",
              "      <td>AL</td>\n",
              "      <td>Governor of Alabama</td>\n",
              "      <td>Governor</td>\n",
              "      <td>Regular</td>\n",
              "      <td>6/5/18</td>\n",
              "      <td>Lost</td>\n",
              "      <td>None</td>\n",
              "      <td>None</td>\n",
              "      <td>-28.879999</td>\n",
              "      <td>28.980000</td>\n",
              "      <td>No</td>\n",
              "      <td>White</td>\n",
              "      <td>No</td>\n",
              "      <td>No</td>\n",
              "      <td>Yes</td>\n",
              "      <td>No</td>\n",
              "      <td>No</td>\n",
              "      <td>No</td>\n",
              "      <td>NaN</td>\n",
              "      <td>NaN</td>\n",
              "      <td>No</td>\n",
              "      <td>NaN</td>\n",
              "      <td>NaN</td>\n",
              "      <td>NaN</td>\n",
              "      <td>NaN</td>\n",
              "      <td>NaN</td>\n",
              "      <td>NaN</td>\n",
              "      <td>NaN</td>\n",
              "      <td>NaN</td>\n",
              "      <td>NaN</td>\n",
              "      <td>NaN</td>\n",
              "    </tr>\n",
              "    <tr>\n",
              "      <th>...</th>\n",
              "      <td>...</td>\n",
              "      <td>...</td>\n",
              "      <td>...</td>\n",
              "      <td>...</td>\n",
              "      <td>...</td>\n",
              "      <td>...</td>\n",
              "      <td>...</td>\n",
              "      <td>...</td>\n",
              "      <td>...</td>\n",
              "      <td>...</td>\n",
              "      <td>...</td>\n",
              "      <td>...</td>\n",
              "      <td>...</td>\n",
              "      <td>...</td>\n",
              "      <td>...</td>\n",
              "      <td>...</td>\n",
              "      <td>...</td>\n",
              "      <td>...</td>\n",
              "      <td>...</td>\n",
              "      <td>...</td>\n",
              "      <td>...</td>\n",
              "      <td>...</td>\n",
              "      <td>...</td>\n",
              "      <td>...</td>\n",
              "      <td>...</td>\n",
              "      <td>...</td>\n",
              "      <td>...</td>\n",
              "      <td>...</td>\n",
              "      <td>...</td>\n",
              "      <td>...</td>\n",
              "      <td>...</td>\n",
              "      <td>...</td>\n",
              "    </tr>\n",
              "    <tr>\n",
              "      <th>806</th>\n",
              "      <td>Talley Sergent</td>\n",
              "      <td>WV</td>\n",
              "      <td>U.S. House West Virginia District 2</td>\n",
              "      <td>Representative</td>\n",
              "      <td>Regular</td>\n",
              "      <td>5/8/18</td>\n",
              "      <td>Advanced</td>\n",
              "      <td>None</td>\n",
              "      <td>On the Ballot</td>\n",
              "      <td>-35.330002</td>\n",
              "      <td>62.570000</td>\n",
              "      <td>Yes</td>\n",
              "      <td>White</td>\n",
              "      <td>No</td>\n",
              "      <td>No</td>\n",
              "      <td>No</td>\n",
              "      <td>No</td>\n",
              "      <td>No</td>\n",
              "      <td>Yes</td>\n",
              "      <td>NaN</td>\n",
              "      <td>NaN</td>\n",
              "      <td>NaN</td>\n",
              "      <td>NaN</td>\n",
              "      <td>NaN</td>\n",
              "      <td>NaN</td>\n",
              "      <td>NaN</td>\n",
              "      <td>NaN</td>\n",
              "      <td>NaN</td>\n",
              "      <td>NaN</td>\n",
              "      <td>NaN</td>\n",
              "      <td>No</td>\n",
              "      <td>NaN</td>\n",
              "    </tr>\n",
              "    <tr>\n",
              "      <th>807</th>\n",
              "      <td>Janice Hagerman</td>\n",
              "      <td>WV</td>\n",
              "      <td>U.S. House West Virginia District 3</td>\n",
              "      <td>Representative</td>\n",
              "      <td>Regular</td>\n",
              "      <td>5/8/18</td>\n",
              "      <td>Lost</td>\n",
              "      <td>None</td>\n",
              "      <td>None</td>\n",
              "      <td>-47.480000</td>\n",
              "      <td>7.240000</td>\n",
              "      <td>No</td>\n",
              "      <td>White</td>\n",
              "      <td>No</td>\n",
              "      <td>No</td>\n",
              "      <td>No</td>\n",
              "      <td>No</td>\n",
              "      <td>No</td>\n",
              "      <td>No</td>\n",
              "      <td>NaN</td>\n",
              "      <td>NaN</td>\n",
              "      <td>NaN</td>\n",
              "      <td>NaN</td>\n",
              "      <td>NaN</td>\n",
              "      <td>NaN</td>\n",
              "      <td>NaN</td>\n",
              "      <td>NaN</td>\n",
              "      <td>NaN</td>\n",
              "      <td>NaN</td>\n",
              "      <td>No</td>\n",
              "      <td>No</td>\n",
              "      <td>NaN</td>\n",
              "    </tr>\n",
              "    <tr>\n",
              "      <th>808</th>\n",
              "      <td>Paul Davis</td>\n",
              "      <td>WV</td>\n",
              "      <td>U.S. House West Virginia District 3</td>\n",
              "      <td>Representative</td>\n",
              "      <td>Regular</td>\n",
              "      <td>5/8/18</td>\n",
              "      <td>Lost</td>\n",
              "      <td>None</td>\n",
              "      <td>None</td>\n",
              "      <td>-47.480000</td>\n",
              "      <td>15.960000</td>\n",
              "      <td>No</td>\n",
              "      <td>White</td>\n",
              "      <td>No</td>\n",
              "      <td>No</td>\n",
              "      <td>No</td>\n",
              "      <td>No</td>\n",
              "      <td>No</td>\n",
              "      <td>No</td>\n",
              "      <td>NaN</td>\n",
              "      <td>NaN</td>\n",
              "      <td>NaN</td>\n",
              "      <td>NaN</td>\n",
              "      <td>NaN</td>\n",
              "      <td>NaN</td>\n",
              "      <td>NaN</td>\n",
              "      <td>NaN</td>\n",
              "      <td>NaN</td>\n",
              "      <td>NaN</td>\n",
              "      <td>No</td>\n",
              "      <td>No</td>\n",
              "      <td>NaN</td>\n",
              "    </tr>\n",
              "    <tr>\n",
              "      <th>809</th>\n",
              "      <td>Richard Ojeda</td>\n",
              "      <td>WV</td>\n",
              "      <td>U.S. House West Virginia District 3</td>\n",
              "      <td>Representative</td>\n",
              "      <td>Regular</td>\n",
              "      <td>5/8/18</td>\n",
              "      <td>Advanced</td>\n",
              "      <td>None</td>\n",
              "      <td>On the Ballot</td>\n",
              "      <td>-47.480000</td>\n",
              "      <td>52.160000</td>\n",
              "      <td>Yes</td>\n",
              "      <td>Nonwhite</td>\n",
              "      <td>Yes</td>\n",
              "      <td>No</td>\n",
              "      <td>Yes</td>\n",
              "      <td>No</td>\n",
              "      <td>No</td>\n",
              "      <td>No</td>\n",
              "      <td>NaN</td>\n",
              "      <td>NaN</td>\n",
              "      <td>NaN</td>\n",
              "      <td>NaN</td>\n",
              "      <td>NaN</td>\n",
              "      <td>NaN</td>\n",
              "      <td>NaN</td>\n",
              "      <td>NaN</td>\n",
              "      <td>NaN</td>\n",
              "      <td>NaN</td>\n",
              "      <td>Yes</td>\n",
              "      <td>Yes</td>\n",
              "      <td>NaN</td>\n",
              "    </tr>\n",
              "    <tr>\n",
              "      <th>810</th>\n",
              "      <td>Shirley Love</td>\n",
              "      <td>WV</td>\n",
              "      <td>U.S. House West Virginia District 3</td>\n",
              "      <td>Representative</td>\n",
              "      <td>Regular</td>\n",
              "      <td>5/8/18</td>\n",
              "      <td>Lost</td>\n",
              "      <td>None</td>\n",
              "      <td>None</td>\n",
              "      <td>-47.480000</td>\n",
              "      <td>24.639999</td>\n",
              "      <td>No</td>\n",
              "      <td>White</td>\n",
              "      <td>No</td>\n",
              "      <td>No</td>\n",
              "      <td>No</td>\n",
              "      <td>No</td>\n",
              "      <td>No</td>\n",
              "      <td>No</td>\n",
              "      <td>NaN</td>\n",
              "      <td>NaN</td>\n",
              "      <td>NaN</td>\n",
              "      <td>NaN</td>\n",
              "      <td>NaN</td>\n",
              "      <td>NaN</td>\n",
              "      <td>NaN</td>\n",
              "      <td>NaN</td>\n",
              "      <td>NaN</td>\n",
              "      <td>NaN</td>\n",
              "      <td>No</td>\n",
              "      <td>No</td>\n",
              "      <td>NaN</td>\n",
              "    </tr>\n",
              "  </tbody>\n",
              "</table>\n",
              "<p>811 rows × 32 columns</p>\n",
              "</div>"
            ],
            "text/plain": [
              "                   Candidate State  ... VoteVets Endorsed? No Labels Support?\n",
              "0    Anthony White (Alabama)    AL  ...                NaN                NaN\n",
              "1     Christopher Countryman    AL  ...                NaN                NaN\n",
              "2      Doug \"New Blue\" Smith    AL  ...                NaN                NaN\n",
              "3            James C. Fields    AL  ...                NaN                NaN\n",
              "4              Sue Bell Cobb    AL  ...                NaN                NaN\n",
              "..                       ...   ...  ...                ...                ...\n",
              "806           Talley Sergent    WV  ...                 No                NaN\n",
              "807          Janice Hagerman    WV  ...                 No                NaN\n",
              "808               Paul Davis    WV  ...                 No                NaN\n",
              "809            Richard Ojeda    WV  ...                Yes                NaN\n",
              "810             Shirley Love    WV  ...                 No                NaN\n",
              "\n",
              "[811 rows x 32 columns]"
            ]
          },
          "metadata": {
            "tags": []
          },
          "execution_count": 8
        }
      ]
    },
    {
      "cell_type": "markdown",
      "metadata": {
        "id": "mef5NVsH8Yd3"
      },
      "source": [
        "### **Question 1 (Bayesian Inference)**"
      ]
    },
    {
      "cell_type": "markdown",
      "metadata": {
        "id": "W2U0ZawO8d7p"
      },
      "source": [
        "Question 1 (Bayesian Inference): Can we predict whether an individual running for Senate is trying to take a position that is currently open, filled, or filled by the individual in question based solely off of funding and net expenditure? "
      ]
    },
    {
      "cell_type": "code",
      "metadata": {
        "id": "ZGwGDXXClrTB",
        "colab": {
          "base_uri": "https://localhost:8080/",
          "height": 324
        },
        "outputId": "a46e17d5-8c0e-40f9-cf32-ffab18e9419f"
      },
      "source": [
        "#Cleaning dataset\n",
        "#Removing all irrelevant columns\n",
        "funding = funding.fillna(method='ffill')\n",
        "cleaned = funding[['Cand_Incumbent_Challenger_Open_Seat', 'Total_Contribution', 'Operating_Expenditure']]\n",
        "cleaned.head()\n",
        "#binarizing Challenger, Incumbent, Open as 1, 2, 3 respectively\n",
        "cleaned.loc[cleaned['Cand_Incumbent_Challenger_Open_Seat'] == 'CHALLENGER', 'Cand_Incumbent_Challenger_Open_Seat'] = 1\n",
        "cleaned.loc[cleaned['Cand_Incumbent_Challenger_Open_Seat'] == 'INCUMBENT', 'Cand_Incumbent_Challenger_Open_Seat'] = 2\n",
        "cleaned.loc[cleaned['Cand_Incumbent_Challenger_Open_Seat'] == 'OPEN', 'Cand_Incumbent_Challenger_Open_Seat'] = 3\n",
        "cleaned.head()"
      ],
      "execution_count": null,
      "outputs": [
        {
          "output_type": "stream",
          "text": [
            "/usr/local/lib/python3.7/dist-packages/pandas/core/indexing.py:1763: SettingWithCopyWarning: \n",
            "A value is trying to be set on a copy of a slice from a DataFrame.\n",
            "Try using .loc[row_indexer,col_indexer] = value instead\n",
            "\n",
            "See the caveats in the documentation: https://pandas.pydata.org/pandas-docs/stable/user_guide/indexing.html#returning-a-view-versus-a-copy\n",
            "  isetter(loc, value)\n"
          ],
          "name": "stderr"
        },
        {
          "output_type": "execute_result",
          "data": {
            "text/html": [
              "<div>\n",
              "<style scoped>\n",
              "    .dataframe tbody tr th:only-of-type {\n",
              "        vertical-align: middle;\n",
              "    }\n",
              "\n",
              "    .dataframe tbody tr th {\n",
              "        vertical-align: top;\n",
              "    }\n",
              "\n",
              "    .dataframe thead th {\n",
              "        text-align: right;\n",
              "    }\n",
              "</style>\n",
              "<table border=\"1\" class=\"dataframe\">\n",
              "  <thead>\n",
              "    <tr style=\"text-align: right;\">\n",
              "      <th></th>\n",
              "      <th>Cand_Incumbent_Challenger_Open_Seat</th>\n",
              "      <th>Total_Contribution</th>\n",
              "      <th>Operating_Expenditure</th>\n",
              "    </tr>\n",
              "  </thead>\n",
              "  <tbody>\n",
              "    <tr>\n",
              "      <th>0</th>\n",
              "      <td>1</td>\n",
              "      <td>0.00</td>\n",
              "      <td>0.00</td>\n",
              "    </tr>\n",
              "    <tr>\n",
              "      <th>1</th>\n",
              "      <td>1</td>\n",
              "      <td>0.00</td>\n",
              "      <td>0.00</td>\n",
              "    </tr>\n",
              "    <tr>\n",
              "      <th>2</th>\n",
              "      <td>1</td>\n",
              "      <td>0.00</td>\n",
              "      <td>0.00</td>\n",
              "    </tr>\n",
              "    <tr>\n",
              "      <th>3</th>\n",
              "      <td>2</td>\n",
              "      <td>459857.05</td>\n",
              "      <td>437542.51</td>\n",
              "    </tr>\n",
              "    <tr>\n",
              "      <th>4</th>\n",
              "      <td>1</td>\n",
              "      <td>0.00</td>\n",
              "      <td>3873.60</td>\n",
              "    </tr>\n",
              "  </tbody>\n",
              "</table>\n",
              "</div>"
            ],
            "text/plain": [
              "  Cand_Incumbent_Challenger_Open_Seat  ...  Operating_Expenditure\n",
              "0                                   1  ...                   0.00\n",
              "1                                   1  ...                   0.00\n",
              "2                                   1  ...                   0.00\n",
              "3                                   2  ...              437542.51\n",
              "4                                   1  ...                3873.60\n",
              "\n",
              "[5 rows x 3 columns]"
            ]
          },
          "metadata": {
            "tags": []
          },
          "execution_count": 9
        }
      ]
    },
    {
      "cell_type": "code",
      "metadata": {
        "id": "r57Q6j32l0VS",
        "colab": {
          "base_uri": "https://localhost:8080/"
        },
        "outputId": "50e56cbb-9138-4afd-af5b-b09464fdfcec"
      },
      "source": [
        "# Import train_test_split function\n",
        "from sklearn.model_selection import train_test_split\n",
        "\n",
        "# Split dataset into training set and test set\n",
        "X = cleaned[['Total_Contribution','Operating_Expenditure']].to_numpy()\n",
        "y = cleaned['Cand_Incumbent_Challenger_Open_Seat'].to_numpy()\n",
        "y = y.astype('int')\n",
        "\n",
        "X_train, X_test, y_train, y_test = train_test_split(X, y, test_size=0.3,random_state=109) # 70% training and 30% test\n",
        "\n",
        "#Import Gaussian Naive Bayes model\n",
        "from sklearn.naive_bayes import GaussianNB\n",
        "\n",
        "#Create a Gaussian Classifier\n",
        "gnb = GaussianNB()\n",
        "\n",
        "#Train the model using the training sets\n",
        "gnb.fit(X_train, y_train)\n",
        "\n",
        "#Predict the response for test dataset\n",
        "y_pred = gnb.predict(X_test)\n",
        "\n",
        "#Import scikit-learn metrics module for accuracy calculation\n",
        "from sklearn import metrics\n",
        "\n",
        "# Model Accuracy, how often is the classifier correct?\n",
        "print(\"Accuracy:\",metrics.accuracy_score(y_test, y_pred))"
      ],
      "execution_count": null,
      "outputs": [
        {
          "output_type": "stream",
          "text": [
            "Accuracy: 0.28596491228070176\n"
          ],
          "name": "stdout"
        }
      ]
    },
    {
      "cell_type": "code",
      "metadata": {
        "id": "6VkpwwYxdrXB",
        "colab": {
          "base_uri": "https://localhost:8080/",
          "height": 197
        },
        "outputId": "5a02bdfd-af90-463f-cff5-5cdfcacf666d"
      },
      "source": [
        "#Cleaning dataset\n",
        "#Removing all irrelevant columns\n",
        "funding = funding.fillna(method='ffill')\n",
        "cleaned = funding[['Cand_Incumbent_Challenger_Open_Seat', 'Total_Contribution', 'Operating_Expenditure']]\n",
        "cleaned.head()\n",
        "#dropping all candidates that have a Total_Contribution or Operating_Expenditure of 0\n",
        "#we are only looking to see if strength of contribution can predict a seat filled, open, or filled by candidate in question\n",
        "cleaned = cleaned.loc[~((cleaned['Total_Contribution'] == 0))]\n",
        "cleaned = cleaned.loc[~((cleaned['Operating_Expenditure'] == 0))]\n",
        "#binarizing Challenger, Incumbent, Open as 1, 2, 3 respectively\n",
        "cleaned.loc[cleaned['Cand_Incumbent_Challenger_Open_Seat'] == 'CHALLENGER', 'Cand_Incumbent_Challenger_Open_Seat'] = 1\n",
        "cleaned.loc[cleaned['Cand_Incumbent_Challenger_Open_Seat'] == 'INCUMBENT', 'Cand_Incumbent_Challenger_Open_Seat'] = 2\n",
        "cleaned.loc[cleaned['Cand_Incumbent_Challenger_Open_Seat'] == 'OPEN', 'Cand_Incumbent_Challenger_Open_Seat'] = 3\n",
        "cleaned.head()"
      ],
      "execution_count": null,
      "outputs": [
        {
          "output_type": "execute_result",
          "data": {
            "text/html": [
              "<div>\n",
              "<style scoped>\n",
              "    .dataframe tbody tr th:only-of-type {\n",
              "        vertical-align: middle;\n",
              "    }\n",
              "\n",
              "    .dataframe tbody tr th {\n",
              "        vertical-align: top;\n",
              "    }\n",
              "\n",
              "    .dataframe thead th {\n",
              "        text-align: right;\n",
              "    }\n",
              "</style>\n",
              "<table border=\"1\" class=\"dataframe\">\n",
              "  <thead>\n",
              "    <tr style=\"text-align: right;\">\n",
              "      <th></th>\n",
              "      <th>Cand_Incumbent_Challenger_Open_Seat</th>\n",
              "      <th>Total_Contribution</th>\n",
              "      <th>Operating_Expenditure</th>\n",
              "    </tr>\n",
              "  </thead>\n",
              "  <tbody>\n",
              "    <tr>\n",
              "      <th>3</th>\n",
              "      <td>2</td>\n",
              "      <td>459857.05</td>\n",
              "      <td>437542.51</td>\n",
              "    </tr>\n",
              "    <tr>\n",
              "      <th>6</th>\n",
              "      <td>1</td>\n",
              "      <td>4365.06</td>\n",
              "      <td>7357.50</td>\n",
              "    </tr>\n",
              "    <tr>\n",
              "      <th>7</th>\n",
              "      <td>1</td>\n",
              "      <td>20583.09</td>\n",
              "      <td>19670.32</td>\n",
              "    </tr>\n",
              "    <tr>\n",
              "      <th>8</th>\n",
              "      <td>3</td>\n",
              "      <td>3547064.51</td>\n",
              "      <td>3946213.62</td>\n",
              "    </tr>\n",
              "    <tr>\n",
              "      <th>9</th>\n",
              "      <td>1</td>\n",
              "      <td>10258.00</td>\n",
              "      <td>14448.81</td>\n",
              "    </tr>\n",
              "  </tbody>\n",
              "</table>\n",
              "</div>"
            ],
            "text/plain": [
              "  Cand_Incumbent_Challenger_Open_Seat  ...  Operating_Expenditure\n",
              "3                                   2  ...              437542.51\n",
              "6                                   1  ...                7357.50\n",
              "7                                   1  ...               19670.32\n",
              "8                                   3  ...             3946213.62\n",
              "9                                   1  ...               14448.81\n",
              "\n",
              "[5 rows x 3 columns]"
            ]
          },
          "metadata": {
            "tags": []
          },
          "execution_count": 11
        }
      ]
    },
    {
      "cell_type": "code",
      "metadata": {
        "id": "u2GcPpGgdwUo",
        "colab": {
          "base_uri": "https://localhost:8080/"
        },
        "outputId": "7f02fe7d-f867-4d53-9072-0f77ca8ccbf2"
      },
      "source": [
        "# Import train_test_split function\n",
        "from sklearn.model_selection import train_test_split\n",
        "\n",
        "# Split dataset into training set and test set\n",
        "X = cleaned[['Total_Contribution','Operating_Expenditure']].to_numpy()\n",
        "y = cleaned['Cand_Incumbent_Challenger_Open_Seat'].to_numpy()\n",
        "y = y.astype('int')\n",
        "\n",
        "X_train, X_test, y_train, y_test = train_test_split(X, y, test_size=0.3,random_state=109) # 70% training and 30% test\n",
        "\n",
        "#Import Gaussian Naive Bayes model\n",
        "from sklearn.naive_bayes import GaussianNB\n",
        "\n",
        "#Create a Gaussian Classifier\n",
        "gnb = GaussianNB()\n",
        "\n",
        "#Train the model using the training sets\n",
        "gnb.fit(X_train, y_train)\n",
        "\n",
        "#Predict the response for test dataset\n",
        "y_pred = gnb.predict(X_test)\n",
        "\n",
        "#Import scikit-learn metrics module for accuracy calculation\n",
        "from sklearn import metrics\n",
        "\n",
        "# Model Accuracy, how often is the classifier correct?\n",
        "print(\"Accuracy:\",metrics.accuracy_score(y_test, y_pred))"
      ],
      "execution_count": null,
      "outputs": [
        {
          "output_type": "stream",
          "text": [
            "Accuracy: 0.2991573033707865\n"
          ],
          "name": "stdout"
        }
      ]
    },
    {
      "cell_type": "code",
      "metadata": {
        "id": "hFrK6ZBwdw9w",
        "colab": {
          "base_uri": "https://localhost:8080/",
          "height": 217
        },
        "outputId": "5841d647-dacb-4a35-cc6b-e6a3e70caf32"
      },
      "source": [
        "#Cleaning dataset\n",
        "#Removing all irrelevant columns\n",
        "funding = funding.fillna(method='ffill')\n",
        "cleaned = funding[['Cand_Incumbent_Challenger_Open_Seat', 'Total_Contribution', 'Operating_Expenditure', 'Individual_Itemized_Contribution', 'Individual_Unitemized_Contribution', 'Individual_Contribution', 'Other_Committee_Contribution', 'Party_Committee_Contribution', 'Cand_Contribution']]\n",
        "cleaned.head()\n",
        "#dropping all candidates that have a Total_Contribution or Operating_Expenditure of 0\n",
        "#we are only looking to see if strength of contribution can predict a seat filled, open, or filled by candidate in question\n",
        "cleaned = cleaned.loc[~((cleaned['Total_Contribution'] == 0))]\n",
        "cleaned = cleaned.loc[~((cleaned['Operating_Expenditure'] == 0))]\n",
        "#binarizing Challenger, Incumbent, Open as 1, 2, 3 respectively\n",
        "cleaned.loc[cleaned['Cand_Incumbent_Challenger_Open_Seat'] == 'CHALLENGER', 'Cand_Incumbent_Challenger_Open_Seat'] = 1\n",
        "cleaned.loc[cleaned['Cand_Incumbent_Challenger_Open_Seat'] == 'INCUMBENT', 'Cand_Incumbent_Challenger_Open_Seat'] = 2\n",
        "cleaned.loc[cleaned['Cand_Incumbent_Challenger_Open_Seat'] == 'OPEN', 'Cand_Incumbent_Challenger_Open_Seat'] = 3\n",
        "cleaned.head()"
      ],
      "execution_count": null,
      "outputs": [
        {
          "output_type": "execute_result",
          "data": {
            "text/html": [
              "<div>\n",
              "<style scoped>\n",
              "    .dataframe tbody tr th:only-of-type {\n",
              "        vertical-align: middle;\n",
              "    }\n",
              "\n",
              "    .dataframe tbody tr th {\n",
              "        vertical-align: top;\n",
              "    }\n",
              "\n",
              "    .dataframe thead th {\n",
              "        text-align: right;\n",
              "    }\n",
              "</style>\n",
              "<table border=\"1\" class=\"dataframe\">\n",
              "  <thead>\n",
              "    <tr style=\"text-align: right;\">\n",
              "      <th></th>\n",
              "      <th>Cand_Incumbent_Challenger_Open_Seat</th>\n",
              "      <th>Total_Contribution</th>\n",
              "      <th>Operating_Expenditure</th>\n",
              "      <th>Individual_Itemized_Contribution</th>\n",
              "      <th>Individual_Unitemized_Contribution</th>\n",
              "      <th>Individual_Contribution</th>\n",
              "      <th>Other_Committee_Contribution</th>\n",
              "      <th>Party_Committee_Contribution</th>\n",
              "      <th>Cand_Contribution</th>\n",
              "    </tr>\n",
              "  </thead>\n",
              "  <tbody>\n",
              "    <tr>\n",
              "      <th>3</th>\n",
              "      <td>2</td>\n",
              "      <td>459857.05</td>\n",
              "      <td>437542.51</td>\n",
              "      <td>161321.54</td>\n",
              "      <td>1848.84</td>\n",
              "      <td>163170.38</td>\n",
              "      <td>296686.67</td>\n",
              "      <td>0.0</td>\n",
              "      <td>0.0</td>\n",
              "    </tr>\n",
              "    <tr>\n",
              "      <th>6</th>\n",
              "      <td>1</td>\n",
              "      <td>4365.06</td>\n",
              "      <td>7357.50</td>\n",
              "      <td>481.21</td>\n",
              "      <td>3883.85</td>\n",
              "      <td>4365.06</td>\n",
              "      <td>0.00</td>\n",
              "      <td>0.0</td>\n",
              "      <td>0.0</td>\n",
              "    </tr>\n",
              "    <tr>\n",
              "      <th>7</th>\n",
              "      <td>1</td>\n",
              "      <td>20583.09</td>\n",
              "      <td>19670.32</td>\n",
              "      <td>8831.10</td>\n",
              "      <td>10735.39</td>\n",
              "      <td>19566.49</td>\n",
              "      <td>200.00</td>\n",
              "      <td>0.0</td>\n",
              "      <td>816.6</td>\n",
              "    </tr>\n",
              "    <tr>\n",
              "      <th>8</th>\n",
              "      <td>3</td>\n",
              "      <td>3547064.51</td>\n",
              "      <td>3946213.62</td>\n",
              "      <td>2311197.01</td>\n",
              "      <td>672129.40</td>\n",
              "      <td>2983326.41</td>\n",
              "      <td>550232.50</td>\n",
              "      <td>5150.0</td>\n",
              "      <td>8355.6</td>\n",
              "    </tr>\n",
              "    <tr>\n",
              "      <th>9</th>\n",
              "      <td>1</td>\n",
              "      <td>10258.00</td>\n",
              "      <td>14448.81</td>\n",
              "      <td>6425.00</td>\n",
              "      <td>3658.00</td>\n",
              "      <td>10083.00</td>\n",
              "      <td>0.00</td>\n",
              "      <td>0.0</td>\n",
              "      <td>175.0</td>\n",
              "    </tr>\n",
              "  </tbody>\n",
              "</table>\n",
              "</div>"
            ],
            "text/plain": [
              "  Cand_Incumbent_Challenger_Open_Seat  ...  Cand_Contribution\n",
              "3                                   2  ...                0.0\n",
              "6                                   1  ...                0.0\n",
              "7                                   1  ...              816.6\n",
              "8                                   3  ...             8355.6\n",
              "9                                   1  ...              175.0\n",
              "\n",
              "[5 rows x 9 columns]"
            ]
          },
          "metadata": {
            "tags": []
          },
          "execution_count": 13
        }
      ]
    },
    {
      "cell_type": "code",
      "metadata": {
        "id": "gOScdaHhd0wp",
        "colab": {
          "base_uri": "https://localhost:8080/"
        },
        "outputId": "92c293da-18d0-4b69-dbb8-2fa7f073d6bb"
      },
      "source": [
        "\n",
        "# Import train_test_split function\n",
        "from sklearn.model_selection import train_test_split\n",
        "\n",
        "# Split dataset into training set and test set\n",
        "X = cleaned[['Total_Contribution', 'Operating_Expenditure', 'Individual_Itemized_Contribution', 'Individual_Unitemized_Contribution', 'Individual_Contribution', 'Other_Committee_Contribution', 'Party_Committee_Contribution', 'Cand_Contribution']].to_numpy()\n",
        "y = cleaned['Cand_Incumbent_Challenger_Open_Seat'].to_numpy()\n",
        "y = y.astype('int')\n",
        "\n",
        "X_train, X_test, y_train, y_test = train_test_split(X, y, test_size=0.3,random_state=109) # 70% training and 30% test\n",
        "\n",
        "#Import Gaussian Naive Bayes model\n",
        "from sklearn.naive_bayes import GaussianNB\n",
        "\n",
        "#Create a Gaussian Classifier\n",
        "gnb = GaussianNB()\n",
        "\n",
        "#Train the model using the training sets\n",
        "gnb.fit(X_train, y_train)\n",
        "\n",
        "#Predict the response for test dataset\n",
        "y_pred = gnb.predict(X_test)\n",
        "\n",
        "#Import scikit-learn metrics module for accuracy calculation\n",
        "from sklearn import metrics\n",
        "\n",
        "# Model Accuracy, how often is the classifier correct?\n",
        "print(\"Accuracy:\",metrics.accuracy_score(y_test, y_pred))"
      ],
      "execution_count": null,
      "outputs": [
        {
          "output_type": "stream",
          "text": [
            "Accuracy: 0.4058988764044944\n"
          ],
          "name": "stdout"
        }
      ]
    },
    {
      "cell_type": "markdown",
      "metadata": {
        "id": "YY6G6I__6miJ"
      },
      "source": [
        "### **Question 2 (Causal Inference)**"
      ]
    },
    {
      "cell_type": "markdown",
      "metadata": {
        "id": "ejnGX2QZVVph"
      },
      "source": [
        "Question 2 (Causal Inference): How do endorsements effect who you vote for? What endorsements have more weight than others?\n"
      ]
    },
    {
      "cell_type": "code",
      "metadata": {
        "id": "wXRXl0QJCVUZ"
      },
      "source": [
        "#data cleaning\n",
        "dem['Primary Status'] = dem['Primary Status'].replace('Lost',0).replace('Advanced',1) # outcome of election\n",
        "dem = dem.replace('Yes',1).replace('No',0).fillna(0)"
      ],
      "execution_count": null,
      "outputs": []
    },
    {
      "cell_type": "code",
      "metadata": {
        "id": "IXUK2YuNtG0l"
      },
      "source": [
        "rep['Primary Status'] = rep['Primary Status'].replace('Lost',0).replace('Advanced',1).replace('On the Ballot',1) # outcome of election\n",
        "rep = rep.replace('Yes',1).replace('No',0).fillna(0)"
      ],
      "execution_count": null,
      "outputs": []
    },
    {
      "cell_type": "code",
      "metadata": {
        "id": "V4kU2gr-otKs",
        "colab": {
          "base_uri": "https://localhost:8080/",
          "height": 601
        },
        "outputId": "f2039971-a40c-48b1-a37f-b2406d985b83"
      },
      "source": [
        "Y = dem['Primary Status'].dropna()\n",
        "Z = dem.iloc[:,19:32] #all endorsements\n",
        "Z = sm.add_constant(Z)\n",
        "\n",
        "model = sm.OLS(Y,Z)\n",
        "results = model.fit()\n",
        "results.summary()"
      ],
      "execution_count": null,
      "outputs": [
        {
          "output_type": "execute_result",
          "data": {
            "text/html": [
              "<table class=\"simpletable\">\n",
              "<caption>OLS Regression Results</caption>\n",
              "<tr>\n",
              "  <th>Dep. Variable:</th>     <td>Primary Status</td>  <th>  R-squared:         </th> <td>   0.161</td>\n",
              "</tr>\n",
              "<tr>\n",
              "  <th>Model:</th>                   <td>OLS</td>       <th>  Adj. R-squared:    </th> <td>   0.147</td>\n",
              "</tr>\n",
              "<tr>\n",
              "  <th>Method:</th>             <td>Least Squares</td>  <th>  F-statistic:       </th> <td>   11.77</td>\n",
              "</tr>\n",
              "<tr>\n",
              "  <th>Date:</th>             <td>Tue, 11 May 2021</td> <th>  Prob (F-statistic):</th> <td>1.39e-23</td>\n",
              "</tr>\n",
              "<tr>\n",
              "  <th>Time:</th>                 <td>04:18:22</td>     <th>  Log-Likelihood:    </th> <td> -465.55</td>\n",
              "</tr>\n",
              "<tr>\n",
              "  <th>No. Observations:</th>      <td>   811</td>      <th>  AIC:               </th> <td>   959.1</td>\n",
              "</tr>\n",
              "<tr>\n",
              "  <th>Df Residuals:</th>          <td>   797</td>      <th>  BIC:               </th> <td>   1025.</td>\n",
              "</tr>\n",
              "<tr>\n",
              "  <th>Df Model:</th>              <td>    13</td>      <th>                     </th>     <td> </td>   \n",
              "</tr>\n",
              "<tr>\n",
              "  <th>Covariance Type:</th>      <td>nonrobust</td>    <th>                     </th>     <td> </td>   \n",
              "</tr>\n",
              "</table>\n",
              "<table class=\"simpletable\">\n",
              "<tr>\n",
              "              <td></td>                <th>coef</th>     <th>std err</th>      <th>t</th>      <th>P>|t|</th>  <th>[0.025</th>    <th>0.975]</th>  \n",
              "</tr>\n",
              "<tr>\n",
              "  <th>const</th>                    <td>    0.2311</td> <td>    0.019</td> <td>   12.345</td> <td> 0.000</td> <td>    0.194</td> <td>    0.268</td>\n",
              "</tr>\n",
              "<tr>\n",
              "  <th>Party Support?</th>           <td>    0.4680</td> <td>    0.085</td> <td>    5.479</td> <td> 0.000</td> <td>    0.300</td> <td>    0.636</td>\n",
              "</tr>\n",
              "<tr>\n",
              "  <th>Emily Endorsed?</th>          <td>    0.2230</td> <td>    0.067</td> <td>    3.307</td> <td> 0.001</td> <td>    0.091</td> <td>    0.355</td>\n",
              "</tr>\n",
              "<tr>\n",
              "  <th>Guns Sense Candidate?</th>    <td>    0.0969</td> <td>    0.037</td> <td>    2.632</td> <td> 0.009</td> <td>    0.025</td> <td>    0.169</td>\n",
              "</tr>\n",
              "<tr>\n",
              "  <th>Biden Endorsed?</th>          <td>    0.2463</td> <td>    0.151</td> <td>    1.627</td> <td> 0.104</td> <td>   -0.051</td> <td>    0.543</td>\n",
              "</tr>\n",
              "<tr>\n",
              "  <th>Warren Endorsed? </th>        <td>    0.3149</td> <td>    0.207</td> <td>    1.523</td> <td> 0.128</td> <td>   -0.091</td> <td>    0.721</td>\n",
              "</tr>\n",
              "<tr>\n",
              "  <th>Sanders Endorsed?</th>        <td>    0.1430</td> <td>    0.162</td> <td>    0.885</td> <td> 0.377</td> <td>   -0.174</td> <td>    0.460</td>\n",
              "</tr>\n",
              "<tr>\n",
              "  <th>Our Revolution Endorsed?</th> <td>   -0.0023</td> <td>    0.056</td> <td>   -0.042</td> <td> 0.967</td> <td>   -0.113</td> <td>    0.109</td>\n",
              "</tr>\n",
              "<tr>\n",
              "  <th>Justice Dems Endorsed?</th>   <td>    0.0689</td> <td>    0.071</td> <td>    0.976</td> <td> 0.329</td> <td>   -0.070</td> <td>    0.208</td>\n",
              "</tr>\n",
              "<tr>\n",
              "  <th>PCCC Endorsed?</th>           <td>   -0.0032</td> <td>    0.130</td> <td>   -0.025</td> <td> 0.980</td> <td>   -0.259</td> <td>    0.253</td>\n",
              "</tr>\n",
              "<tr>\n",
              "  <th>Indivisible Endorsed?</th>    <td>    0.3370</td> <td>    0.067</td> <td>    4.993</td> <td> 0.000</td> <td>    0.204</td> <td>    0.469</td>\n",
              "</tr>\n",
              "<tr>\n",
              "  <th>WFP Endorsed?</th>            <td>    0.1603</td> <td>    0.087</td> <td>    1.846</td> <td> 0.065</td> <td>   -0.010</td> <td>    0.331</td>\n",
              "</tr>\n",
              "<tr>\n",
              "  <th>VoteVets Endorsed?</th>       <td>    0.0084</td> <td>    0.089</td> <td>    0.093</td> <td> 0.926</td> <td>   -0.167</td> <td>    0.184</td>\n",
              "</tr>\n",
              "<tr>\n",
              "  <th>No Labels Support?</th>       <td>   -0.2353</td> <td>    0.310</td> <td>   -0.759</td> <td> 0.448</td> <td>   -0.844</td> <td>    0.373</td>\n",
              "</tr>\n",
              "</table>\n",
              "<table class=\"simpletable\">\n",
              "<tr>\n",
              "  <th>Omnibus:</th>       <td>143.721</td> <th>  Durbin-Watson:     </th> <td>   2.092</td>\n",
              "</tr>\n",
              "<tr>\n",
              "  <th>Prob(Omnibus):</th> <td> 0.000</td>  <th>  Jarque-Bera (JB):  </th> <td> 120.923</td>\n",
              "</tr>\n",
              "<tr>\n",
              "  <th>Skew:</th>          <td> 0.856</td>  <th>  Prob(JB):          </th> <td>5.52e-27</td>\n",
              "</tr>\n",
              "<tr>\n",
              "  <th>Kurtosis:</th>      <td> 2.196</td>  <th>  Cond. No.          </th> <td>    21.4</td>\n",
              "</tr>\n",
              "</table><br/><br/>Warnings:<br/>[1] Standard Errors assume that the covariance matrix of the errors is correctly specified."
            ],
            "text/plain": [
              "<class 'statsmodels.iolib.summary.Summary'>\n",
              "\"\"\"\n",
              "                            OLS Regression Results                            \n",
              "==============================================================================\n",
              "Dep. Variable:         Primary Status   R-squared:                       0.161\n",
              "Model:                            OLS   Adj. R-squared:                  0.147\n",
              "Method:                 Least Squares   F-statistic:                     11.77\n",
              "Date:                Tue, 11 May 2021   Prob (F-statistic):           1.39e-23\n",
              "Time:                        04:18:22   Log-Likelihood:                -465.55\n",
              "No. Observations:                 811   AIC:                             959.1\n",
              "Df Residuals:                     797   BIC:                             1025.\n",
              "Df Model:                          13                                         \n",
              "Covariance Type:            nonrobust                                         \n",
              "============================================================================================\n",
              "                               coef    std err          t      P>|t|      [0.025      0.975]\n",
              "--------------------------------------------------------------------------------------------\n",
              "const                        0.2311      0.019     12.345      0.000       0.194       0.268\n",
              "Party Support?               0.4680      0.085      5.479      0.000       0.300       0.636\n",
              "Emily Endorsed?              0.2230      0.067      3.307      0.001       0.091       0.355\n",
              "Guns Sense Candidate?        0.0969      0.037      2.632      0.009       0.025       0.169\n",
              "Biden Endorsed?              0.2463      0.151      1.627      0.104      -0.051       0.543\n",
              "Warren Endorsed?             0.3149      0.207      1.523      0.128      -0.091       0.721\n",
              "Sanders Endorsed?            0.1430      0.162      0.885      0.377      -0.174       0.460\n",
              "Our Revolution Endorsed?    -0.0023      0.056     -0.042      0.967      -0.113       0.109\n",
              "Justice Dems Endorsed?       0.0689      0.071      0.976      0.329      -0.070       0.208\n",
              "PCCC Endorsed?              -0.0032      0.130     -0.025      0.980      -0.259       0.253\n",
              "Indivisible Endorsed?        0.3370      0.067      4.993      0.000       0.204       0.469\n",
              "WFP Endorsed?                0.1603      0.087      1.846      0.065      -0.010       0.331\n",
              "VoteVets Endorsed?           0.0084      0.089      0.093      0.926      -0.167       0.184\n",
              "No Labels Support?          -0.2353      0.310     -0.759      0.448      -0.844       0.373\n",
              "==============================================================================\n",
              "Omnibus:                      143.721   Durbin-Watson:                   2.092\n",
              "Prob(Omnibus):                  0.000   Jarque-Bera (JB):              120.923\n",
              "Skew:                           0.856   Prob(JB):                     5.52e-27\n",
              "Kurtosis:                       2.196   Cond. No.                         21.4\n",
              "==============================================================================\n",
              "\n",
              "Warnings:\n",
              "[1] Standard Errors assume that the covariance matrix of the errors is correctly specified.\n",
              "\"\"\""
            ]
          },
          "metadata": {
            "tags": []
          },
          "execution_count": 17
        }
      ]
    },
    {
      "cell_type": "code",
      "metadata": {
        "id": "VfLiqUKutUfC",
        "colab": {
          "base_uri": "https://localhost:8080/",
          "height": 618
        },
        "outputId": "7aa1e201-cb82-4d9c-cc4c-7b109ebfa279"
      },
      "source": [
        "Y = rep['Primary Status'].dropna()\n",
        "Z = rep.iloc[:,11:25] #all endorsements\n",
        "Z = sm.add_constant(Z)\n",
        "\n",
        "model = sm.OLS(Y,Z)\n",
        "results = model.fit()\n",
        "results.summary()"
      ],
      "execution_count": null,
      "outputs": [
        {
          "output_type": "execute_result",
          "data": {
            "text/html": [
              "<table class=\"simpletable\">\n",
              "<caption>OLS Regression Results</caption>\n",
              "<tr>\n",
              "  <th>Dep. Variable:</th>     <td>Primary Status</td>  <th>  R-squared:         </th> <td>   0.096</td>\n",
              "</tr>\n",
              "<tr>\n",
              "  <th>Model:</th>                   <td>OLS</td>       <th>  Adj. R-squared:    </th> <td>   0.079</td>\n",
              "</tr>\n",
              "<tr>\n",
              "  <th>Method:</th>             <td>Least Squares</td>  <th>  F-statistic:       </th> <td>   5.740</td>\n",
              "</tr>\n",
              "<tr>\n",
              "  <th>Date:</th>             <td>Tue, 11 May 2021</td> <th>  Prob (F-statistic):</th> <td>1.02e-10</td>\n",
              "</tr>\n",
              "<tr>\n",
              "  <th>Time:</th>                 <td>04:18:22</td>     <th>  Log-Likelihood:    </th> <td> -477.24</td>\n",
              "</tr>\n",
              "<tr>\n",
              "  <th>No. Observations:</th>      <td>   774</td>      <th>  AIC:               </th> <td>   984.5</td>\n",
              "</tr>\n",
              "<tr>\n",
              "  <th>Df Residuals:</th>          <td>   759</td>      <th>  BIC:               </th> <td>   1054.</td>\n",
              "</tr>\n",
              "<tr>\n",
              "  <th>Df Model:</th>              <td>    14</td>      <th>                     </th>     <td> </td>   \n",
              "</tr>\n",
              "<tr>\n",
              "  <th>Covariance Type:</th>      <td>nonrobust</td>    <th>                     </th>     <td> </td>   \n",
              "</tr>\n",
              "</table>\n",
              "<table class=\"simpletable\">\n",
              "<tr>\n",
              "               <td></td>                 <th>coef</th>     <th>std err</th>      <th>t</th>      <th>P>|t|</th>  <th>[0.025</th>    <th>0.975]</th>  \n",
              "</tr>\n",
              "<tr>\n",
              "  <th>const</th>                      <td>    0.2781</td> <td>    0.018</td> <td>   15.424</td> <td> 0.000</td> <td>    0.243</td> <td>    0.313</td>\n",
              "</tr>\n",
              "<tr>\n",
              "  <th>Rep Party Support?</th>         <td>    0.2329</td> <td>    0.064</td> <td>    3.662</td> <td> 0.000</td> <td>    0.108</td> <td>    0.358</td>\n",
              "</tr>\n",
              "<tr>\n",
              "  <th>Trump Endorsed?</th>            <td>    0.3135</td> <td>    0.135</td> <td>    2.328</td> <td> 0.020</td> <td>    0.049</td> <td>    0.578</td>\n",
              "</tr>\n",
              "<tr>\n",
              "  <th>Bannon Endorsed?</th>           <td>    0.1512</td> <td>    0.276</td> <td>    0.548</td> <td> 0.584</td> <td>   -0.391</td> <td>    0.693</td>\n",
              "</tr>\n",
              "<tr>\n",
              "  <th>Great America Endorsed?</th>    <td>   -0.1060</td> <td>    0.292</td> <td>   -0.363</td> <td> 0.717</td> <td>   -0.679</td> <td>    0.467</td>\n",
              "</tr>\n",
              "<tr>\n",
              "  <th>NRA Endorsed?</th>              <td>    0.2214</td> <td>    0.128</td> <td>    1.730</td> <td> 0.084</td> <td>   -0.030</td> <td>    0.473</td>\n",
              "</tr>\n",
              "<tr>\n",
              "  <th>Right to Life Endorsed?</th>    <td>    0.0449</td> <td>    0.058</td> <td>    0.774</td> <td> 0.439</td> <td>   -0.069</td> <td>    0.159</td>\n",
              "</tr>\n",
              "<tr>\n",
              "  <th>Susan B. Anthony Endorsed?</th> <td>    0.0056</td> <td>    0.104</td> <td>    0.054</td> <td> 0.957</td> <td>   -0.198</td> <td>    0.209</td>\n",
              "</tr>\n",
              "<tr>\n",
              "  <th>Club for Growth Endorsed?</th>  <td>    0.0959</td> <td>    0.132</td> <td>    0.724</td> <td> 0.469</td> <td>   -0.164</td> <td>    0.356</td>\n",
              "</tr>\n",
              "<tr>\n",
              "  <th>Koch Support?</th>              <td>    0.3452</td> <td>    0.117</td> <td>    2.951</td> <td> 0.003</td> <td>    0.116</td> <td>    0.575</td>\n",
              "</tr>\n",
              "<tr>\n",
              "  <th>House Freedom Support?</th>     <td>   -0.0097</td> <td>    0.147</td> <td>   -0.066</td> <td> 0.947</td> <td>   -0.299</td> <td>    0.279</td>\n",
              "</tr>\n",
              "<tr>\n",
              "  <th>Tea Party Endorsed?</th>        <td>    0.1943</td> <td>    0.129</td> <td>    1.511</td> <td> 0.131</td> <td>   -0.058</td> <td>    0.447</td>\n",
              "</tr>\n",
              "<tr>\n",
              "  <th>Main Street Endorsed?</th>      <td>    0.1711</td> <td>    0.115</td> <td>    1.486</td> <td> 0.138</td> <td>   -0.055</td> <td>    0.397</td>\n",
              "</tr>\n",
              "<tr>\n",
              "  <th>Chamber Endorsed?</th>          <td>    0.0501</td> <td>    0.171</td> <td>    0.294</td> <td> 0.769</td> <td>   -0.285</td> <td>    0.385</td>\n",
              "</tr>\n",
              "<tr>\n",
              "  <th>No Labels Support?</th>         <td>    0.1055</td> <td>    0.322</td> <td>    0.328</td> <td> 0.743</td> <td>   -0.526</td> <td>    0.737</td>\n",
              "</tr>\n",
              "</table>\n",
              "<table class=\"simpletable\">\n",
              "<tr>\n",
              "  <th>Omnibus:</th>       <td>421.964</td> <th>  Durbin-Watson:     </th> <td>   1.592</td>\n",
              "</tr>\n",
              "<tr>\n",
              "  <th>Prob(Omnibus):</th> <td> 0.000</td>  <th>  Jarque-Bera (JB):  </th> <td> 121.821</td>\n",
              "</tr>\n",
              "<tr>\n",
              "  <th>Skew:</th>          <td> 0.787</td>  <th>  Prob(JB):          </th> <td>3.52e-27</td>\n",
              "</tr>\n",
              "<tr>\n",
              "  <th>Kurtosis:</th>      <td> 1.860</td>  <th>  Cond. No.          </th> <td>    23.4</td>\n",
              "</tr>\n",
              "</table><br/><br/>Warnings:<br/>[1] Standard Errors assume that the covariance matrix of the errors is correctly specified."
            ],
            "text/plain": [
              "<class 'statsmodels.iolib.summary.Summary'>\n",
              "\"\"\"\n",
              "                            OLS Regression Results                            \n",
              "==============================================================================\n",
              "Dep. Variable:         Primary Status   R-squared:                       0.096\n",
              "Model:                            OLS   Adj. R-squared:                  0.079\n",
              "Method:                 Least Squares   F-statistic:                     5.740\n",
              "Date:                Tue, 11 May 2021   Prob (F-statistic):           1.02e-10\n",
              "Time:                        04:18:22   Log-Likelihood:                -477.24\n",
              "No. Observations:                 774   AIC:                             984.5\n",
              "Df Residuals:                     759   BIC:                             1054.\n",
              "Df Model:                          14                                         \n",
              "Covariance Type:            nonrobust                                         \n",
              "==============================================================================================\n",
              "                                 coef    std err          t      P>|t|      [0.025      0.975]\n",
              "----------------------------------------------------------------------------------------------\n",
              "const                          0.2781      0.018     15.424      0.000       0.243       0.313\n",
              "Rep Party Support?             0.2329      0.064      3.662      0.000       0.108       0.358\n",
              "Trump Endorsed?                0.3135      0.135      2.328      0.020       0.049       0.578\n",
              "Bannon Endorsed?               0.1512      0.276      0.548      0.584      -0.391       0.693\n",
              "Great America Endorsed?       -0.1060      0.292     -0.363      0.717      -0.679       0.467\n",
              "NRA Endorsed?                  0.2214      0.128      1.730      0.084      -0.030       0.473\n",
              "Right to Life Endorsed?        0.0449      0.058      0.774      0.439      -0.069       0.159\n",
              "Susan B. Anthony Endorsed?     0.0056      0.104      0.054      0.957      -0.198       0.209\n",
              "Club for Growth Endorsed?      0.0959      0.132      0.724      0.469      -0.164       0.356\n",
              "Koch Support?                  0.3452      0.117      2.951      0.003       0.116       0.575\n",
              "House Freedom Support?        -0.0097      0.147     -0.066      0.947      -0.299       0.279\n",
              "Tea Party Endorsed?            0.1943      0.129      1.511      0.131      -0.058       0.447\n",
              "Main Street Endorsed?          0.1711      0.115      1.486      0.138      -0.055       0.397\n",
              "Chamber Endorsed?              0.0501      0.171      0.294      0.769      -0.285       0.385\n",
              "No Labels Support?             0.1055      0.322      0.328      0.743      -0.526       0.737\n",
              "==============================================================================\n",
              "Omnibus:                      421.964   Durbin-Watson:                   1.592\n",
              "Prob(Omnibus):                  0.000   Jarque-Bera (JB):              121.821\n",
              "Skew:                           0.787   Prob(JB):                     3.52e-27\n",
              "Kurtosis:                       1.860   Cond. No.                         23.4\n",
              "==============================================================================\n",
              "\n",
              "Warnings:\n",
              "[1] Standard Errors assume that the covariance matrix of the errors is correctly specified.\n",
              "\"\"\""
            ]
          },
          "metadata": {
            "tags": []
          },
          "execution_count": 18
        }
      ]
    },
    {
      "cell_type": "markdown",
      "metadata": {
        "id": "lk3PLBIqmGNn"
      },
      "source": [
        "### Naive Estimator"
      ]
    },
    {
      "cell_type": "code",
      "metadata": {
        "id": "tafc--Ptf_uM",
        "colab": {
          "base_uri": "https://localhost:8080/"
        },
        "outputId": "4a207c48-e1c0-4e5d-daad-e574bf1854d3"
      },
      "source": [
        "# ATE for dem\n",
        "endorsements = dem[['Party Support?',\n",
        "            'Biden Endorsed?',\n",
        " 'Warren Endorsed? ',\n",
        " 'Sanders Endorsed?',\n",
        " 'Emily Endorsed?',\n",
        " 'Guns Sense Candidate?',\n",
        " 'Indivisible Endorsed?',]]\n",
        "\n",
        "# endorsements = dem[['Party Support?',\n",
        "#  'Biden Endorsed?',\n",
        "#  'Warren Endorsed? ',\n",
        "#  'Sanders Endorsed?',]]\n",
        "\n",
        "# endorsements = dem[['Party Support?']]\n",
        "\n",
        "not_endorsed = endorsements[endorsements.sum(axis=1) == 0]\n",
        "\n",
        "control = dem.loc[not_endorsed.index] \n",
        "treat = dem.loc[~dem.index.isin(control.index)]\n",
        "\n",
        "treatment = pd.Series(np.zeros(len(dem))).rename('treatment')\n",
        "treatment.loc[treat.index] = 1\n",
        "dem['treatment'] = treatment #treatment 1 = endorsed by any candidate\n",
        "\n",
        "ATE = np.mean(treat['Primary Status']) - np.mean(control['Primary Status'])\n",
        "ATE"
      ],
      "execution_count": null,
      "outputs": [
        {
          "output_type": "execute_result",
          "data": {
            "text/plain": [
              "0.31374077395323174"
            ]
          },
          "metadata": {
            "tags": []
          },
          "execution_count": 76
        }
      ]
    },
    {
      "cell_type": "code",
      "metadata": {
        "id": "dvSWMQOtNTRR",
        "colab": {
          "base_uri": "https://localhost:8080/"
        },
        "outputId": "de747de8-f1a6-46cf-f55b-4fc14810fc33"
      },
      "source": [
        "len(control), len(treat)"
      ],
      "execution_count": null,
      "outputs": [
        {
          "output_type": "execute_result",
          "data": {
            "text/plain": [
              "(772, 39)"
            ]
          },
          "metadata": {
            "tags": []
          },
          "execution_count": 75
        }
      ]
    },
    {
      "cell_type": "code",
      "metadata": {
        "id": "xMB3oDHckgOI",
        "colab": {
          "base_uri": "https://localhost:8080/",
          "height": 387
        },
        "outputId": "e05cec9a-4e17-4060-c1a3-80641ccb766e"
      },
      "source": [
        "import statsmodels.api as sm\n",
        "Y = dem['Primary Status'].dropna()\n",
        "Z = dem['treatment'].dropna()\n",
        "Z = sm.add_constant(Z)\n",
        "\n",
        "model = sm.OLS(Y,Z)\n",
        "results = model.fit()\n",
        "results.summary()"
      ],
      "execution_count": null,
      "outputs": [
        {
          "output_type": "execute_result",
          "data": {
            "text/html": [
              "<table class=\"simpletable\">\n",
              "<caption>OLS Regression Results</caption>\n",
              "<tr>\n",
              "  <th>Dep. Variable:</th>     <td>Primary Status</td>  <th>  R-squared:         </th> <td>   0.089</td>\n",
              "</tr>\n",
              "<tr>\n",
              "  <th>Model:</th>                   <td>OLS</td>       <th>  Adj. R-squared:    </th> <td>   0.088</td>\n",
              "</tr>\n",
              "<tr>\n",
              "  <th>Method:</th>             <td>Least Squares</td>  <th>  F-statistic:       </th> <td>   78.87</td>\n",
              "</tr>\n",
              "<tr>\n",
              "  <th>Date:</th>             <td>Tue, 11 May 2021</td> <th>  Prob (F-statistic):</th> <td>4.22e-18</td>\n",
              "</tr>\n",
              "<tr>\n",
              "  <th>Time:</th>                 <td>04:18:22</td>     <th>  Log-Likelihood:    </th> <td> -499.03</td>\n",
              "</tr>\n",
              "<tr>\n",
              "  <th>No. Observations:</th>      <td>   811</td>      <th>  AIC:               </th> <td>   1002.</td>\n",
              "</tr>\n",
              "<tr>\n",
              "  <th>Df Residuals:</th>          <td>   809</td>      <th>  BIC:               </th> <td>   1011.</td>\n",
              "</tr>\n",
              "<tr>\n",
              "  <th>Df Model:</th>              <td>     1</td>      <th>                     </th>     <td> </td>   \n",
              "</tr>\n",
              "<tr>\n",
              "  <th>Covariance Type:</th>      <td>nonrobust</td>    <th>                     </th>     <td> </td>   \n",
              "</tr>\n",
              "</table>\n",
              "<table class=\"simpletable\">\n",
              "<tr>\n",
              "      <td></td>         <th>coef</th>     <th>std err</th>      <th>t</th>      <th>P>|t|</th>  <th>[0.025</th>    <th>0.975]</th>  \n",
              "</tr>\n",
              "<tr>\n",
              "  <th>const</th>     <td>    0.2953</td> <td>    0.016</td> <td>   18.306</td> <td> 0.000</td> <td>    0.264</td> <td>    0.327</td>\n",
              "</tr>\n",
              "<tr>\n",
              "  <th>treatment</th> <td>    0.6534</td> <td>    0.074</td> <td>    8.881</td> <td> 0.000</td> <td>    0.509</td> <td>    0.798</td>\n",
              "</tr>\n",
              "</table>\n",
              "<table class=\"simpletable\">\n",
              "<tr>\n",
              "  <th>Omnibus:</th>       <td>371.518</td> <th>  Durbin-Watson:     </th> <td>   2.179</td>\n",
              "</tr>\n",
              "<tr>\n",
              "  <th>Prob(Omnibus):</th> <td> 0.000</td>  <th>  Jarque-Bera (JB):  </th> <td> 145.460</td>\n",
              "</tr>\n",
              "<tr>\n",
              "  <th>Skew:</th>          <td> 0.880</td>  <th>  Prob(JB):          </th> <td>2.59e-32</td>\n",
              "</tr>\n",
              "<tr>\n",
              "  <th>Kurtosis:</th>      <td> 1.902</td>  <th>  Cond. No.          </th> <td>    4.69</td>\n",
              "</tr>\n",
              "</table><br/><br/>Warnings:<br/>[1] Standard Errors assume that the covariance matrix of the errors is correctly specified."
            ],
            "text/plain": [
              "<class 'statsmodels.iolib.summary.Summary'>\n",
              "\"\"\"\n",
              "                            OLS Regression Results                            \n",
              "==============================================================================\n",
              "Dep. Variable:         Primary Status   R-squared:                       0.089\n",
              "Model:                            OLS   Adj. R-squared:                  0.088\n",
              "Method:                 Least Squares   F-statistic:                     78.87\n",
              "Date:                Tue, 11 May 2021   Prob (F-statistic):           4.22e-18\n",
              "Time:                        04:18:22   Log-Likelihood:                -499.03\n",
              "No. Observations:                 811   AIC:                             1002.\n",
              "Df Residuals:                     809   BIC:                             1011.\n",
              "Df Model:                           1                                         \n",
              "Covariance Type:            nonrobust                                         \n",
              "==============================================================================\n",
              "                 coef    std err          t      P>|t|      [0.025      0.975]\n",
              "------------------------------------------------------------------------------\n",
              "const          0.2953      0.016     18.306      0.000       0.264       0.327\n",
              "treatment      0.6534      0.074      8.881      0.000       0.509       0.798\n",
              "==============================================================================\n",
              "Omnibus:                      371.518   Durbin-Watson:                   2.179\n",
              "Prob(Omnibus):                  0.000   Jarque-Bera (JB):              145.460\n",
              "Skew:                           0.880   Prob(JB):                     2.59e-32\n",
              "Kurtosis:                       1.902   Cond. No.                         4.69\n",
              "==============================================================================\n",
              "\n",
              "Warnings:\n",
              "[1] Standard Errors assume that the covariance matrix of the errors is correctly specified.\n",
              "\"\"\""
            ]
          },
          "metadata": {
            "tags": []
          },
          "execution_count": 21
        }
      ]
    },
    {
      "cell_type": "code",
      "metadata": {
        "id": "l3yJy8rWwETD",
        "colab": {
          "base_uri": "https://localhost:8080/"
        },
        "outputId": "afd9405e-17fa-4a77-a9df-4d679dc94024"
      },
      "source": [
        "# ATE for rep\n",
        "endorsements = rep[['Rep Party Support?']]\n",
        "#  'Trump Endorsed?',\n",
        "#  'Koch Support?',\n",
        "#  'NRA Endorsed?',]]\n",
        "\n",
        "not_endorsed = endorsements[endorsements.sum(axis=1) == 0]\n",
        "\n",
        "control = rep.loc[not_endorsed.index] \n",
        "treat = rep.loc[~rep.index.isin(control.index)]\n",
        "\n",
        "treatment = pd.Series(np.zeros(len(rep))).rename('treatment')\n",
        "treatment.loc[treat.index] = 1\n",
        "rep['treatment'] = treatment #treatment 1 = endorsed by any candidate\n",
        "\n",
        "ATE = np.mean(treat['Primary Status']) - np.mean(control['Primary Status'])\n",
        "ATE"
      ],
      "execution_count": null,
      "outputs": [
        {
          "output_type": "execute_result",
          "data": {
            "text/plain": [
              "0.31103074141048825"
            ]
          },
          "metadata": {
            "tags": []
          },
          "execution_count": 78
        }
      ]
    },
    {
      "cell_type": "code",
      "metadata": {
        "id": "qQW62xIfwEbX",
        "colab": {
          "base_uri": "https://localhost:8080/",
          "height": 387
        },
        "outputId": "938014fb-7e57-413e-91b9-b72453db55c7"
      },
      "source": [
        "Y = rep['Primary Status'].dropna()\n",
        "Z = rep['treatment'].dropna()\n",
        "Z = sm.add_constant(Z)\n",
        "\n",
        "model = sm.OLS(Y,Z)\n",
        "results = model.fit()\n",
        "results.summary()"
      ],
      "execution_count": null,
      "outputs": [
        {
          "output_type": "execute_result",
          "data": {
            "text/html": [
              "<table class=\"simpletable\">\n",
              "<caption>OLS Regression Results</caption>\n",
              "<tr>\n",
              "  <th>Dep. Variable:</th>     <td>Primary Status</td>  <th>  R-squared:         </th> <td>   0.077</td>\n",
              "</tr>\n",
              "<tr>\n",
              "  <th>Model:</th>                   <td>OLS</td>       <th>  Adj. R-squared:    </th> <td>   0.076</td>\n",
              "</tr>\n",
              "<tr>\n",
              "  <th>Method:</th>             <td>Least Squares</td>  <th>  F-statistic:       </th> <td>   64.74</td>\n",
              "</tr>\n",
              "<tr>\n",
              "  <th>Date:</th>             <td>Tue, 11 May 2021</td> <th>  Prob (F-statistic):</th> <td>3.21e-15</td>\n",
              "</tr>\n",
              "<tr>\n",
              "  <th>Time:</th>                 <td>04:18:22</td>     <th>  Log-Likelihood:    </th> <td> -485.01</td>\n",
              "</tr>\n",
              "<tr>\n",
              "  <th>No. Observations:</th>      <td>   774</td>      <th>  AIC:               </th> <td>   974.0</td>\n",
              "</tr>\n",
              "<tr>\n",
              "  <th>Df Residuals:</th>          <td>   772</td>      <th>  BIC:               </th> <td>   983.3</td>\n",
              "</tr>\n",
              "<tr>\n",
              "  <th>Df Model:</th>              <td>     1</td>      <th>                     </th>     <td> </td>   \n",
              "</tr>\n",
              "<tr>\n",
              "  <th>Covariance Type:</th>      <td>nonrobust</td>    <th>                     </th>     <td> </td>   \n",
              "</tr>\n",
              "</table>\n",
              "<table class=\"simpletable\">\n",
              "<tr>\n",
              "      <td></td>         <th>coef</th>     <th>std err</th>      <th>t</th>      <th>P>|t|</th>  <th>[0.025</th>    <th>0.975]</th>  \n",
              "</tr>\n",
              "<tr>\n",
              "  <th>const</th>     <td>    0.2849</td> <td>    0.017</td> <td>   16.397</td> <td> 0.000</td> <td>    0.251</td> <td>    0.319</td>\n",
              "</tr>\n",
              "<tr>\n",
              "  <th>treatment</th> <td>    0.4033</td> <td>    0.050</td> <td>    8.046</td> <td> 0.000</td> <td>    0.305</td> <td>    0.502</td>\n",
              "</tr>\n",
              "</table>\n",
              "<table class=\"simpletable\">\n",
              "<tr>\n",
              "  <th>Omnibus:</th>       <td>378.098</td> <th>  Durbin-Watson:     </th> <td>   1.617</td>\n",
              "</tr>\n",
              "<tr>\n",
              "  <th>Prob(Omnibus):</th> <td> 0.000</td>  <th>  Jarque-Bera (JB):  </th> <td> 108.733</td>\n",
              "</tr>\n",
              "<tr>\n",
              "  <th>Skew:</th>          <td> 0.726</td>  <th>  Prob(JB):          </th> <td>2.45e-24</td>\n",
              "</tr>\n",
              "<tr>\n",
              "  <th>Kurtosis:</th>      <td> 1.877</td>  <th>  Cond. No.          </th> <td>    3.13</td>\n",
              "</tr>\n",
              "</table><br/><br/>Warnings:<br/>[1] Standard Errors assume that the covariance matrix of the errors is correctly specified."
            ],
            "text/plain": [
              "<class 'statsmodels.iolib.summary.Summary'>\n",
              "\"\"\"\n",
              "                            OLS Regression Results                            \n",
              "==============================================================================\n",
              "Dep. Variable:         Primary Status   R-squared:                       0.077\n",
              "Model:                            OLS   Adj. R-squared:                  0.076\n",
              "Method:                 Least Squares   F-statistic:                     64.74\n",
              "Date:                Tue, 11 May 2021   Prob (F-statistic):           3.21e-15\n",
              "Time:                        04:18:22   Log-Likelihood:                -485.01\n",
              "No. Observations:                 774   AIC:                             974.0\n",
              "Df Residuals:                     772   BIC:                             983.3\n",
              "Df Model:                           1                                         \n",
              "Covariance Type:            nonrobust                                         \n",
              "==============================================================================\n",
              "                 coef    std err          t      P>|t|      [0.025      0.975]\n",
              "------------------------------------------------------------------------------\n",
              "const          0.2849      0.017     16.397      0.000       0.251       0.319\n",
              "treatment      0.4033      0.050      8.046      0.000       0.305       0.502\n",
              "==============================================================================\n",
              "Omnibus:                      378.098   Durbin-Watson:                   1.617\n",
              "Prob(Omnibus):                  0.000   Jarque-Bera (JB):              108.733\n",
              "Skew:                           0.726   Prob(JB):                     2.45e-24\n",
              "Kurtosis:                       1.877   Cond. No.                         3.13\n",
              "==============================================================================\n",
              "\n",
              "Warnings:\n",
              "[1] Standard Errors assume that the covariance matrix of the errors is correctly specified.\n",
              "\"\"\""
            ]
          },
          "metadata": {
            "tags": []
          },
          "execution_count": 23
        }
      ]
    },
    {
      "cell_type": "markdown",
      "metadata": {
        "id": "pORVztQXkdbh"
      },
      "source": [
        "### With Confounder\n"
      ]
    },
    {
      "cell_type": "code",
      "metadata": {
        "id": "tPiyYuXtj9BE",
        "colab": {
          "base_uri": "https://localhost:8080/"
        },
        "outputId": "fab82fca-47cc-4a97-9c29-ab91d726e8af"
      },
      "source": [
        "# dem\n",
        "X = (dem[['Obama Alum?','Partisan Lean']].replace(\"Yes\",1).replace(\"No\",0)).dropna()\n",
        "Z = dem['treatment'].loc[X.index]\n",
        "Y = dem['Primary Status'].loc[X.index]\n",
        "\n",
        "Y = Y.to_numpy()\n",
        "X = X.to_numpy()\n",
        "Z = Z.to_numpy()\n",
        "\n",
        "from sklearn.linear_model import LogisticRegression as LR\n",
        "lr = LR(penalty='none', max_iter=200, random_state=0)\n",
        "fit = lr.fit(X,Z)\n",
        "\n",
        "def estimate_treatment_effect(fit,X,Y,Z):\n",
        "  e_x = fit.predict_proba(X)[:,1]\n",
        "  ATE = np.mean((Z*Y)/e_x - (1-Z)*Y/(1-e_x))\n",
        "  return ATE\n",
        "\n",
        "estimate_treatment_effect(fit,X,Y,Z)"
      ],
      "execution_count": null,
      "outputs": [
        {
          "output_type": "execute_result",
          "data": {
            "text/plain": [
              "0.3341156228498388"
            ]
          },
          "metadata": {
            "tags": []
          },
          "execution_count": 77
        }
      ]
    },
    {
      "cell_type": "code",
      "metadata": {
        "id": "Vw8_S9bZ2cH6",
        "colab": {
          "base_uri": "https://localhost:8080/"
        },
        "outputId": "942ee852-7219-4682-b3aa-35f7a7ebb7d5"
      },
      "source": [
        "Y = dem['Primary Status'].dropna()\n",
        "Z = dem['treatment'].dropna()\n",
        "\n",
        "n_1 = np.sum(Z)\n",
        "n_0 = len(Z) - n_1\n",
        "ATE = np.sum(Y*Z)/n_1 - np.sum(Y*(1-Z))/n_0\n",
        "ATE"
      ],
      "execution_count": null,
      "outputs": [
        {
          "output_type": "execute_result",
          "data": {
            "text/plain": [
              "0.6533811611531819"
            ]
          },
          "metadata": {
            "tags": []
          },
          "execution_count": 25
        }
      ]
    },
    {
      "cell_type": "code",
      "metadata": {
        "id": "5ASbafNc3UTf",
        "colab": {
          "base_uri": "https://localhost:8080/",
          "height": 423
        },
        "outputId": "d3e69329-4ce6-45d4-c75f-989f5840bd92"
      },
      "source": [
        "Y = dem['Primary Status'].dropna()\n",
        "Z = dem[['Obama Alum?','Partisan Lean','treatment']].dropna()\n",
        "# Z['Partisan Lean'] = stats.zscore(dem['Partisan Lean'])\n",
        "Z = sm.add_constant(Z)\n",
        "\n",
        "model = sm.OLS(Y,Z)\n",
        "results = model.fit()\n",
        "results.summary()"
      ],
      "execution_count": null,
      "outputs": [
        {
          "output_type": "execute_result",
          "data": {
            "text/html": [
              "<table class=\"simpletable\">\n",
              "<caption>OLS Regression Results</caption>\n",
              "<tr>\n",
              "  <th>Dep. Variable:</th>     <td>Primary Status</td>  <th>  R-squared:         </th> <td>   0.140</td>\n",
              "</tr>\n",
              "<tr>\n",
              "  <th>Model:</th>                   <td>OLS</td>       <th>  Adj. R-squared:    </th> <td>   0.136</td>\n",
              "</tr>\n",
              "<tr>\n",
              "  <th>Method:</th>             <td>Least Squares</td>  <th>  F-statistic:       </th> <td>   43.62</td>\n",
              "</tr>\n",
              "<tr>\n",
              "  <th>Date:</th>             <td>Tue, 11 May 2021</td> <th>  Prob (F-statistic):</th> <td>3.97e-26</td>\n",
              "</tr>\n",
              "<tr>\n",
              "  <th>Time:</th>                 <td>04:18:22</td>     <th>  Log-Likelihood:    </th> <td> -475.82</td>\n",
              "</tr>\n",
              "<tr>\n",
              "  <th>No. Observations:</th>      <td>   811</td>      <th>  AIC:               </th> <td>   959.6</td>\n",
              "</tr>\n",
              "<tr>\n",
              "  <th>Df Residuals:</th>          <td>   807</td>      <th>  BIC:               </th> <td>   978.4</td>\n",
              "</tr>\n",
              "<tr>\n",
              "  <th>Df Model:</th>              <td>     3</td>      <th>                     </th>     <td> </td>   \n",
              "</tr>\n",
              "<tr>\n",
              "  <th>Covariance Type:</th>      <td>nonrobust</td>    <th>                     </th>     <td> </td>   \n",
              "</tr>\n",
              "</table>\n",
              "<table class=\"simpletable\">\n",
              "<tr>\n",
              "        <td></td>           <th>coef</th>     <th>std err</th>      <th>t</th>      <th>P>|t|</th>  <th>[0.025</th>    <th>0.975]</th>  \n",
              "</tr>\n",
              "<tr>\n",
              "  <th>const</th>         <td>    0.2200</td> <td>    0.019</td> <td>   11.431</td> <td> 0.000</td> <td>    0.182</td> <td>    0.258</td>\n",
              "</tr>\n",
              "<tr>\n",
              "  <th>Obama Alum?</th>   <td>    0.1049</td> <td>    0.077</td> <td>    1.359</td> <td> 0.174</td> <td>   -0.047</td> <td>    0.256</td>\n",
              "</tr>\n",
              "<tr>\n",
              "  <th>Partisan Lean</th> <td>   -0.0051</td> <td>    0.001</td> <td>   -6.874</td> <td> 0.000</td> <td>   -0.007</td> <td>   -0.004</td>\n",
              "</tr>\n",
              "<tr>\n",
              "  <th>treatment</th>     <td>    0.6907</td> <td>    0.072</td> <td>    9.595</td> <td> 0.000</td> <td>    0.549</td> <td>    0.832</td>\n",
              "</tr>\n",
              "</table>\n",
              "<table class=\"simpletable\">\n",
              "<tr>\n",
              "  <th>Omnibus:</th>       <td>218.966</td> <th>  Durbin-Watson:     </th> <td>   2.273</td>\n",
              "</tr>\n",
              "<tr>\n",
              "  <th>Prob(Omnibus):</th> <td> 0.000</td>  <th>  Jarque-Bera (JB):  </th> <td> 120.854</td>\n",
              "</tr>\n",
              "<tr>\n",
              "  <th>Skew:</th>          <td> 0.811</td>  <th>  Prob(JB):          </th> <td>5.71e-27</td>\n",
              "</tr>\n",
              "<tr>\n",
              "  <th>Kurtosis:</th>      <td> 2.028</td>  <th>  Cond. No.          </th> <td>    127.</td>\n",
              "</tr>\n",
              "</table><br/><br/>Warnings:<br/>[1] Standard Errors assume that the covariance matrix of the errors is correctly specified."
            ],
            "text/plain": [
              "<class 'statsmodels.iolib.summary.Summary'>\n",
              "\"\"\"\n",
              "                            OLS Regression Results                            \n",
              "==============================================================================\n",
              "Dep. Variable:         Primary Status   R-squared:                       0.140\n",
              "Model:                            OLS   Adj. R-squared:                  0.136\n",
              "Method:                 Least Squares   F-statistic:                     43.62\n",
              "Date:                Tue, 11 May 2021   Prob (F-statistic):           3.97e-26\n",
              "Time:                        04:18:22   Log-Likelihood:                -475.82\n",
              "No. Observations:                 811   AIC:                             959.6\n",
              "Df Residuals:                     807   BIC:                             978.4\n",
              "Df Model:                           3                                         \n",
              "Covariance Type:            nonrobust                                         \n",
              "=================================================================================\n",
              "                    coef    std err          t      P>|t|      [0.025      0.975]\n",
              "---------------------------------------------------------------------------------\n",
              "const             0.2200      0.019     11.431      0.000       0.182       0.258\n",
              "Obama Alum?       0.1049      0.077      1.359      0.174      -0.047       0.256\n",
              "Partisan Lean    -0.0051      0.001     -6.874      0.000      -0.007      -0.004\n",
              "treatment         0.6907      0.072      9.595      0.000       0.549       0.832\n",
              "==============================================================================\n",
              "Omnibus:                      218.966   Durbin-Watson:                   2.273\n",
              "Prob(Omnibus):                  0.000   Jarque-Bera (JB):              120.854\n",
              "Skew:                           0.811   Prob(JB):                     5.71e-27\n",
              "Kurtosis:                       2.028   Cond. No.                         127.\n",
              "==============================================================================\n",
              "\n",
              "Warnings:\n",
              "[1] Standard Errors assume that the covariance matrix of the errors is correctly specified.\n",
              "\"\"\""
            ]
          },
          "metadata": {
            "tags": []
          },
          "execution_count": 26
        }
      ]
    },
    {
      "cell_type": "code",
      "metadata": {
        "id": "MA757Rp-0E4f",
        "colab": {
          "base_uri": "https://localhost:8080/"
        },
        "outputId": "c0586f4f-0abe-42e8-afef-c46cdf1c9f17"
      },
      "source": [
        "# rep \n",
        "X = (dem[['Obama Alum?','Partisan Lean']].replace(\"Yes\",1).replace(\"No\",0)).dropna()\n",
        "Z = dem['treatment'].loc[X.index]\n",
        "Y = dem['Primary Status'].loc[X.index]\n",
        "\n",
        "Y = Y.to_numpy()\n",
        "X = X.to_numpy()\n",
        "Z = Z.to_numpy()\n",
        "\n",
        "from sklearn.linear_model import LogisticRegression as LR\n",
        "lr = LR(penalty='none', max_iter=200, random_state=0)\n",
        "fit = lr.fit(X,Z)\n",
        "\n",
        "def estimate_treatment_effect(fit,X,Y,Z):\n",
        "  e_x = fit.predict_proba(X)[:,1]\n",
        "  ATE = np.mean((Z*Y)/e_x - (1-Z)*Y/(1-e_x))\n",
        "  return ATE\n",
        "\n",
        "estimate_treatment_effect(fit,X,Y,Z)"
      ],
      "execution_count": null,
      "outputs": [
        {
          "output_type": "execute_result",
          "data": {
            "text/plain": [
              "0.5942179239558727"
            ]
          },
          "metadata": {
            "tags": []
          },
          "execution_count": 27
        }
      ]
    },
    {
      "cell_type": "markdown",
      "metadata": {
        "id": "dC0eO2GVlTnx"
      },
      "source": [
        "### Simpsons Paradox"
      ]
    },
    {
      "cell_type": "code",
      "metadata": {
        "id": "YA92ROT0ndmq",
        "colab": {
          "base_uri": "https://localhost:8080/",
          "height": 371
        },
        "outputId": "9b0e6f6d-44c2-4234-c818-2a27fcad8d6a"
      },
      "source": [
        "# merging dem and rep\n",
        "df = rep[['Rep Party Support?','Primary Status']]\n",
        "df.columns = ['Party Support?','Primary Status']\n",
        "df['party'] = ['rep']*len(df)\n",
        "df2 = dem[['Party Support?','Primary Status']]\n",
        "df2['party'] = ['dem']*len(df2)\n",
        "all_candidates = pd.concat([df,df2])\n",
        "\n",
        "d = {'Party Support (Treatment)': [39/63,37/39,76/102], 'No Party Support (Control)': [219/711,228/772,447/1483]}\n",
        "pd.DataFrame(d,index=['Rep','Dem','Total'])"
      ],
      "execution_count": null,
      "outputs": [
        {
          "output_type": "stream",
          "text": [
            "/usr/local/lib/python3.7/dist-packages/ipykernel_launcher.py:4: SettingWithCopyWarning: \n",
            "A value is trying to be set on a copy of a slice from a DataFrame.\n",
            "Try using .loc[row_indexer,col_indexer] = value instead\n",
            "\n",
            "See the caveats in the documentation: https://pandas.pydata.org/pandas-docs/stable/user_guide/indexing.html#returning-a-view-versus-a-copy\n",
            "  after removing the cwd from sys.path.\n",
            "/usr/local/lib/python3.7/dist-packages/ipykernel_launcher.py:6: SettingWithCopyWarning: \n",
            "A value is trying to be set on a copy of a slice from a DataFrame.\n",
            "Try using .loc[row_indexer,col_indexer] = value instead\n",
            "\n",
            "See the caveats in the documentation: https://pandas.pydata.org/pandas-docs/stable/user_guide/indexing.html#returning-a-view-versus-a-copy\n",
            "  \n"
          ],
          "name": "stderr"
        },
        {
          "output_type": "execute_result",
          "data": {
            "text/html": [
              "<div>\n",
              "<style scoped>\n",
              "    .dataframe tbody tr th:only-of-type {\n",
              "        vertical-align: middle;\n",
              "    }\n",
              "\n",
              "    .dataframe tbody tr th {\n",
              "        vertical-align: top;\n",
              "    }\n",
              "\n",
              "    .dataframe thead th {\n",
              "        text-align: right;\n",
              "    }\n",
              "</style>\n",
              "<table border=\"1\" class=\"dataframe\">\n",
              "  <thead>\n",
              "    <tr style=\"text-align: right;\">\n",
              "      <th></th>\n",
              "      <th>Party Support (Treatment)</th>\n",
              "      <th>No Party Support (Control)</th>\n",
              "    </tr>\n",
              "  </thead>\n",
              "  <tbody>\n",
              "    <tr>\n",
              "      <th>Rep</th>\n",
              "      <td>0.619048</td>\n",
              "      <td>0.308017</td>\n",
              "    </tr>\n",
              "    <tr>\n",
              "      <th>Dem</th>\n",
              "      <td>0.948718</td>\n",
              "      <td>0.295337</td>\n",
              "    </tr>\n",
              "    <tr>\n",
              "      <th>Total</th>\n",
              "      <td>0.745098</td>\n",
              "      <td>0.301416</td>\n",
              "    </tr>\n",
              "  </tbody>\n",
              "</table>\n",
              "</div>"
            ],
            "text/plain": [
              "       Party Support (Treatment)  No Party Support (Control)\n",
              "Rep                     0.619048                    0.308017\n",
              "Dem                     0.948718                    0.295337\n",
              "Total                   0.745098                    0.301416"
            ]
          },
          "metadata": {
            "tags": []
          },
          "execution_count": 28
        }
      ]
    },
    {
      "cell_type": "code",
      "metadata": {
        "id": "CdbvrEYvcxGJ",
        "colab": {
          "base_uri": "https://localhost:8080/"
        },
        "outputId": "647bd529-1399-4bb3-f304-117ebb92b73b"
      },
      "source": [
        "len(all_candidates[(all_candidates['Party Support?'] == 0) & \n",
        "              #  (all_candidates['Primary Status'] == 1) & \n",
        "               (all_candidates['party'] == 'dem')])"
      ],
      "execution_count": null,
      "outputs": [
        {
          "output_type": "execute_result",
          "data": {
            "text/plain": [
              "772"
            ]
          },
          "metadata": {
            "tags": []
          },
          "execution_count": 29
        }
      ]
    },
    {
      "cell_type": "code",
      "metadata": {
        "id": "9AmOCXjhtVdy",
        "colab": {
          "base_uri": "https://localhost:8080/"
        },
        "outputId": "36f94259-3595-41bd-d35b-6347548dc3f1"
      },
      "source": [
        "len(all_candidates)"
      ],
      "execution_count": null,
      "outputs": [
        {
          "output_type": "execute_result",
          "data": {
            "text/plain": [
              "1585"
            ]
          },
          "metadata": {
            "tags": []
          },
          "execution_count": 30
        }
      ]
    },
    {
      "cell_type": "markdown",
      "metadata": {
        "id": "5VAr3aoUZsOC"
      },
      "source": [
        "### **Question 2 (GLM and Nonparametric)**\n",
        "\n"
      ]
    },
    {
      "cell_type": "markdown",
      "metadata": {
        "id": "QS1ZXAqknS-B"
      },
      "source": [
        "### GLM"
      ]
    },
    {
      "cell_type": "code",
      "metadata": {
        "id": "nS0qwDp7aGdy",
        "colab": {
          "base_uri": "https://localhost:8080/"
        },
        "outputId": "97c879f4-5bc0-41d3-f7be-d22fc50b587b"
      },
      "source": [
        "list(dem)"
      ],
      "execution_count": null,
      "outputs": [
        {
          "output_type": "execute_result",
          "data": {
            "text/plain": [
              "['Candidate',\n",
              " 'State',\n",
              " 'District',\n",
              " 'Office Type',\n",
              " 'Race Type',\n",
              " 'Race Primary Election Date',\n",
              " 'Primary Status',\n",
              " 'Primary Runoff Status',\n",
              " 'General Status',\n",
              " 'Partisan Lean',\n",
              " 'Primary %',\n",
              " 'Won Primary',\n",
              " 'Race',\n",
              " 'Veteran?',\n",
              " 'LGBTQ?',\n",
              " 'Elected Official?',\n",
              " 'Self-Funder?',\n",
              " 'STEM?',\n",
              " 'Obama Alum?',\n",
              " 'Party Support?',\n",
              " 'Emily Endorsed?',\n",
              " 'Guns Sense Candidate?',\n",
              " 'Biden Endorsed?',\n",
              " 'Warren Endorsed? ',\n",
              " 'Sanders Endorsed?',\n",
              " 'Our Revolution Endorsed?',\n",
              " 'Justice Dems Endorsed?',\n",
              " 'PCCC Endorsed?',\n",
              " 'Indivisible Endorsed?',\n",
              " 'WFP Endorsed?',\n",
              " 'VoteVets Endorsed?',\n",
              " 'No Labels Support?',\n",
              " 'treatment']"
            ]
          },
          "metadata": {
            "tags": []
          },
          "execution_count": 31
        }
      ]
    },
    {
      "cell_type": "code",
      "metadata": {
        "id": "x15Y9Zn2aICA"
      },
      "source": [
        "##Cleaning data sets, choosing endorsements, primary status, and candidate, then replacing string values as specified above\n",
        "dem_clean = dem[['Candidate', 'Primary Status', 'Emily Endorsed?',\n",
        " 'Guns Sense Candidate?',\n",
        " 'Biden Endorsed?',\n",
        " 'Warren Endorsed? ',\n",
        " 'Sanders Endorsed?',\n",
        " 'Our Revolution Endorsed?',\n",
        " 'Justice Dems Endorsed?',\n",
        " 'PCCC Endorsed?',\n",
        " 'Indivisible Endorsed?',\n",
        " 'WFP Endorsed?',\n",
        " 'VoteVets Endorsed?',\n",
        " 'No Labels Support?' ]]\n",
        "dem_clean = dem_clean.fillna(0)\n",
        "dem_clean_binary = dem_clean.replace(['Advanced', 'Lost', 'Yes', 'No'], [1, 0, 1, -1])"
      ],
      "execution_count": null,
      "outputs": []
    },
    {
      "cell_type": "code",
      "metadata": {
        "id": "hp8yFLiUak7X",
        "colab": {
          "base_uri": "https://localhost:8080/"
        },
        "outputId": "1c0b8d7b-dcca-4bcd-9eef-3e3a1b05f46f"
      },
      "source": [
        "list(rep)"
      ],
      "execution_count": null,
      "outputs": [
        {
          "output_type": "execute_result",
          "data": {
            "text/plain": [
              "['Candidate',\n",
              " 'State',\n",
              " 'District',\n",
              " 'Office Type',\n",
              " 'Race Type',\n",
              " 'Race Primary Election Date',\n",
              " 'Primary Status',\n",
              " 'Primary Runoff Status',\n",
              " 'General Status',\n",
              " 'Primary %',\n",
              " 'Won Primary',\n",
              " 'Rep Party Support?',\n",
              " 'Trump Endorsed?',\n",
              " 'Bannon Endorsed?',\n",
              " 'Great America Endorsed?',\n",
              " 'NRA Endorsed?',\n",
              " 'Right to Life Endorsed?',\n",
              " 'Susan B. Anthony Endorsed?',\n",
              " 'Club for Growth Endorsed?',\n",
              " 'Koch Support?',\n",
              " 'House Freedom Support?',\n",
              " 'Tea Party Endorsed?',\n",
              " 'Main Street Endorsed?',\n",
              " 'Chamber Endorsed?',\n",
              " 'No Labels Support?',\n",
              " 'treatment']"
            ]
          },
          "metadata": {
            "tags": []
          },
          "execution_count": 33
        }
      ]
    },
    {
      "cell_type": "code",
      "metadata": {
        "id": "GqAXpzqltzgm",
        "colab": {
          "base_uri": "https://localhost:8080/"
        },
        "outputId": "a5e98fee-c7af-43e0-f4e5-5f8a0cb754f6"
      },
      "source": [
        "rep['Primary Status'].unique()"
      ],
      "execution_count": null,
      "outputs": [
        {
          "output_type": "execute_result",
          "data": {
            "text/plain": [
              "array([1, 0])"
            ]
          },
          "metadata": {
            "tags": []
          },
          "execution_count": 34
        }
      ]
    },
    {
      "cell_type": "code",
      "metadata": {
        "id": "NIFgxcHWbbqz"
      },
      "source": [
        "rep_clean = rep[['Candidate','Primary Status','Rep Party Support?',\n",
        " 'Trump Endorsed?',\n",
        " 'Bannon Endorsed?',\n",
        " 'Great America Endorsed?',\n",
        " 'NRA Endorsed?',\n",
        " 'Right to Life Endorsed?',\n",
        " 'Susan B. Anthony Endorsed?',\n",
        " 'Club for Growth Endorsed?',\n",
        " 'Koch Support?',\n",
        " 'House Freedom Support?',\n",
        " 'Tea Party Endorsed?',\n",
        " 'Main Street Endorsed?',\n",
        " 'Chamber Endorsed?',\n",
        " 'No Labels Support?']]"
      ],
      "execution_count": null,
      "outputs": []
    },
    {
      "cell_type": "code",
      "metadata": {
        "id": "9d5PXAgsb6XE"
      },
      "source": [
        " rep_clean = rep_clean.fillna(0)\n",
        " rep_clean_binary = rep_clean.replace(['Advanced', 'On the Ballot', 'Lost', 'Yes', 'No'], [1, 1, 0, 1, -1])"
      ],
      "execution_count": null,
      "outputs": []
    },
    {
      "cell_type": "code",
      "metadata": {
        "id": "gQc54R4XgOo2"
      },
      "source": [
        "#Split into y, predicting primary status, and x, different endorsements for both data sets"
      ],
      "execution_count": null,
      "outputs": []
    },
    {
      "cell_type": "code",
      "metadata": {
        "id": "pCQaQwFskc6U"
      },
      "source": [
        "y_dem = dem_clean_binary[['Primary Status']]\n",
        "X_dem = dem_clean_binary[['Emily Endorsed?',\n",
        " 'Guns Sense Candidate?',\n",
        " 'Biden Endorsed?',\n",
        " 'Warren Endorsed? ',\n",
        " 'Sanders Endorsed?',\n",
        " 'Our Revolution Endorsed?',\n",
        " 'Justice Dems Endorsed?',\n",
        " 'PCCC Endorsed?',\n",
        " 'Indivisible Endorsed?',\n",
        " 'WFP Endorsed?',\n",
        " 'VoteVets Endorsed?',\n",
        " 'No Labels Support?' ]]\n",
        "\n",
        "y_rep = rep_clean_binary[['Primary Status']]\n",
        "X_rep = rep_clean_binary[['Rep Party Support?',\n",
        " 'Trump Endorsed?',\n",
        " 'Bannon Endorsed?',\n",
        " 'Great America Endorsed?',\n",
        " 'NRA Endorsed?',\n",
        " 'Right to Life Endorsed?',\n",
        " 'Susan B. Anthony Endorsed?',\n",
        " 'Club for Growth Endorsed?',\n",
        " 'Koch Support?',\n",
        " 'House Freedom Support?',\n",
        " 'Tea Party Endorsed?',\n",
        " 'Main Street Endorsed?',\n",
        " 'Chamber Endorsed?',\n",
        " 'No Labels Support?']]"
      ],
      "execution_count": null,
      "outputs": []
    },
    {
      "cell_type": "code",
      "metadata": {
        "id": "oyySm0gIlo5z"
      },
      "source": [
        "Xdem_train, Xdem_test, ydem_train, ydem_test = train_test_split(\n",
        "    X_dem, y_dem, test_size=80, random_state=42\n",
        ")"
      ],
      "execution_count": null,
      "outputs": []
    },
    {
      "cell_type": "code",
      "metadata": {
        "id": "u40VzgCQozdZ"
      },
      "source": [
        "Xrep_train, Xrep_test, yrep_train, yrep_test = train_test_split(\n",
        "    X_rep, y_rep, test_size=75, random_state=42\n",
        ")"
      ],
      "execution_count": null,
      "outputs": []
    },
    {
      "cell_type": "code",
      "metadata": {
        "id": "bWPYLpuBCzC7",
        "colab": {
          "base_uri": "https://localhost:8080/"
        },
        "outputId": "32f2040c-3baa-47d7-f5f6-36d1ed776aa4"
      },
      "source": [
        "dem_log_reg = sm.Logit(ydem_train, Xdem_train).fit()\n",
        "print(dem_log_reg.summary())"
      ],
      "execution_count": null,
      "outputs": [
        {
          "output_type": "stream",
          "text": [
            "Warning: Maximum number of iterations has been exceeded.\n",
            "         Current function value: 0.664898\n",
            "         Iterations: 35\n",
            "                           Logit Regression Results                           \n",
            "==============================================================================\n",
            "Dep. Variable:         Primary Status   No. Observations:                  731\n",
            "Model:                          Logit   Df Residuals:                      719\n",
            "Method:                           MLE   Df Model:                           11\n",
            "Date:                Tue, 11 May 2021   Pseudo R-squ.:                -0.06228\n",
            "Time:                        04:18:23   Log-Likelihood:                -486.04\n",
            "converged:                      False   LL-Null:                       -457.55\n",
            "Covariance Type:            nonrobust   LLR p-value:                     1.000\n",
            "============================================================================================\n",
            "                               coef    std err          z      P>|z|      [0.025      0.975]\n",
            "--------------------------------------------------------------------------------------------\n",
            "Emily Endorsed?              0.7416      0.357      2.076      0.038       0.041       1.442\n",
            "Guns Sense Candidate?       -0.3395      0.175     -1.940      0.052      -0.683       0.003\n",
            "Biden Endorsed?             27.7421   3.84e+05   7.22e-05      1.000   -7.53e+05    7.53e+05\n",
            "Warren Endorsed?            20.8785   2.23e+04      0.001      0.999   -4.37e+04    4.37e+04\n",
            "Sanders Endorsed?            0.6607      0.806      0.820      0.412      -0.918       2.240\n",
            "Our Revolution Endorsed?    -0.5006      0.283     -1.770      0.077      -1.055       0.054\n",
            "Justice Dems Endorsed?      -0.3727      0.361     -1.031      0.302      -1.081       0.336\n",
            "PCCC Endorsed?               0.1519      0.734      0.207      0.836      -1.287       1.590\n",
            "Indivisible Endorsed?        0.8735      0.355      2.462      0.014       0.178       1.569\n",
            "WFP Endorsed?                0.4639      0.429      1.081      0.280      -0.377       1.305\n",
            "VoteVets Endorsed?          -0.0354      0.455     -0.078      0.938      -0.927       0.856\n",
            "No Labels Support?         -22.7892   6.34e+04     -0.000      1.000   -1.24e+05    1.24e+05\n",
            "============================================================================================\n"
          ],
          "name": "stdout"
        },
        {
          "output_type": "stream",
          "text": [
            "/usr/local/lib/python3.7/dist-packages/statsmodels/base/model.py:512: ConvergenceWarning: Maximum Likelihood optimization failed to converge. Check mle_retvals\n",
            "  \"Check mle_retvals\", ConvergenceWarning)\n"
          ],
          "name": "stderr"
        }
      ]
    },
    {
      "cell_type": "code",
      "metadata": {
        "id": "RW74vVCtIWm2",
        "colab": {
          "base_uri": "https://localhost:8080/"
        },
        "outputId": "de95a163-69b8-4953-9c9d-d00fe087e48c"
      },
      "source": [
        "dem_yhat = dem_log_reg.predict(Xdem_test)\n",
        "dem_prediction = list(map(round, dem_yhat))\n",
        "print('Test accuracy = ', accuracy_score(ydem_test, dem_prediction))"
      ],
      "execution_count": null,
      "outputs": [
        {
          "output_type": "stream",
          "text": [
            "Test accuracy =  0.7125\n"
          ],
          "name": "stdout"
        }
      ]
    },
    {
      "cell_type": "code",
      "metadata": {
        "id": "PyAaabMmH_bP",
        "colab": {
          "base_uri": "https://localhost:8080/"
        },
        "outputId": "97a39e68-270f-4780-c5db-8d1698235265"
      },
      "source": [
        "rep_log_reg = sm.Logit(yrep_train, Xrep_train).fit()\n",
        "print(rep_log_reg.summary())"
      ],
      "execution_count": null,
      "outputs": [
        {
          "output_type": "stream",
          "text": [
            "Warning: Maximum number of iterations has been exceeded.\n",
            "         Current function value: 0.667434\n",
            "         Iterations: 35\n",
            "                           Logit Regression Results                           \n",
            "==============================================================================\n",
            "Dep. Variable:         Primary Status   No. Observations:                  699\n",
            "Model:                          Logit   Df Residuals:                      685\n",
            "Method:                           MLE   Df Model:                           13\n",
            "Date:                Tue, 11 May 2021   Pseudo R-squ.:                -0.04535\n",
            "Time:                        04:18:23   Log-Likelihood:                -466.54\n",
            "converged:                      False   LL-Null:                       -446.30\n",
            "Covariance Type:            nonrobust   LLR p-value:                     1.000\n",
            "==============================================================================================\n",
            "                                 coef    std err          z      P>|z|      [0.025      0.975]\n",
            "----------------------------------------------------------------------------------------------\n",
            "Rep Party Support?             0.2619      0.316      0.830      0.407      -0.357       0.881\n",
            "Trump Endorsed?                1.7546      0.892      1.968      0.049       0.007       3.502\n",
            "Bannon Endorsed?              17.1404   4575.287      0.004      0.997   -8950.257    8984.537\n",
            "Great America Endorsed?      -17.5243   4575.287     -0.004      0.997   -8984.922    8949.873\n",
            "NRA Endorsed?                  0.6586      0.696      0.947      0.344      -0.705       2.022\n",
            "Right to Life Endorsed?       -0.6392      0.284     -2.253      0.024      -1.195      -0.083\n",
            "Susan B. Anthony Endorsed?    -0.3573      0.535     -0.668      0.504      -1.406       0.691\n",
            "Club for Growth Endorsed?      0.3281      0.734      0.447      0.655      -1.110       1.767\n",
            "Koch Support?                  2.5542      1.069      2.389      0.017       0.459       4.649\n",
            "House Freedom Support?        -0.4898      0.780     -0.628      0.530      -2.019       1.039\n",
            "Tea Party Endorsed?            1.0024      0.764      1.311      0.190      -0.496       2.500\n",
            "Main Street Endorsed?          0.0246      0.597      0.041      0.967      -1.146       1.195\n",
            "Chamber Endorsed?             -0.3376      0.883     -0.382      0.702      -2.069       1.394\n",
            "No Labels Support?           -21.7605   5.31e+04     -0.000      1.000   -1.04e+05    1.04e+05\n",
            "==============================================================================================\n"
          ],
          "name": "stdout"
        },
        {
          "output_type": "stream",
          "text": [
            "/usr/local/lib/python3.7/dist-packages/statsmodels/base/model.py:512: ConvergenceWarning: Maximum Likelihood optimization failed to converge. Check mle_retvals\n",
            "  \"Check mle_retvals\", ConvergenceWarning)\n"
          ],
          "name": "stderr"
        }
      ]
    },
    {
      "cell_type": "code",
      "metadata": {
        "id": "j34L-tdrJcaj",
        "colab": {
          "base_uri": "https://localhost:8080/"
        },
        "outputId": "d38cdfc5-7a65-4a18-e839-6d694929e036"
      },
      "source": [
        "rep_yhat = rep_log_reg.predict(Xrep_test)\n",
        "rep_prediction = list(map(round, rep_yhat))\n",
        "print('Test accuracy = ', accuracy_score(yrep_test, rep_prediction))"
      ],
      "execution_count": null,
      "outputs": [
        {
          "output_type": "stream",
          "text": [
            "Test accuracy =  0.7066666666666667\n"
          ],
          "name": "stdout"
        }
      ]
    },
    {
      "cell_type": "markdown",
      "metadata": {
        "id": "GisjiFYhPQZf"
      },
      "source": [
        "### Nonparametric\n",
        "\n",
        "Random Forest Model, depth 6"
      ]
    },
    {
      "cell_type": "code",
      "metadata": {
        "id": "wurbTb8GPP90",
        "colab": {
          "base_uri": "https://localhost:8080/"
        },
        "outputId": "4e3ce642-298f-4f6c-c1d0-be24a6428915"
      },
      "source": [
        "dem_tree_model = RandomForestClassifier(n_estimators=100, max_depth=6)\n",
        "dem_tree_model.fit(Xdem_train, ydem_train)"
      ],
      "execution_count": null,
      "outputs": [
        {
          "output_type": "stream",
          "text": [
            "/usr/local/lib/python3.7/dist-packages/ipykernel_launcher.py:2: DataConversionWarning: A column-vector y was passed when a 1d array was expected. Please change the shape of y to (n_samples,), for example using ravel().\n",
            "  \n"
          ],
          "name": "stderr"
        },
        {
          "output_type": "execute_result",
          "data": {
            "text/plain": [
              "RandomForestClassifier(bootstrap=True, ccp_alpha=0.0, class_weight=None,\n",
              "                       criterion='gini', max_depth=6, max_features='auto',\n",
              "                       max_leaf_nodes=None, max_samples=None,\n",
              "                       min_impurity_decrease=0.0, min_impurity_split=None,\n",
              "                       min_samples_leaf=1, min_samples_split=2,\n",
              "                       min_weight_fraction_leaf=0.0, n_estimators=100,\n",
              "                       n_jobs=None, oob_score=False, random_state=None,\n",
              "                       verbose=0, warm_start=False)"
            ]
          },
          "metadata": {
            "tags": []
          },
          "execution_count": 45
        }
      ]
    },
    {
      "cell_type": "code",
      "metadata": {
        "id": "6bG_wcBsWA01"
      },
      "source": [
        "dem_probs = dem_tree_model.predict_proba(Xdem_test)[:, 1]\n",
        "demTree_prediction = dem_probs > 0.5\n"
      ],
      "execution_count": null,
      "outputs": []
    },
    {
      "cell_type": "code",
      "metadata": {
        "id": "hfKDa6SRXaQK",
        "colab": {
          "base_uri": "https://localhost:8080/"
        },
        "outputId": "fcf47c55-7e4e-42ed-b7eb-6744e89eb5f0"
      },
      "source": [
        "print(\"Accuracy\", (demTree_prediction == ydem_test['Primary Status']).mean())"
      ],
      "execution_count": null,
      "outputs": [
        {
          "output_type": "stream",
          "text": [
            "Accuracy 0.6625\n"
          ],
          "name": "stdout"
        }
      ]
    },
    {
      "cell_type": "code",
      "metadata": {
        "id": "vL2tFPWiXzCF",
        "colab": {
          "base_uri": "https://localhost:8080/"
        },
        "outputId": "0bf1d96b-5298-4244-a7c9-94d2f28ad9b6"
      },
      "source": [
        "rep_tree_model = RandomForestClassifier(n_estimators=100, max_depth=6)\n",
        "rep_tree_model.fit(Xrep_train, yrep_train)"
      ],
      "execution_count": null,
      "outputs": [
        {
          "output_type": "stream",
          "text": [
            "/usr/local/lib/python3.7/dist-packages/ipykernel_launcher.py:2: DataConversionWarning: A column-vector y was passed when a 1d array was expected. Please change the shape of y to (n_samples,), for example using ravel().\n",
            "  \n"
          ],
          "name": "stderr"
        },
        {
          "output_type": "execute_result",
          "data": {
            "text/plain": [
              "RandomForestClassifier(bootstrap=True, ccp_alpha=0.0, class_weight=None,\n",
              "                       criterion='gini', max_depth=6, max_features='auto',\n",
              "                       max_leaf_nodes=None, max_samples=None,\n",
              "                       min_impurity_decrease=0.0, min_impurity_split=None,\n",
              "                       min_samples_leaf=1, min_samples_split=2,\n",
              "                       min_weight_fraction_leaf=0.0, n_estimators=100,\n",
              "                       n_jobs=None, oob_score=False, random_state=None,\n",
              "                       verbose=0, warm_start=False)"
            ]
          },
          "metadata": {
            "tags": []
          },
          "execution_count": 48
        }
      ]
    },
    {
      "cell_type": "code",
      "metadata": {
        "id": "Ry9bKGmgX4ZS",
        "colab": {
          "base_uri": "https://localhost:8080/"
        },
        "outputId": "3c56afc7-2e72-4e23-b885-0b498625380f"
      },
      "source": [
        "rep_probs = rep_tree_model.predict_proba(Xrep_test)[:, 1]\n",
        "repTree_prediction = rep_probs > 0.5\n",
        "print(\"Accuracy\", (repTree_prediction == yrep_test['Primary Status']).mean())"
      ],
      "execution_count": null,
      "outputs": [
        {
          "output_type": "stream",
          "text": [
            "Accuracy 0.7333333333333333\n"
          ],
          "name": "stdout"
        }
      ]
    },
    {
      "cell_type": "markdown",
      "metadata": {
        "id": "hIw8jrCSnqLq"
      },
      "source": [
        "### **EDA for Question 2**"
      ]
    },
    {
      "cell_type": "code",
      "metadata": {
        "id": "8BuXaVc82Ddh",
        "colab": {
          "base_uri": "https://localhost:8080/",
          "height": 278
        },
        "outputId": "45870b88-d50e-4122-d5f8-611dd7211c48"
      },
      "source": [
        "plt.hist(dem['Primary %'])\n",
        "plt.xlabel('Democrat Primary %')\n",
        "plt.show()"
      ],
      "execution_count": null,
      "outputs": [
        {
          "output_type": "display_data",
          "data": {
            "image/png": "[encoded data removed]",
            "text/plain": [
              "<Figure size 432x288 with 1 Axes>"
            ]
          },
          "metadata": {
            "tags": [],
            "needs_background": "light"
          }
        }
      ]
    },
    {
      "cell_type": "code",
      "metadata": {
        "id": "QbVbO6nDpTKT"
      },
      "source": [
        "# assuming a multivariate Gaussian distribution\n",
        "mean = [0, 0]\n",
        "cov = [[1, 1], [1, 2]]\n",
        "x, y = np.random.multivariate_normal(mean, cov, 10000).T"
      ],
      "execution_count": null,
      "outputs": []
    },
    {
      "cell_type": "code",
      "metadata": {
        "id": "kYPVEplsqeSe",
        "colab": {
          "base_uri": "https://localhost:8080/",
          "height": 264
        },
        "outputId": "1b0e4d65-da7b-42df-9ca8-f532a69672dd"
      },
      "source": [
        "plt.hist2d(x, y, bins=30, cmap='Blues')\n",
        "cb = plt.colorbar()\n",
        "cb.set_label('counts in bin')"
      ],
      "execution_count": null,
      "outputs": [
        {
          "output_type": "display_data",
          "data": {
            "image/png": "[encoded data removed]",
            "text/plain": [
              "<Figure size 432x288 with 2 Axes>"
            ]
          },
          "metadata": {
            "tags": [],
            "needs_background": "light"
          }
        }
      ]
    },
    {
      "cell_type": "code",
      "metadata": {
        "id": "rP1qwtt1qfCC",
        "colab": {
          "base_uri": "https://localhost:8080/",
          "height": 352
        },
        "outputId": "e904bd18-001f-49f3-949b-1ad6015bfd09"
      },
      "source": [
        "sns.distplot(dem['Primary %'])"
      ],
      "execution_count": null,
      "outputs": [
        {
          "output_type": "stream",
          "text": [
            "/usr/local/lib/python3.7/dist-packages/seaborn/distributions.py:2557: FutureWarning: `distplot` is a deprecated function and will be removed in a future version. Please adapt your code to use either `displot` (a figure-level function with similar flexibility) or `histplot` (an axes-level function for histograms).\n",
            "  warnings.warn(msg, FutureWarning)\n"
          ],
          "name": "stderr"
        },
        {
          "output_type": "execute_result",
          "data": {
            "text/plain": [
              "<matplotlib.axes._subplots.AxesSubplot at 0x7f56b47f4150>"
            ]
          },
          "metadata": {
            "tags": []
          },
          "execution_count": 53
        },
        {
          "output_type": "display_data",
          "data": {
            "image/png": "[encoded data removed]",
            "text/plain": [
              "<Figure size 432x288 with 1 Axes>"
            ]
          },
          "metadata": {
            "tags": [],
            "needs_background": "light"
          }
        }
      ]
    },
    {
      "cell_type": "code",
      "metadata": {
        "id": "UcZQOTvDr3A6",
        "colab": {
          "base_uri": "https://localhost:8080/",
          "height": 278
        },
        "outputId": "b2457aa2-a872-49e0-a867-731f00fd2844"
      },
      "source": [
        "plt.hist(rep['Primary %'])\n",
        "plt.xlabel('Republican Primary %')\n",
        "plt.show()"
      ],
      "execution_count": null,
      "outputs": [
        {
          "output_type": "display_data",
          "data": {
            "image/png": "[encoded data removed]",
            "text/plain": [
              "<Figure size 432x288 with 1 Axes>"
            ]
          },
          "metadata": {
            "tags": [],
            "needs_background": "light"
          }
        }
      ]
    },
    {
      "cell_type": "code",
      "metadata": {
        "id": "COoO5nSssFto",
        "colab": {
          "base_uri": "https://localhost:8080/",
          "height": 352
        },
        "outputId": "48f6f5e9-fa3f-44a5-8147-eea2a646be5b"
      },
      "source": [
        "sns.distplot(rep['Primary %'])"
      ],
      "execution_count": null,
      "outputs": [
        {
          "output_type": "stream",
          "text": [
            "/usr/local/lib/python3.7/dist-packages/seaborn/distributions.py:2557: FutureWarning: `distplot` is a deprecated function and will be removed in a future version. Please adapt your code to use either `displot` (a figure-level function with similar flexibility) or `histplot` (an axes-level function for histograms).\n",
            "  warnings.warn(msg, FutureWarning)\n"
          ],
          "name": "stderr"
        },
        {
          "output_type": "execute_result",
          "data": {
            "text/plain": [
              "<matplotlib.axes._subplots.AxesSubplot at 0x7f56b2700790>"
            ]
          },
          "metadata": {
            "tags": []
          },
          "execution_count": 55
        },
        {
          "output_type": "display_data",
          "data": {
            "image/png": "[encoded data removed]",
            "text/plain": [
              "<Figure size 432x288 with 1 Axes>"
            ]
          },
          "metadata": {
            "tags": [],
            "needs_background": "light"
          }
        }
      ]
    },
    {
      "cell_type": "code",
      "metadata": {
        "id": "smsrnrVpsKZp",
        "colab": {
          "base_uri": "https://localhost:8080/"
        },
        "outputId": "bbd5c1a6-5d3e-4e9b-bbab-0f32233ada1a"
      },
      "source": [
        "# 0.0 is No and 1.0 is Yes\n",
        "dem['Biden Endorsed?'].value_counts()"
      ],
      "execution_count": null,
      "outputs": [
        {
          "output_type": "execute_result",
          "data": {
            "text/plain": [
              "0.0    801\n",
              "1.0     10\n",
              "Name: Biden Endorsed?, dtype: int64"
            ]
          },
          "metadata": {
            "tags": []
          },
          "execution_count": 56
        }
      ]
    },
    {
      "cell_type": "code",
      "metadata": {
        "id": "4NgaXv3ttgUT",
        "colab": {
          "base_uri": "https://localhost:8080/"
        },
        "outputId": "3d708052-4bb1-401b-aa8d-e74a097426ad"
      },
      "source": [
        "# 0.0 is No and 1.0 is Yes\n",
        "dem['Sanders Endorsed?'].value_counts()"
      ],
      "execution_count": null,
      "outputs": [
        {
          "output_type": "execute_result",
          "data": {
            "text/plain": [
              "0.0    802\n",
              "1.0      9\n",
              "Name: Sanders Endorsed?, dtype: int64"
            ]
          },
          "metadata": {
            "tags": []
          },
          "execution_count": 57
        }
      ]
    },
    {
      "cell_type": "code",
      "metadata": {
        "id": "ejOLL2mnt2uM",
        "colab": {
          "base_uri": "https://localhost:8080/"
        },
        "outputId": "dccebca3-1cfa-49a2-9ac0-229ea10e866f"
      },
      "source": [
        "rep['Trump Endorsed?']"
      ],
      "execution_count": null,
      "outputs": [
        {
          "output_type": "execute_result",
          "data": {
            "text/plain": [
              "0      0.0\n",
              "1      0.0\n",
              "2      0.0\n",
              "3      0.0\n",
              "4      0.0\n",
              "      ... \n",
              "769    0.0\n",
              "770    0.0\n",
              "771    0.0\n",
              "772    1.0\n",
              "773    0.0\n",
              "Name: Trump Endorsed?, Length: 774, dtype: float64"
            ]
          },
          "metadata": {
            "tags": []
          },
          "execution_count": 58
        }
      ]
    },
    {
      "cell_type": "code",
      "metadata": {
        "id": "MhOBdEg8t9EI",
        "colab": {
          "base_uri": "https://localhost:8080/"
        },
        "outputId": "bbbe492e-4ad0-4a9c-a80a-e8034c52579c"
      },
      "source": [
        "rep['Bannon Endorsed?'].value_counts()"
      ],
      "execution_count": null,
      "outputs": [
        {
          "output_type": "execute_result",
          "data": {
            "text/plain": [
              "0.0    766\n",
              "1.0      8\n",
              "Name: Bannon Endorsed?, dtype: int64"
            ]
          },
          "metadata": {
            "tags": []
          },
          "execution_count": 59
        }
      ]
    },
    {
      "cell_type": "code",
      "metadata": {
        "id": "NXA_Jq9TuUh_",
        "colab": {
          "base_uri": "https://localhost:8080/"
        },
        "outputId": "c94347ab-0846-44e6-ce80-33549f74c691"
      },
      "source": [
        "# 0.0 is No and 1.0 is Yes\n",
        "dem['Won Primary'].value_counts()"
      ],
      "execution_count": null,
      "outputs": [
        {
          "output_type": "execute_result",
          "data": {
            "text/plain": [
              "0.0    572\n",
              "1.0    239\n",
              "Name: Won Primary, dtype: int64"
            ]
          },
          "metadata": {
            "tags": []
          },
          "execution_count": 60
        }
      ]
    },
    {
      "cell_type": "code",
      "metadata": {
        "id": "Hni6e-Pkuckw",
        "colab": {
          "base_uri": "https://localhost:8080/"
        },
        "outputId": "4bfa70cc-8df7-487e-9b3a-2c3e95d2a9e7"
      },
      "source": [
        "rep['Won Primary'].value_counts()"
      ],
      "execution_count": null,
      "outputs": [
        {
          "output_type": "execute_result",
          "data": {
            "text/plain": [
              "0    529\n",
              "1    245\n",
              "Name: Won Primary, dtype: int64"
            ]
          },
          "metadata": {
            "tags": []
          },
          "execution_count": 61
        }
      ]
    },
    {
      "cell_type": "code",
      "metadata": {
        "id": "fivMP6UQwwIX",
        "colab": {
          "base_uri": "https://localhost:8080/"
        },
        "outputId": "fbb406a4-b700-494f-d673-503a50796272"
      },
      "source": [
        "dem['Self-Funder?'].value_counts()"
      ],
      "execution_count": null,
      "outputs": [
        {
          "output_type": "execute_result",
          "data": {
            "text/plain": [
              "0    768\n",
              "1     43\n",
              "Name: Self-Funder?, dtype: int64"
            ]
          },
          "metadata": {
            "tags": []
          },
          "execution_count": 62
        }
      ]
    },
    {
      "cell_type": "code",
      "metadata": {
        "id": "IGIBSZGp0SE5",
        "colab": {
          "base_uri": "https://localhost:8080/"
        },
        "outputId": "8c58a4f6-2aa7-4699-9aa9-8a572ef5b514"
      },
      "source": [
        "rep['House Freedom Support?'].value_counts()"
      ],
      "execution_count": null,
      "outputs": [
        {
          "output_type": "execute_result",
          "data": {
            "text/plain": [
              "0.0    760\n",
              "1.0     14\n",
              "Name: House Freedom Support?, dtype: int64"
            ]
          },
          "metadata": {
            "tags": []
          },
          "execution_count": 63
        }
      ]
    },
    {
      "cell_type": "markdown",
      "metadata": {
        "id": "SrURQnCTnvqy"
      },
      "source": [
        "### **EDA for Question 1**"
      ]
    },
    {
      "cell_type": "code",
      "metadata": {
        "id": "G00m8jAE0Wo0",
        "colab": {
          "base_uri": "https://localhost:8080/",
          "height": 760
        },
        "outputId": "8ea9b5b7-2553-4c27-833d-a193117687b1"
      },
      "source": [
        "data_summary = pd.read_csv('candidate_summary_2018.csv')\n",
        "data_summary"
      ],
      "execution_count": null,
      "outputs": [
        {
          "output_type": "execute_result",
          "data": {
            "text/html": [
              "<div>\n",
              "<style scoped>\n",
              "    .dataframe tbody tr th:only-of-type {\n",
              "        vertical-align: middle;\n",
              "    }\n",
              "\n",
              "    .dataframe tbody tr th {\n",
              "        vertical-align: top;\n",
              "    }\n",
              "\n",
              "    .dataframe thead th {\n",
              "        text-align: right;\n",
              "    }\n",
              "</style>\n",
              "<table border=\"1\" class=\"dataframe\">\n",
              "  <thead>\n",
              "    <tr style=\"text-align: right;\">\n",
              "      <th></th>\n",
              "      <th>Link_Image</th>\n",
              "      <th>Cand_Name</th>\n",
              "      <th>Cand_Id</th>\n",
              "      <th>Cand_Office</th>\n",
              "      <th>Cand_Office_St</th>\n",
              "      <th>Cand_Office_Dist</th>\n",
              "      <th>Cand_Party_Affiliation</th>\n",
              "      <th>Cand_Incumbent_Challenger_Open_Seat</th>\n",
              "      <th>Total_Receipt</th>\n",
              "      <th>Total_Disbursement</th>\n",
              "      <th>Cash_On_Hand_COP</th>\n",
              "      <th>Debt_Owed_By_Committee</th>\n",
              "      <th>Coverage_End_Date</th>\n",
              "      <th>Cand_Street_1</th>\n",
              "      <th>Cand_Street_2</th>\n",
              "      <th>Cand_City</th>\n",
              "      <th>Cand_State</th>\n",
              "      <th>Cand_Zip</th>\n",
              "      <th>Individual_Itemized_Contribution</th>\n",
              "      <th>Individual_Unitemized_Contribution</th>\n",
              "      <th>Individual_Contribution</th>\n",
              "      <th>Other_Committee_Contribution</th>\n",
              "      <th>Party_Committee_Contribution</th>\n",
              "      <th>Cand_Contribution</th>\n",
              "      <th>Total_Contribution</th>\n",
              "      <th>Transfer_From_Other_Auth_Committee</th>\n",
              "      <th>Cand_Loan</th>\n",
              "      <th>Other_Loan</th>\n",
              "      <th>Total_Loan</th>\n",
              "      <th>Offsets_To_Operating_Expenditure</th>\n",
              "      <th>Offsets_To_Fundraising</th>\n",
              "      <th>Offsets_To_Leagal_Accounting</th>\n",
              "      <th>Other_Receipts</th>\n",
              "      <th>Operating_Expenditure</th>\n",
              "      <th>Exempt_Legal_Accounting_Disbursement</th>\n",
              "      <th>Fundraising_Disbursement</th>\n",
              "      <th>Transfer_To_Other_Auth_Committee</th>\n",
              "      <th>Cand_Loan_Repayment</th>\n",
              "      <th>Other_Loan_Repayment</th>\n",
              "      <th>Total_Loan_Repayment</th>\n",
              "      <th>Individual_Refund</th>\n",
              "      <th>Party_Committee_Refund</th>\n",
              "      <th>Other_Committee_Refund</th>\n",
              "      <th>Total_Contribution_Refund</th>\n",
              "      <th>Other_Disbursements</th>\n",
              "      <th>Net_Contribution</th>\n",
              "      <th>Net_Operating_Expenditure</th>\n",
              "      <th>Cash_On_Hand_BOP</th>\n",
              "      <th>Debt_Owe_To_Committee</th>\n",
              "      <th>Coverage_Start_Date</th>\n",
              "    </tr>\n",
              "  </thead>\n",
              "  <tbody>\n",
              "    <tr>\n",
              "      <th>0</th>\n",
              "      <td>https://www.fec.gov/data/candidate/H8TX05052/?...</td>\n",
              "      <td>ASHBY, KEN</td>\n",
              "      <td>H8TX05052</td>\n",
              "      <td>H</td>\n",
              "      <td>TX</td>\n",
              "      <td>4.0</td>\n",
              "      <td>LIB</td>\n",
              "      <td>CHALLENGER</td>\n",
              "      <td>0.00</td>\n",
              "      <td>0.00</td>\n",
              "      <td>0.00</td>\n",
              "      <td>0.0</td>\n",
              "      <td>NaN</td>\n",
              "      <td>11837 LOCHWOOD BOULEVARD</td>\n",
              "      <td>NaN</td>\n",
              "      <td>DALLAS</td>\n",
              "      <td>TX</td>\n",
              "      <td>75218.0</td>\n",
              "      <td>0.00</td>\n",
              "      <td>0.00</td>\n",
              "      <td>0.00</td>\n",
              "      <td>0.00</td>\n",
              "      <td>0.00</td>\n",
              "      <td>0.00</td>\n",
              "      <td>0.00</td>\n",
              "      <td>0.0</td>\n",
              "      <td>0.00</td>\n",
              "      <td>0.0</td>\n",
              "      <td>0.00</td>\n",
              "      <td>0.00</td>\n",
              "      <td>0</td>\n",
              "      <td>0</td>\n",
              "      <td>0.00</td>\n",
              "      <td>0.00</td>\n",
              "      <td>0.0</td>\n",
              "      <td>0.0</td>\n",
              "      <td>0.0</td>\n",
              "      <td>0.0</td>\n",
              "      <td>0.0</td>\n",
              "      <td>0.0</td>\n",
              "      <td>0.0</td>\n",
              "      <td>0.0</td>\n",
              "      <td>0.0</td>\n",
              "      <td>0.0</td>\n",
              "      <td>0.00</td>\n",
              "      <td>0.00</td>\n",
              "      <td>0.00</td>\n",
              "      <td>0.00</td>\n",
              "      <td>0.0</td>\n",
              "      <td>NaN</td>\n",
              "    </tr>\n",
              "    <tr>\n",
              "      <th>1</th>\n",
              "      <td>https://www.fec.gov/data/candidate/S6OH00288/?...</td>\n",
              "      <td>ECKHART, DON ELIJAH</td>\n",
              "      <td>S6OH00288</td>\n",
              "      <td>S</td>\n",
              "      <td>OH</td>\n",
              "      <td>0.0</td>\n",
              "      <td>REP</td>\n",
              "      <td>CHALLENGER</td>\n",
              "      <td>0.00</td>\n",
              "      <td>0.00</td>\n",
              "      <td>0.00</td>\n",
              "      <td>0.0</td>\n",
              "      <td>NaN</td>\n",
              "      <td>,</td>\n",
              "      <td>NaN</td>\n",
              "      <td>,</td>\n",
              "      <td>OH</td>\n",
              "      <td>43119.0</td>\n",
              "      <td>0.00</td>\n",
              "      <td>0.00</td>\n",
              "      <td>0.00</td>\n",
              "      <td>0.00</td>\n",
              "      <td>0.00</td>\n",
              "      <td>0.00</td>\n",
              "      <td>0.00</td>\n",
              "      <td>0.0</td>\n",
              "      <td>0.00</td>\n",
              "      <td>0.0</td>\n",
              "      <td>0.00</td>\n",
              "      <td>0.00</td>\n",
              "      <td>0</td>\n",
              "      <td>0</td>\n",
              "      <td>0.00</td>\n",
              "      <td>0.00</td>\n",
              "      <td>0.0</td>\n",
              "      <td>0.0</td>\n",
              "      <td>0.0</td>\n",
              "      <td>0.0</td>\n",
              "      <td>0.0</td>\n",
              "      <td>0.0</td>\n",
              "      <td>0.0</td>\n",
              "      <td>0.0</td>\n",
              "      <td>0.0</td>\n",
              "      <td>0.0</td>\n",
              "      <td>0.00</td>\n",
              "      <td>0.00</td>\n",
              "      <td>0.00</td>\n",
              "      <td>0.00</td>\n",
              "      <td>0.0</td>\n",
              "      <td>NaN</td>\n",
              "    </tr>\n",
              "    <tr>\n",
              "      <th>2</th>\n",
              "      <td>https://www.fec.gov/data/candidate/S8CA00499/?...</td>\n",
              "      <td>ZIESING, MICHAEL VINCENT</td>\n",
              "      <td>S8CA00499</td>\n",
              "      <td>S</td>\n",
              "      <td>CA</td>\n",
              "      <td>0.0</td>\n",
              "      <td>GRE</td>\n",
              "      <td>CHALLENGER</td>\n",
              "      <td>0.00</td>\n",
              "      <td>0.00</td>\n",
              "      <td>0.00</td>\n",
              "      <td>0.0</td>\n",
              "      <td>NaN</td>\n",
              "      <td>1220 ALOHA ST</td>\n",
              "      <td>NaN</td>\n",
              "      <td>RED BLUFF</td>\n",
              "      <td>CA</td>\n",
              "      <td>96080.0</td>\n",
              "      <td>0.00</td>\n",
              "      <td>0.00</td>\n",
              "      <td>0.00</td>\n",
              "      <td>0.00</td>\n",
              "      <td>0.00</td>\n",
              "      <td>0.00</td>\n",
              "      <td>0.00</td>\n",
              "      <td>0.0</td>\n",
              "      <td>0.00</td>\n",
              "      <td>0.0</td>\n",
              "      <td>0.00</td>\n",
              "      <td>0.00</td>\n",
              "      <td>0</td>\n",
              "      <td>0</td>\n",
              "      <td>0.00</td>\n",
              "      <td>0.00</td>\n",
              "      <td>0.0</td>\n",
              "      <td>0.0</td>\n",
              "      <td>0.0</td>\n",
              "      <td>0.0</td>\n",
              "      <td>0.0</td>\n",
              "      <td>0.0</td>\n",
              "      <td>0.0</td>\n",
              "      <td>0.0</td>\n",
              "      <td>0.0</td>\n",
              "      <td>0.0</td>\n",
              "      <td>0.00</td>\n",
              "      <td>0.00</td>\n",
              "      <td>0.00</td>\n",
              "      <td>0.00</td>\n",
              "      <td>0.0</td>\n",
              "      <td>NaN</td>\n",
              "    </tr>\n",
              "    <tr>\n",
              "      <th>3</th>\n",
              "      <td>https://www.fec.gov/data/candidate/H6NJ13191/?...</td>\n",
              "      <td>SIRES, ALBIO</td>\n",
              "      <td>H6NJ13191</td>\n",
              "      <td>H</td>\n",
              "      <td>NJ</td>\n",
              "      <td>8.0</td>\n",
              "      <td>DEM</td>\n",
              "      <td>INCUMBENT</td>\n",
              "      <td>460108.57</td>\n",
              "      <td>596546.56</td>\n",
              "      <td>158849.09</td>\n",
              "      <td>0.0</td>\n",
              "      <td>12/31/2018</td>\n",
              "      <td>6050 BOULEVARD EAST</td>\n",
              "      <td>APT 6B</td>\n",
              "      <td>WEST NEW YORK</td>\n",
              "      <td>NJ</td>\n",
              "      <td>7093.0</td>\n",
              "      <td>161321.54</td>\n",
              "      <td>1848.84</td>\n",
              "      <td>163170.38</td>\n",
              "      <td>296686.67</td>\n",
              "      <td>0.00</td>\n",
              "      <td>0.00</td>\n",
              "      <td>459857.05</td>\n",
              "      <td>0.0</td>\n",
              "      <td>0.00</td>\n",
              "      <td>0.0</td>\n",
              "      <td>0.00</td>\n",
              "      <td>0.00</td>\n",
              "      <td>0</td>\n",
              "      <td>0</td>\n",
              "      <td>251.52</td>\n",
              "      <td>437542.51</td>\n",
              "      <td>0.0</td>\n",
              "      <td>0.0</td>\n",
              "      <td>60000.0</td>\n",
              "      <td>0.0</td>\n",
              "      <td>0.0</td>\n",
              "      <td>0.0</td>\n",
              "      <td>0.0</td>\n",
              "      <td>0.0</td>\n",
              "      <td>500.0</td>\n",
              "      <td>500.0</td>\n",
              "      <td>98504.05</td>\n",
              "      <td>459357.05</td>\n",
              "      <td>437542.51</td>\n",
              "      <td>290287.08</td>\n",
              "      <td>0.0</td>\n",
              "      <td>01/01/2017</td>\n",
              "    </tr>\n",
              "    <tr>\n",
              "      <th>4</th>\n",
              "      <td>https://www.fec.gov/data/candidate/H6MI03172/?...</td>\n",
              "      <td>SMITH, DOUGLAS MARK MR. JR.</td>\n",
              "      <td>H6MI03172</td>\n",
              "      <td>H</td>\n",
              "      <td>MI</td>\n",
              "      <td>3.0</td>\n",
              "      <td>IND</td>\n",
              "      <td>CHALLENGER</td>\n",
              "      <td>0.00</td>\n",
              "      <td>3873.60</td>\n",
              "      <td>0.00</td>\n",
              "      <td>0.0</td>\n",
              "      <td>12/31/2018</td>\n",
              "      <td>1410 SCOTT CREEK DR.</td>\n",
              "      <td>NaN</td>\n",
              "      <td>BELMONT</td>\n",
              "      <td>MI</td>\n",
              "      <td>49306.0</td>\n",
              "      <td>0.00</td>\n",
              "      <td>0.00</td>\n",
              "      <td>0.00</td>\n",
              "      <td>0.00</td>\n",
              "      <td>0.00</td>\n",
              "      <td>0.00</td>\n",
              "      <td>0.00</td>\n",
              "      <td>0.0</td>\n",
              "      <td>0.00</td>\n",
              "      <td>0.0</td>\n",
              "      <td>0.00</td>\n",
              "      <td>0.00</td>\n",
              "      <td>0</td>\n",
              "      <td>0</td>\n",
              "      <td>0.00</td>\n",
              "      <td>3873.60</td>\n",
              "      <td>0.0</td>\n",
              "      <td>0.0</td>\n",
              "      <td>0.0</td>\n",
              "      <td>0.0</td>\n",
              "      <td>0.0</td>\n",
              "      <td>0.0</td>\n",
              "      <td>0.0</td>\n",
              "      <td>0.0</td>\n",
              "      <td>0.0</td>\n",
              "      <td>0.0</td>\n",
              "      <td>0.00</td>\n",
              "      <td>0.00</td>\n",
              "      <td>3873.60</td>\n",
              "      <td>3873.60</td>\n",
              "      <td>0.0</td>\n",
              "      <td>01/01/2017</td>\n",
              "    </tr>\n",
              "    <tr>\n",
              "      <th>...</th>\n",
              "      <td>...</td>\n",
              "      <td>...</td>\n",
              "      <td>...</td>\n",
              "      <td>...</td>\n",
              "      <td>...</td>\n",
              "      <td>...</td>\n",
              "      <td>...</td>\n",
              "      <td>...</td>\n",
              "      <td>...</td>\n",
              "      <td>...</td>\n",
              "      <td>...</td>\n",
              "      <td>...</td>\n",
              "      <td>...</td>\n",
              "      <td>...</td>\n",
              "      <td>...</td>\n",
              "      <td>...</td>\n",
              "      <td>...</td>\n",
              "      <td>...</td>\n",
              "      <td>...</td>\n",
              "      <td>...</td>\n",
              "      <td>...</td>\n",
              "      <td>...</td>\n",
              "      <td>...</td>\n",
              "      <td>...</td>\n",
              "      <td>...</td>\n",
              "      <td>...</td>\n",
              "      <td>...</td>\n",
              "      <td>...</td>\n",
              "      <td>...</td>\n",
              "      <td>...</td>\n",
              "      <td>...</td>\n",
              "      <td>...</td>\n",
              "      <td>...</td>\n",
              "      <td>...</td>\n",
              "      <td>...</td>\n",
              "      <td>...</td>\n",
              "      <td>...</td>\n",
              "      <td>...</td>\n",
              "      <td>...</td>\n",
              "      <td>...</td>\n",
              "      <td>...</td>\n",
              "      <td>...</td>\n",
              "      <td>...</td>\n",
              "      <td>...</td>\n",
              "      <td>...</td>\n",
              "      <td>...</td>\n",
              "      <td>...</td>\n",
              "      <td>...</td>\n",
              "      <td>...</td>\n",
              "      <td>...</td>\n",
              "    </tr>\n",
              "    <tr>\n",
              "      <th>3794</th>\n",
              "      <td>https://www.fec.gov/data/candidate/H6OH04082/?...</td>\n",
              "      <td>JORDAN, JAMES D.</td>\n",
              "      <td>H6OH04082</td>\n",
              "      <td>H</td>\n",
              "      <td>OH</td>\n",
              "      <td>4.0</td>\n",
              "      <td>REP</td>\n",
              "      <td>INCUMBENT</td>\n",
              "      <td>1241417.36</td>\n",
              "      <td>1809464.13</td>\n",
              "      <td>745640.94</td>\n",
              "      <td>0.0</td>\n",
              "      <td>12/31/2018</td>\n",
              "      <td>1709 SOUTH STATE ROUTE 560</td>\n",
              "      <td>NaN</td>\n",
              "      <td>URBANA</td>\n",
              "      <td>OH</td>\n",
              "      <td>43078.0</td>\n",
              "      <td>560189.00</td>\n",
              "      <td>350028.82</td>\n",
              "      <td>910217.82</td>\n",
              "      <td>306389.77</td>\n",
              "      <td>5000.00</td>\n",
              "      <td>0.00</td>\n",
              "      <td>1221607.59</td>\n",
              "      <td>0.0</td>\n",
              "      <td>0.00</td>\n",
              "      <td>0.0</td>\n",
              "      <td>0.00</td>\n",
              "      <td>72.15</td>\n",
              "      <td>0</td>\n",
              "      <td>0</td>\n",
              "      <td>19737.62</td>\n",
              "      <td>1599257.13</td>\n",
              "      <td>0.0</td>\n",
              "      <td>0.0</td>\n",
              "      <td>35000.0</td>\n",
              "      <td>0.0</td>\n",
              "      <td>0.0</td>\n",
              "      <td>0.0</td>\n",
              "      <td>11057.0</td>\n",
              "      <td>0.0</td>\n",
              "      <td>150.0</td>\n",
              "      <td>11207.0</td>\n",
              "      <td>164000.00</td>\n",
              "      <td>1210400.59</td>\n",
              "      <td>1599184.98</td>\n",
              "      <td>1313687.71</td>\n",
              "      <td>0.0</td>\n",
              "      <td>01/01/2017</td>\n",
              "    </tr>\n",
              "    <tr>\n",
              "      <th>3795</th>\n",
              "      <td>https://www.fec.gov/data/candidate/H8NY27176/?...</td>\n",
              "      <td>MCMURRAY, NATHAN DOUGLAS</td>\n",
              "      <td>H8NY27176</td>\n",
              "      <td>H</td>\n",
              "      <td>NY</td>\n",
              "      <td>27.0</td>\n",
              "      <td>DEM</td>\n",
              "      <td>OPEN</td>\n",
              "      <td>1387653.64</td>\n",
              "      <td>1364110.33</td>\n",
              "      <td>23543.31</td>\n",
              "      <td>0.0</td>\n",
              "      <td>12/31/2018</td>\n",
              "      <td>1041 FOXCROFT</td>\n",
              "      <td>NaN</td>\n",
              "      <td>GRAND ISLAND</td>\n",
              "      <td>NY</td>\n",
              "      <td>14072.0</td>\n",
              "      <td>629591.23</td>\n",
              "      <td>527391.94</td>\n",
              "      <td>1156983.17</td>\n",
              "      <td>151065.00</td>\n",
              "      <td>48163.31</td>\n",
              "      <td>1900.00</td>\n",
              "      <td>1358111.48</td>\n",
              "      <td>0.0</td>\n",
              "      <td>18000.00</td>\n",
              "      <td>0.0</td>\n",
              "      <td>18000.00</td>\n",
              "      <td>587.75</td>\n",
              "      <td>0</td>\n",
              "      <td>0</td>\n",
              "      <td>10954.41</td>\n",
              "      <td>1342096.72</td>\n",
              "      <td>0.0</td>\n",
              "      <td>0.0</td>\n",
              "      <td>0.0</td>\n",
              "      <td>18000.0</td>\n",
              "      <td>0.0</td>\n",
              "      <td>18000.0</td>\n",
              "      <td>3252.5</td>\n",
              "      <td>0.0</td>\n",
              "      <td>0.0</td>\n",
              "      <td>3252.5</td>\n",
              "      <td>761.11</td>\n",
              "      <td>1354858.98</td>\n",
              "      <td>1341508.97</td>\n",
              "      <td>0.00</td>\n",
              "      <td>0.0</td>\n",
              "      <td>01/01/2018</td>\n",
              "    </tr>\n",
              "    <tr>\n",
              "      <th>3796</th>\n",
              "      <td>https://www.fec.gov/data/candidate/H8IN06152/?...</td>\n",
              "      <td>LAKE, JEANNINE LEE</td>\n",
              "      <td>H8IN06152</td>\n",
              "      <td>H</td>\n",
              "      <td>IN</td>\n",
              "      <td>6.0</td>\n",
              "      <td>DEM</td>\n",
              "      <td>OPEN</td>\n",
              "      <td>100644.90</td>\n",
              "      <td>101754.84</td>\n",
              "      <td>50.58</td>\n",
              "      <td>0.0</td>\n",
              "      <td>12/31/2018</td>\n",
              "      <td>5300 NORTH CO. ROAD 500 WEST</td>\n",
              "      <td>NaN</td>\n",
              "      <td>MUNICE</td>\n",
              "      <td>IN</td>\n",
              "      <td>47304.0</td>\n",
              "      <td>37970.87</td>\n",
              "      <td>51484.23</td>\n",
              "      <td>89455.10</td>\n",
              "      <td>3415.29</td>\n",
              "      <td>370.04</td>\n",
              "      <td>898.27</td>\n",
              "      <td>94138.70</td>\n",
              "      <td>0.0</td>\n",
              "      <td>6216.66</td>\n",
              "      <td>0.0</td>\n",
              "      <td>6216.66</td>\n",
              "      <td>289.54</td>\n",
              "      <td>0</td>\n",
              "      <td>0</td>\n",
              "      <td>0.00</td>\n",
              "      <td>99183.84</td>\n",
              "      <td>0.0</td>\n",
              "      <td>0.0</td>\n",
              "      <td>200.0</td>\n",
              "      <td>0.0</td>\n",
              "      <td>0.0</td>\n",
              "      <td>0.0</td>\n",
              "      <td>2371.0</td>\n",
              "      <td>0.0</td>\n",
              "      <td>0.0</td>\n",
              "      <td>2371.0</td>\n",
              "      <td>0.00</td>\n",
              "      <td>91767.70</td>\n",
              "      <td>98894.30</td>\n",
              "      <td>100.00</td>\n",
              "      <td>0.0</td>\n",
              "      <td>07/04/2017</td>\n",
              "    </tr>\n",
              "    <tr>\n",
              "      <th>3797</th>\n",
              "      <td>https://www.fec.gov/data/candidate/H8MD01177/?...</td>\n",
              "      <td>GALBRAITH, ALLISON MS.</td>\n",
              "      <td>H8MD01177</td>\n",
              "      <td>H</td>\n",
              "      <td>MD</td>\n",
              "      <td>1.0</td>\n",
              "      <td>DEM</td>\n",
              "      <td>CHALLENGER</td>\n",
              "      <td>110517.66</td>\n",
              "      <td>110197.68</td>\n",
              "      <td>319.98</td>\n",
              "      <td>350.0</td>\n",
              "      <td>12/31/2018</td>\n",
              "      <td>PO BOX 25</td>\n",
              "      <td>NaN</td>\n",
              "      <td>FALLSTON</td>\n",
              "      <td>MD</td>\n",
              "      <td>21047.0</td>\n",
              "      <td>33834.61</td>\n",
              "      <td>76231.05</td>\n",
              "      <td>110065.66</td>\n",
              "      <td>0.00</td>\n",
              "      <td>0.00</td>\n",
              "      <td>102.00</td>\n",
              "      <td>110167.66</td>\n",
              "      <td>0.0</td>\n",
              "      <td>350.00</td>\n",
              "      <td>0.0</td>\n",
              "      <td>350.00</td>\n",
              "      <td>0.00</td>\n",
              "      <td>0</td>\n",
              "      <td>0</td>\n",
              "      <td>0.00</td>\n",
              "      <td>110197.68</td>\n",
              "      <td>0.0</td>\n",
              "      <td>0.0</td>\n",
              "      <td>0.0</td>\n",
              "      <td>0.0</td>\n",
              "      <td>0.0</td>\n",
              "      <td>0.0</td>\n",
              "      <td>0.0</td>\n",
              "      <td>0.0</td>\n",
              "      <td>0.0</td>\n",
              "      <td>0.0</td>\n",
              "      <td>0.00</td>\n",
              "      <td>110167.66</td>\n",
              "      <td>110197.68</td>\n",
              "      <td>0.00</td>\n",
              "      <td>0.0</td>\n",
              "      <td>04/01/2017</td>\n",
              "    </tr>\n",
              "    <tr>\n",
              "      <th>3798</th>\n",
              "      <td>https://www.fec.gov/data/candidate/H8CO06294/?...</td>\n",
              "      <td>KULIKOWSKI, JAIMIE BLACKLIGHT POLISH J</td>\n",
              "      <td>H8CO06294</td>\n",
              "      <td>H</td>\n",
              "      <td>CO</td>\n",
              "      <td>6.0</td>\n",
              "      <td>REP</td>\n",
              "      <td>CHALLENGER</td>\n",
              "      <td>119858.75</td>\n",
              "      <td>0.00</td>\n",
              "      <td>60500.00</td>\n",
              "      <td>0.0</td>\n",
              "      <td>12/31/2018</td>\n",
              "      <td>1191 S YOSEMITE WAY</td>\n",
              "      <td>UNIT 45</td>\n",
              "      <td>DENVER</td>\n",
              "      <td>CO</td>\n",
              "      <td>80247.0</td>\n",
              "      <td>0.00</td>\n",
              "      <td>0.00</td>\n",
              "      <td>0.00</td>\n",
              "      <td>0.00</td>\n",
              "      <td>0.00</td>\n",
              "      <td>119858.75</td>\n",
              "      <td>119858.75</td>\n",
              "      <td>0.0</td>\n",
              "      <td>0.00</td>\n",
              "      <td>0.0</td>\n",
              "      <td>0.00</td>\n",
              "      <td>0.00</td>\n",
              "      <td>0</td>\n",
              "      <td>0</td>\n",
              "      <td>0.00</td>\n",
              "      <td>0.00</td>\n",
              "      <td>0.0</td>\n",
              "      <td>0.0</td>\n",
              "      <td>0.0</td>\n",
              "      <td>0.0</td>\n",
              "      <td>0.0</td>\n",
              "      <td>0.0</td>\n",
              "      <td>0.0</td>\n",
              "      <td>0.0</td>\n",
              "      <td>0.0</td>\n",
              "      <td>0.0</td>\n",
              "      <td>0.00</td>\n",
              "      <td>119858.75</td>\n",
              "      <td>0.00</td>\n",
              "      <td>0.00</td>\n",
              "      <td>0.0</td>\n",
              "      <td>07/01/2018</td>\n",
              "    </tr>\n",
              "  </tbody>\n",
              "</table>\n",
              "<p>3799 rows × 50 columns</p>\n",
              "</div>"
            ],
            "text/plain": [
              "                                             Link_Image  ... Coverage_Start_Date\n",
              "0     https://www.fec.gov/data/candidate/H8TX05052/?...  ...                 NaN\n",
              "1     https://www.fec.gov/data/candidate/S6OH00288/?...  ...                 NaN\n",
              "2     https://www.fec.gov/data/candidate/S8CA00499/?...  ...                 NaN\n",
              "3     https://www.fec.gov/data/candidate/H6NJ13191/?...  ...          01/01/2017\n",
              "4     https://www.fec.gov/data/candidate/H6MI03172/?...  ...          01/01/2017\n",
              "...                                                 ...  ...                 ...\n",
              "3794  https://www.fec.gov/data/candidate/H6OH04082/?...  ...          01/01/2017\n",
              "3795  https://www.fec.gov/data/candidate/H8NY27176/?...  ...          01/01/2018\n",
              "3796  https://www.fec.gov/data/candidate/H8IN06152/?...  ...          07/04/2017\n",
              "3797  https://www.fec.gov/data/candidate/H8MD01177/?...  ...          04/01/2017\n",
              "3798  https://www.fec.gov/data/candidate/H8CO06294/?...  ...          07/01/2018\n",
              "\n",
              "[3799 rows x 50 columns]"
            ]
          },
          "metadata": {
            "tags": []
          },
          "execution_count": 64
        }
      ]
    },
    {
      "cell_type": "code",
      "metadata": {
        "id": "hjamZ9xrbLSI",
        "colab": {
          "base_uri": "https://localhost:8080/"
        },
        "outputId": "eba4c8b8-9e81-491f-df60-e21526692cc7"
      },
      "source": [
        "data_summary['Total_Contribution'].max()"
      ],
      "execution_count": null,
      "outputs": [
        {
          "output_type": "execute_result",
          "data": {
            "text/plain": [
              "82898274.69"
            ]
          },
          "metadata": {
            "tags": []
          },
          "execution_count": 65
        }
      ]
    },
    {
      "cell_type": "code",
      "metadata": {
        "id": "hDpXONkFfRW7",
        "colab": {
          "base_uri": "https://localhost:8080/"
        },
        "outputId": "2dafee3a-34b1-4574-88ee-86bec0a6d9c2"
      },
      "source": [
        "data_summary.loc[data_summary['Total_Contribution'] == 82898274.69, 'Cand_Name']"
      ],
      "execution_count": null,
      "outputs": [
        {
          "output_type": "execute_result",
          "data": {
            "text/plain": [
              "3652    SCOTT, RICK GOV\n",
              "Name: Cand_Name, dtype: object"
            ]
          },
          "metadata": {
            "tags": []
          },
          "execution_count": 66
        }
      ]
    },
    {
      "cell_type": "code",
      "metadata": {
        "id": "CHngBntkgBXr",
        "colab": {
          "base_uri": "https://localhost:8080/"
        },
        "outputId": "84f1b799-9589-47e8-d0cb-47ef7d2f8334"
      },
      "source": [
        "data_summary['Total_Contribution'].mean()"
      ],
      "execution_count": null,
      "outputs": [
        {
          "output_type": "execute_result",
          "data": {
            "text/plain": [
              "609429.6149460393"
            ]
          },
          "metadata": {
            "tags": []
          },
          "execution_count": 67
        }
      ]
    },
    {
      "cell_type": "code",
      "metadata": {
        "id": "5XdtP-grggRD",
        "colab": {
          "base_uri": "https://localhost:8080/"
        },
        "outputId": "e619fbdd-32b3-4073-e0e3-4171a44a9b23"
      },
      "source": [
        "count = 0\n",
        "for i in data_summary['Total_Contribution']:\n",
        "  if (data_summary['Total_Contribution'] == 0).any():\n",
        "    count += 1\n",
        "print(count)              "
      ],
      "execution_count": null,
      "outputs": [
        {
          "output_type": "stream",
          "text": [
            "3799\n"
          ],
          "name": "stdout"
        }
      ]
    },
    {
      "cell_type": "code",
      "metadata": {
        "id": "kIt3CZI8kJce",
        "colab": {
          "base_uri": "https://localhost:8080/"
        },
        "outputId": "c37ef7aa-9c2a-4aca-8d0b-ca086fd817ec"
      },
      "source": [
        "data_summary['Cand_Incumbent_Challenger_Open_Seat'].value_counts()"
      ],
      "execution_count": null,
      "outputs": [
        {
          "output_type": "execute_result",
          "data": {
            "text/plain": [
              "CHALLENGER    2359\n",
              "OPEN          1015\n",
              "INCUMBENT      414\n",
              "Name: Cand_Incumbent_Challenger_Open_Seat, dtype: int64"
            ]
          },
          "metadata": {
            "tags": []
          },
          "execution_count": 69
        }
      ]
    },
    {
      "cell_type": "code",
      "metadata": {
        "id": "Ozk9LRJzm9OP",
        "colab": {
          "base_uri": "https://localhost:8080/",
          "height": 278
        },
        "outputId": "16e25eec-e2f8-4178-e4e8-26ffb6f0ee52"
      },
      "source": [
        "plt.hist(data_summary['Total_Contribution'], bins=10, range=[0, 1.25])\n",
        "plt.xlabel('Net Funding')\n",
        "plt.show()"
      ],
      "execution_count": null,
      "outputs": [
        {
          "output_type": "display_data",
          "data": {
            "image/png": "[encoded data removed]",
            "text/plain": [
              "<Figure size 432x288 with 1 Axes>"
            ]
          },
          "metadata": {
            "tags": [],
            "needs_background": "light"
          }
        }
      ]
    },
    {
      "cell_type": "code",
      "metadata": {
        "id": "2cCUBeb1ngx9",
        "colab": {
          "base_uri": "https://localhost:8080/",
          "height": 364
        },
        "outputId": "8bf999f1-d4a4-4fff-ee35-383347530433"
      },
      "source": [
        "sns.distplot(data_summary['Total_Contribution'], bins=30)"
      ],
      "execution_count": null,
      "outputs": [
        {
          "output_type": "stream",
          "text": [
            "/usr/local/lib/python3.7/dist-packages/seaborn/distributions.py:2557: FutureWarning: `distplot` is a deprecated function and will be removed in a future version. Please adapt your code to use either `displot` (a figure-level function with similar flexibility) or `histplot` (an axes-level function for histograms).\n",
            "  warnings.warn(msg, FutureWarning)\n"
          ],
          "name": "stderr"
        },
        {
          "output_type": "execute_result",
          "data": {
            "text/plain": [
              "<matplotlib.axes._subplots.AxesSubplot at 0x7f56b2363d90>"
            ]
          },
          "metadata": {
            "tags": []
          },
          "execution_count": 73
        },
        {
          "output_type": "display_data",
          "data": {
            "image/png": "[encoded data removed]",
            "text/plain": [
              "<Figure size 432x288 with 1 Axes>"
            ]
          },
          "metadata": {
            "tags": [],
            "needs_background": "light"
          }
        }
      ]
    },
    {
      "cell_type": "code",
      "metadata": {
        "id": "uG0s9dvtpdrk"
      },
      "source": [
        ""
      ],
      "execution_count": null,
      "outputs": []
    }
  ]
}